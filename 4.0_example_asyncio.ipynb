{
 "cells": [
  {
   "cell_type": "markdown",
   "metadata": {},
   "source": [
    "# AsyncoIo\n",
    "To effectively utilize Python's asyncio library for asynchronous programming, it's essential to understand its core components: coroutines, event loops, and tasks. These elements enable the writing of concurrent code using the async and await syntax, which is particularly beneficial for I/O-bound operations.\n",
    "\n",
    "### 1. Coroutines:\n",
    "\n",
    "Coroutines are special functions defined with the async def syntax. They can pause their execution at await expressions and resume later, allowing other tasks to run concurrently.\n",
    "\n",
    "Example:"
   ]
  },
  {
   "cell_type": "code",
   "execution_count": null,
   "metadata": {},
   "outputs": [],
   "source": [
    "import asyncio\n",
    "\n",
    "async def say_after(delay, what):\n",
    "    await asyncio.sleep(delay)\n",
    "    print(what)\n"
   ]
  },
  {
   "cell_type": "markdown",
   "metadata": {},
   "source": [
    "### 2. Event Loop:\n",
    "\n",
    "The event loop is the core of every asyncio application. It schedules and runs tasks, handles events, and manages I/O operations.\n",
    "\n",
    "Example:"
   ]
  },
  {
   "cell_type": "code",
   "execution_count": 3,
   "metadata": {},
   "outputs": [
    {
     "name": "stdout",
     "output_type": "stream",
     "text": [
      "Hello\n",
      "World\n"
     ]
    }
   ],
   "source": [
    "import asyncio\n",
    "\n",
    "async def main():\n",
    "    task1 = asyncio.create_task(say_after(1, 'Hello'))\n",
    "    task2 = asyncio.create_task(say_after(2, 'World'))\n",
    "\n",
    "    await task1\n",
    "    await task2\n",
    "\n",
    "if __name__ == '__main__':\n",
    "    # This will work in Jupyter or other async environments\n",
    "    try:\n",
    "        await main()\n",
    "    except RuntimeError as e:\n",
    "        print(\"Error:\", e)\n"
   ]
  },
  {
   "cell_type": "markdown",
   "metadata": {},
   "source": [
    "### 3. Tasks:\n",
    "\n",
    "Tasks are wrappers for coroutines and are used to schedule their execution. They are created using asyncio.create_task() or loop.create_task().\n",
    "\n",
    "Example:\n",
    "\n"
   ]
  },
  {
   "cell_type": "code",
   "execution_count": null,
   "metadata": {},
   "outputs": [
    {
     "name": "stdout",
     "output_type": "stream",
     "text": [
      "Hello\n",
      "World\n"
     ]
    }
   ],
   "source": [
    "import asyncio\n",
    "\n",
    "async def main():\n",
    "    task1 = asyncio.create_task(say_after(1, 'Hello'))\n",
    "    task2 = asyncio.create_task(say_after(2, 'World'))\n",
    "\n",
    "    await task1\n",
    "    await task2\n",
    "\n",
    "if __name__ == '__main__':\n",
    "    asyncio.run(main())\n",
    "# use above main eaxample way ( like exception )if try to run in notebook mode"
   ]
  },
  {
   "cell_type": "markdown",
   "metadata": {},
   "source": [
    "### 4. Running Tasks Concurrently:\n",
    "\n",
    "To run multiple tasks concurrently, you can use asyncio.gather(), which runs multiple coroutines concurrently and returns their results.\n",
    "\n",
    "Example:"
   ]
  },
  {
   "cell_type": "code",
   "execution_count": null,
   "metadata": {},
   "outputs": [],
   "source": [
    "import asyncio\n",
    "\n",
    "async def main():\n",
    "    results = await asyncio.gather(\n",
    "        say_after(1, 'Hello'),\n",
    "        say_after(2, 'World'),\n",
    "    )\n",
    "    print(results)\n",
    "\n",
    "if __name__ == '__main__':\n",
    "    asyncio.run(main())\n"
   ]
  },
  {
   "cell_type": "markdown",
   "metadata": {},
   "source": [
    "### 5. Handling Exceptions:\n",
    "\n",
    "When running multiple tasks concurrently, it's important to handle exceptions to prevent one task's failure from affecting others.\n",
    "\n",
    "Example:\n",
    "\n",
    "\n"
   ]
  },
  {
   "cell_type": "code",
   "execution_count": null,
   "metadata": {},
   "outputs": [],
   "source": [
    "import asyncio\n",
    "\n",
    "async def main():\n",
    "    try:\n",
    "        await asyncio.gather(\n",
    "            say_after(1, 'Hello'),\n",
    "            say_after(2, 'World'),\n",
    "            say_after(3, 'Error')  # This will raise an exception\n",
    "        )\n",
    "    except Exception as e:\n",
    "        print(f'An error occurred: {e}')\n",
    "\n",
    "if __name__ == '__main__':\n",
    "    asyncio.run(main())\n"
   ]
  },
  {
   "cell_type": "markdown",
   "metadata": {},
   "source": [
    "### 6. Asynchronous Context Managers:\n",
    "\n",
    "asyncio supports asynchronous context managers, which are useful for managing resources that need to be cleaned up after use.\n",
    "\n",
    "Example:"
   ]
  },
  {
   "cell_type": "code",
   "execution_count": null,
   "metadata": {},
   "outputs": [],
   "source": [
    "import asyncio\n",
    "\n",
    "class AsyncContextManager:\n",
    "    async def __aenter__(self):\n",
    "        print('Entering the context')\n",
    "        return self\n",
    "\n",
    "    async def __aexit__(self, exc_type, exc, tb):\n",
    "        print('Exiting the context')\n",
    "\n",
    "async def main():\n",
    "    async with AsyncContextManager():\n",
    "        print('Inside the context')\n",
    "\n",
    "if __name__ == '__main__':\n",
    "    asyncio.run(main())\n"
   ]
  }
 ],
 "metadata": {
  "kernelspec": {
   "display_name": ".venv",
   "language": "python",
   "name": "python3"
  },
  "language_info": {
   "codemirror_mode": {
    "name": "ipython",
    "version": 3
   },
   "file_extension": ".py",
   "mimetype": "text/x-python",
   "name": "python",
   "nbconvert_exporter": "python",
   "pygments_lexer": "ipython3",
   "version": "3.13.0"
  }
 },
 "nbformat": 4,
 "nbformat_minor": 2
}
