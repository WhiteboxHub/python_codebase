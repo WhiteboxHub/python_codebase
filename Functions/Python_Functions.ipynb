{
  "cells": [
    {
      "cell_type": "markdown",
      "metadata": {
        "colab_type": "text",
        "id": "z2Dmv8WKlzKd"
      },
      "source": [
        "**Creating a Function**\n",
        "\n",
        "In Python a function is defined using the def keyword:\n",
        "\n",
        "---"
      ]
    },
    {
      "cell_type": "code",
      "execution_count": 7,
      "metadata": {
        "colab": {},
        "colab_type": "code",
        "id": "HLe4cU7nlPON"
      },
      "outputs": [],
      "source": [
        "def my_function():\n",
        "  print(\"Hello from a function\")"
      ]
    },
    {
      "cell_type": "markdown",
      "metadata": {
        "colab_type": "text",
        "id": "IEwvhQIimDqQ"
      },
      "source": [
        "**Calling a Function**\n",
        "\n",
        "To call a function, use the function name followed by parenthesis:\n",
        "\n",
        "---"
      ]
    },
    {
      "cell_type": "code",
      "execution_count": null,
      "metadata": {
        "colab": {
          "base_uri": "https://localhost:8080/",
          "height": 34
        },
        "colab_type": "code",
        "id": "9ZuZSUVAmFrW",
        "outputId": "a8888004-3e03-424f-dcd8-db34f0d09d57"
      },
      "outputs": [],
      "source": [
        "def my_function():\n",
        "  print(\"Hello from a function\")  \n",
        "my_function()"
      ]
    },
    {
      "cell_type": "markdown",
      "metadata": {
        "colab_type": "text",
        "id": "3e4SW2L-oN38"
      },
      "source": [
        "**Return Values**\n",
        "\n",
        "To let a function return a value, use the** return statement:**\n",
        "\n",
        "---\n",
        "\n"
      ]
    },
    {
      "cell_type": "code",
      "execution_count": null,
      "metadata": {},
      "outputs": [],
      "source": [
        "def my_function(x):\n",
        "  return 5 * x\n",
        "\n",
        "print(my_function(3))\n",
        "print(my_function(5))\n",
        "print(my_function(9))"
      ]
    },
    {
      "cell_type": "markdown",
      "metadata": {
        "colab_type": "text",
        "id": "uNF4bDazmXyI"
      },
      "source": [
        "**Parameters and Arguments**\n",
        "\n",
        "Information can be passed to functions as parameter(function declaration)\n",
        "and as an aguments(function call)\n",
        "\n",
        "---"
      ]
    },
    {
      "cell_type": "code",
      "execution_count": null,
      "metadata": {
        "colab": {
          "base_uri": "https://localhost:8080/",
          "height": 68
        },
        "colab_type": "code",
        "id": "7O2zKquhmrbc",
        "outputId": "3cfd4e7b-626b-42bb-8e8b-3d0d94c20a3d"
      },
      "outputs": [],
      "source": [
        "def my_function(fname):\n",
        "  print('Hi '+fname)\n",
        "\n",
        "my_function(\"Hemant\")\n",
        "my_function(\"Sai\")\n",
        "my_function(\"Shiva\")"
      ]
    },
    {
      "cell_type": "code",
      "execution_count": null,
      "metadata": {},
      "outputs": [],
      "source": [
        "def add_numbers(a, b):\n",
        "    print(a + b)\n",
        "add_numbers(5, 3)\n",
        "add_numbers(1, 3)"
      ]
    },
    {
      "cell_type": "markdown",
      "metadata": {},
      "source": [
        "**Default Parameter Value**\n",
        "\n",
        "If we call the function without parameter, it uses the default value:\n",
        "\n",
        "---"
      ]
    },
    {
      "cell_type": "code",
      "execution_count": null,
      "metadata": {
        "colab": {
          "base_uri": "https://localhost:8080/",
          "height": 85
        },
        "colab_type": "code",
        "id": "L8YWFHlBnpjP",
        "outputId": "a1c3ffa0-af3c-4982-cfa8-b49a6757b885"
      },
      "outputs": [],
      "source": [
        "def my_function(country = \"India\"):\n",
        "  print(\"I am from \" + country)\n",
        "  \n",
        "my_function(\"Sweden\")\n",
        "my_function(\"US\")\n",
        "my_function()\n",
        "my_function(\"Brazil\")"
      ]
    },
    {
      "cell_type": "markdown",
      "metadata": {},
      "source": [
        "**Positional Parameters and Arguments**\n",
        "\n",
        "---"
      ]
    },
    {
      "cell_type": "code",
      "execution_count": null,
      "metadata": {},
      "outputs": [],
      "source": [
        "def add(a, b):\n",
        "    return a + b\n",
        "\n",
        "result = add(3, 5)  # Positional arguments: 3 and 5\n",
        "print(result)\n"
      ]
    },
    {
      "cell_type": "code",
      "execution_count": null,
      "metadata": {},
      "outputs": [],
      "source": [
        "def describe(name, age):\n",
        "    print(f\"My name is {name} and I am {age} years old.\")\n",
        "\n",
        "describe(\"Alice\", 30)  # Works fine\n",
        "describe(30, \"Alice\")  # Incorrect order gives wrong output\n"
      ]
    },
    {
      "cell_type": "markdown",
      "metadata": {},
      "source": [
        "**Keyword Parameters and Arguments**\n",
        "\n",
        "---"
      ]
    },
    {
      "cell_type": "code",
      "execution_count": null,
      "metadata": {},
      "outputs": [],
      "source": [
        "def introduce(name, age):\n",
        "    print(f\"My name is {name} and I am {age} years old.\")\n",
        "introduce(age=25, name=\"Alice\") "
      ]
    },
    {
      "cell_type": "code",
      "execution_count": null,
      "metadata": {},
      "outputs": [],
      "source": [
        "def introduce(name, age, country):\n",
        "    print(f\"My name is {name}, I am {age} years old, and I live in {country}.\")\n",
        "introduce(age=25, country=\"USA\", name=\"Bob\")"
      ]
    },
    {
      "cell_type": "markdown",
      "metadata": {
        "colab_type": "text",
        "id": "745r2kxepLU5"
      },
      "source": [
        "**Variable-length Arguments**\n",
        "\n",
        "*a. args (Non-keyword variable-length arguments)\n",
        "\n",
        "---\n"
      ]
    },
    {
      "cell_type": "code",
      "execution_count": null,
      "metadata": {},
      "outputs": [],
      "source": [
        "# Summing all arguments\n",
        "def sum_all(*args):\n",
        "    print(sum(args))\n",
        "sum_all(1, 2, 3, 4)  "
      ]
    },
    {
      "cell_type": "code",
      "execution_count": null,
      "metadata": {},
      "outputs": [],
      "source": [
        "#  Combining *args with other arguments\n",
        "def print_numbers(start, *args):\n",
        "    print(f\"Starting number: {start}\")\n",
        "    for num in args:\n",
        "        print(num)\n",
        "print_numbers(10, 20, 30, 40)"
      ]
    },
    {
      "cell_type": "markdown",
      "metadata": {},
      "source": [
        "\n",
        "**b. kwargs (Keyword variable-length arguments)\n",
        "\n",
        "---\n"
      ]
    },
    {
      "cell_type": "code",
      "execution_count": null,
      "metadata": {},
      "outputs": [],
      "source": [
        "# Collecting **kwargs\n",
        "def display_info(**kwargs):\n",
        "    print(kwargs)\n",
        "\n",
        "display_info(name=\"Alice\", age=30)\n"
      ]
    },
    {
      "cell_type": "code",
      "execution_count": null,
      "metadata": {},
      "outputs": [],
      "source": [
        "# Combining **kwargs with other parameters\n",
        "def build_profile(first, last, **kwargs):\n",
        "    profile = {\"first_name\": first, \"last_name\": last}\n",
        "    profile.update(kwargs)\n",
        "    return profile\n",
        "\n",
        "user_profile = build_profile(\"Alice\", \"Smith\", location=\"USA\", age=25, profession=\"Engineer\")\n",
        "print(user_profile)\n",
        "# Output: {'first_name': 'Alice', 'last_name': 'Smith', 'location': 'USA', 'age': 25, 'profession': 'Engineer'}\n"
      ]
    }
  ],
  "metadata": {
    "colab": {
      "collapsed_sections": [],
      "name": "Python_Functions.ipynb",
      "provenance": [],
      "version": "0.3.2"
    },
    "kernelspec": {
      "display_name": "Python 3",
      "name": "python3"
    },
    "language_info": {
      "codemirror_mode": {
        "name": "ipython",
        "version": 3
      },
      "file_extension": ".py",
      "mimetype": "text/x-python",
      "name": "python",
      "nbconvert_exporter": "python",
      "pygments_lexer": "ipython3",
      "version": "3.11.9"
    }
  },
  "nbformat": 4,
  "nbformat_minor": 0
}
