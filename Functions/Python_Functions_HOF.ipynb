{
  "cells": [
    {
      "cell_type": "markdown",
      "metadata": {},
      "source": [
        "**Higher-order functions - map(), filter(), and reduce()**\n",
        "\n",
        "**map:**\n",
        "\n",
        "---"
      ]
    },
    {
      "cell_type": "code",
      "execution_count": null,
      "metadata": {},
      "outputs": [],
      "source": [
        "# Doubling each number in a list\n",
        "numbers = [1, 2, 3, 4]\n",
        "doubled = list(map(lambda x: x * 2, numbers))\n",
        "\n",
        "print(doubled)  "
      ]
    },
    {
      "cell_type": "code",
      "execution_count": null,
      "metadata": {},
      "outputs": [],
      "source": [
        "# Converting all strings in a list to uppercasedef factorial(n):\n",
        "words = [\"apple\", \"banana\", \"cherry\"]\n",
        "uppercase_words = list(map(lambda word: word.upper(), words))\n",
        "\n",
        "print(uppercase_words) "
      ]
    },
    {
      "cell_type": "code",
      "execution_count": null,
      "metadata": {},
      "outputs": [],
      "source": [
        "# Calculating Fibonacci numbers\n",
        "\n",
        "def fibonacci(n):\n",
        "    if n == 0:  # Base case\n",
        "        return 0\n",
        "    if n == 1:  # Base case\n",
        "        return 1\n",
        "    return fibonacci(n - 1) + fibonacci(n - 2)  # Recursive case\n",
        "print(fibonacci(6)) "
      ]
    },
    {
      "cell_type": "markdown",
      "metadata": {},
      "source": [
        "**filter:**"
      ]
    },
    {
      "cell_type": "code",
      "execution_count": null,
      "metadata": {},
      "outputs": [],
      "source": [
        "#  Filtering even numbers\n",
        "\n",
        "numbers = [1, 2, 3, 4, 5, 6]\n",
        "evens = list(filter(lambda x: x % 2 == 0, numbers))\n",
        "\n",
        "print(evens)  # Output: [2, 4, 6]"
      ]
    },
    {
      "cell_type": "code",
      "execution_count": null,
      "metadata": {},
      "outputs": [],
      "source": [
        "#  Filtering strings with length greater than 3\n",
        "\n",
        "words = [\"cat\", \"elephant\", \"dog\", \"tiger\"]\n",
        "long_words = list(filter(lambda word: len(word) > 3, words))\n",
        "\n",
        "print(long_words)  # Output: ['elephant', 'tiger']"
      ]
    },
    {
      "cell_type": "markdown",
      "metadata": {},
      "source": [
        "**reduce:**"
      ]
    },
    {
      "cell_type": "code",
      "execution_count": null,
      "metadata": {},
      "outputs": [],
      "source": [
        "#  Summing a list of numbers\n",
        "\n",
        "from functools import reduce\n",
        "numbers = [1, 2, 3, 4]\n",
        "sum_result = reduce(lambda x, y: x + y, numbers)\n",
        "\n",
        "print(sum_result)  "
      ]
    },
    {
      "cell_type": "code",
      "execution_count": null,
      "metadata": {},
      "outputs": [],
      "source": [
        "#  Finding the maximum value in a list\n",
        "\n",
        "numbers = [1, 8, 3, 6]\n",
        "max_value = reduce(lambda x, y: x if x > y else y, numbers)\n",
        "\n",
        "print(max_value)  "
      ]
    }
  ],
  "metadata": {
    "colab": {
      "collapsed_sections": [],
      "name": "Python_Functions.ipynb",
      "provenance": [],
      "version": "0.3.2"
    },
    "kernelspec": {
      "display_name": "Python 3",
      "name": "python3"
    },
    "language_info": {
      "codemirror_mode": {
        "name": "ipython",
        "version": 3
      },
      "file_extension": ".py",
      "mimetype": "text/x-python",
      "name": "python",
      "nbconvert_exporter": "python",
      "pygments_lexer": "ipython3",
      "version": "3.11.9"
    }
  },
  "nbformat": 4,
  "nbformat_minor": 0
}
