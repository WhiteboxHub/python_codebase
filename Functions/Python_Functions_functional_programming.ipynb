{
  "cells": [
    {
      "cell_type": "markdown",
      "metadata": {},
      "source": [
        "**Functional Programming**\n",
        "\n",
        "Immutability:\n",
        "\n",
        "---"
      ]
    },
    {
      "cell_type": "code",
      "execution_count": null,
      "metadata": {},
      "outputs": [],
      "source": [
        "# A tuple is immutable, so trying to change its value will result in an error.\n",
        "tuple_example = (1, 2, 3)\n",
        "\n",
        "# The following line would throw an error\n",
        "# tuple_example[1] = 10  # TypeError: 'tuple' object does not support item assignment\n",
        "\n",
        "# Creating a new tuple instead of modifying the old one\n",
        "new_tuple = tuple_example + (4, 5)\n",
        "print(new_tuple)  \n"
      ]
    },
    {
      "cell_type": "code",
      "execution_count": null,
      "metadata": {},
      "outputs": [],
      "source": [
        "# Strings are immutable in Python\n",
        "text = \"hello\"\n",
        "\n",
        "# Trying to change a character in a string directly will raise an error\n",
        "# text[0] = 'H'  # TypeError: 'str' object does not support item assignment\n",
        "\n",
        "# Instead, you create a new string by concatenating\n",
        "new_text = \"H\" + text[1:]\n",
        "print(new_text) "
      ]
    },
    {
      "cell_type": "code",
      "execution_count": null,
      "metadata": {},
      "outputs": [],
      "source": [
        "# frozenset is an immutable set\n",
        "frozen_set = frozenset([1, 2, 3, 4])\n",
        "\n",
        "# Trying to add an element will raise an error\n",
        "# frozen_set.add(5)  # AttributeError: 'frozenset' object has no attribute 'add'\n",
        "\n",
        "# You cannot change the content, but you can create a new frozen set by combining\n",
        "new_frozen_set = frozen_set | frozenset([5, 6])\n",
        "print(new_frozen_set) \n"
      ]
    },
    {
      "cell_type": "markdown",
      "metadata": {},
      "source": [
        "Declarative Programming :\n",
        "\n",
        "---"
      ]
    },
    {
      "cell_type": "code",
      "execution_count": null,
      "metadata": {},
      "outputs": [],
      "source": [
        "# Instead of writing a for-loop to square each number, we use map() function\n",
        "numbers = [1, 2, 3, 4, 5]\n",
        "squared = list(map(lambda x: x ** 2, numbers))\n",
        "\n",
        "print(squared)  \n"
      ]
    },
    {
      "cell_type": "code",
      "execution_count": null,
      "metadata": {},
      "outputs": [],
      "source": [
        "# Using map and lambda functions would be imperative\n",
        "# numbers = []\n",
        "# for x in range(1, 11):\n",
        "#     if x % 2 == 0:\n",
        "#         numbers.append(x)\n",
        "\n",
        "# Declarative style using filter() function\n",
        "numbers = list(filter(lambda x: x % 2 == 0, range(1, 11)))\n",
        "\n",
        "print(numbers) \n"
      ]
    },
    {
      "cell_type": "markdown",
      "metadata": {},
      "source": [
        "Pure and Impure Functions :\n",
        "\n",
        "\n",
        "1.Pure Function\n",
        "\n",
        "\n",
        "---"
      ]
    },
    {
      "cell_type": "code",
      "execution_count": null,
      "metadata": {},
      "outputs": [],
      "source": [
        "# Simple Addition Function\n",
        "def add(a, b):\n",
        "    return a + b\n",
        "\n",
        "print(add(2, 3)) \n",
        "print(add(2, 3))  "
      ]
    },
    {
      "cell_type": "code",
      "execution_count": null,
      "metadata": {},
      "outputs": [],
      "source": [
        "# Calculating the Area of a Circle\n",
        "\n",
        "import math\n",
        "def area_of_circle(radius):\n",
        "    return math.pi * (radius ** 2)\n",
        "\n",
        "print(area_of_circle(3))  \n",
        "print(area_of_circle(3))  "
      ]
    },
    {
      "cell_type": "markdown",
      "metadata": {},
      "source": [
        "2. Impure Functions :\n",
        "\n",
        "\n",
        "\n",
        "\n",
        "---"
      ]
    },
    {
      "cell_type": "code",
      "execution_count": null,
      "metadata": {},
      "outputs": [],
      "source": [
        "x = 10\n",
        "\n",
        "def add_to_x(a):\n",
        "    global x\n",
        "    x += a\n",
        "    return x\n",
        "\n",
        "print(add_to_x(5))  \n",
        "print(add_to_x(5))  \n"
      ]
    }
  ],
  "metadata": {
    "colab": {
      "collapsed_sections": [],
      "name": "Python_Functions.ipynb",
      "provenance": [],
      "version": "0.3.2"
    },
    "kernelspec": {
      "display_name": "Python 3",
      "name": "python3"
    },
    "language_info": {
      "codemirror_mode": {
        "name": "ipython",
        "version": 3
      },
      "file_extension": ".py",
      "mimetype": "text/x-python",
      "name": "python",
      "nbconvert_exporter": "python",
      "pygments_lexer": "ipython3",
      "version": "3.11.9"
    }
  },
  "nbformat": 4,
  "nbformat_minor": 0
}
