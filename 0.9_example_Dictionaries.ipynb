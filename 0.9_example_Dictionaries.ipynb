{
 "cells": [
  {
   "cell_type": "markdown",
   "metadata": {},
   "source": [
    "# dictionary\n",
    "\n",
    "a dictionary is a mutable, unordered collection of key-value pairs. Dictionaries are highly efficient for lookups, insertions, and deletions, making them ideal for scenarios where you need to associate unique keys with specific values.\n",
    "\n",
    "Creating a Dictionary:\n",
    "\n",
    "You can create a dictionary by placing a comma-separated sequence of key-value pairs within curly braces {} or by using the dict() constructor.\n",
    "\n"
   ]
  },
  {
   "cell_type": "code",
   "execution_count": 1,
   "metadata": {},
   "outputs": [
    {
     "name": "stdout",
     "output_type": "stream",
     "text": [
      "{'name': 'Alice', 'age': 30, 'city': 'New York'}\n",
      "{}\n",
      "{'name': 'Alice', 'age': 30, 'city': 'New York'}\n"
     ]
    }
   ],
   "source": [
    "# Creating a dictionary with multiple key-value pairs\n",
    "person = {'name': 'Alice', 'age': 30, 'city': 'New York'}\n",
    "print(person)  # Output: {'name': 'Alice', 'age': 30, 'city': 'New York'}\n",
    "\n",
    "# Creating an empty dictionary\n",
    "empty_dict = {}\n",
    "print(empty_dict)  # Output: {}\n",
    "\n",
    "# Creating a dictionary using the dict() constructor\n",
    "person = dict(name='Alice', age=30, city='New York')\n",
    "print(person)  # Output: {'name': 'Alice', 'age': 30, 'city': 'New York'}\n"
   ]
  },
  {
   "cell_type": "markdown",
   "metadata": {},
   "source": [
    "### Accessing Dictionary Values:\n",
    "\n",
    "You can access the value associated with a specific key using square brackets []."
   ]
  },
  {
   "cell_type": "code",
   "execution_count": null,
   "metadata": {},
   "outputs": [],
   "source": [
    "print(person['name'])  # Output: Alice\n",
    "print(person['age'])   # Output: 30\n"
   ]
  },
  {
   "cell_type": "markdown",
   "metadata": {},
   "source": [
    "To avoid a KeyError if the key doesn't exist, you can use the get() method, which returns None if the key is not found."
   ]
  },
  {
   "cell_type": "code",
   "execution_count": null,
   "metadata": {},
   "outputs": [],
   "source": [
    "print(person.get('city'))  # Output: New York\n",
    "print(person.get('gender'))  # Output: None\n"
   ]
  },
  {
   "cell_type": "markdown",
   "metadata": {},
   "source": [
    "### Adding or Updating Key-Value Pairs:\n",
    "\n",
    "You can add a new key-value pair or update the value of an existing key by assigning a value to the key."
   ]
  },
  {
   "cell_type": "code",
   "execution_count": null,
   "metadata": {},
   "outputs": [],
   "source": [
    "# Adding a new key-value pair\n",
    "person['gender'] = 'Female'\n",
    "print(person)  # Output: {'name': 'Alice', 'age': 30, 'city': 'New York', 'gender': 'Female'}\n",
    "\n",
    "# Updating the value of an existing key\n",
    "person['age'] = 31\n",
    "print(person)  # Output: {'name': 'Alice', 'age': 31, 'city': 'New York', 'gender': 'Female'}\n"
   ]
  },
  {
   "cell_type": "markdown",
   "metadata": {},
   "source": [
    "### Removing Key-Value Pairs:\n",
    "\n",
    "You can remove a key-value pair using the del statement or the pop() method."
   ]
  },
  {
   "cell_type": "code",
   "execution_count": null,
   "metadata": {},
   "outputs": [],
   "source": [
    "# Using del statement\n",
    "del person['city']\n",
    "print(person)  # Output: {'name': 'Alice', 'age': 31, 'gender': 'Female'}\n",
    "\n",
    "# Using pop() method\n",
    "age = person.pop('age')\n",
    "print(age)     # Output: 31\n",
    "print(person)  # Output: {'name': 'Alice', 'gender': 'Female'}\n"
   ]
  },
  {
   "cell_type": "markdown",
   "metadata": {},
   "source": [
    "The pop() method also returns the value of the removed key.\n",
    "\n",
    "Iterating Through a Dictionary:\n",
    "\n",
    "You can iterate through a dictionary's keys, values, or key-value pairs using loops.\n",
    "\n"
   ]
  },
  {
   "cell_type": "code",
   "execution_count": null,
   "metadata": {},
   "outputs": [],
   "source": [
    "# Iterating through keys\n",
    "for key in person:\n",
    "    print(key)\n",
    "# Output:\n",
    "# name\n",
    "# gender\n",
    "\n",
    "# Iterating through keys using keys() method\n",
    "for key in person.keys():\n",
    "    print(key)\n",
    "# Output:\n",
    "# name\n",
    "# gender\n",
    "\n",
    "# Iterating through values\n",
    "for value in person.values():\n",
    "    print(value)\n",
    "# Output:\n",
    "# Alice\n",
    "# Female\n",
    "\n",
    "# Iterating through key-value pairs\n",
    "for key, value in person.items():\n",
    "    print(f\"{key}: {value}\")\n",
    "# Output:\n",
    "# name: Alice\n",
    "# gender: Female\n"
   ]
  },
  {
   "cell_type": "markdown",
   "metadata": {},
   "source": [
    "### Checking if a Key Exists:\n",
    "\n",
    "You can check if a key exists in a dictionary using the in operator."
   ]
  },
  {
   "cell_type": "code",
   "execution_count": null,
   "metadata": {},
   "outputs": [],
   "source": [
    "if 'name' in person:\n",
    "    print(\"Name exists in the dictionary.\")\n",
    "# Output: Name exists in the dictionary.\n"
   ]
  },
  {
   "cell_type": "markdown",
   "metadata": {},
   "source": [
    "Dictionary Methods:\n",
    "\n",
    "Dictionaries come with several built-in methods:\n",
    "\n",
    "clear(): Removes all items from the dictionary.\n",
    "\n",
    "copy(): Returns a shallow copy of the dictionary.\n",
    "\n",
    "fromkeys(iterable, value): Returns a new dictionary with keys from iterable and values set to value.\n",
    "\n",
    "get(key, default): Returns the value for key if key is in the dictionary; otherwise, returns default.\n",
    "\n",
    "items(): Returns a view object that displays a list of a dictionary's key-value tuple pairs.\n",
    "\n",
    "keys(): Returns a view object that displays a list of all the keys in the dictionary.\n",
    "\n",
    "pop(key, default): Removes the item with the specified key and returns its value. If the key is not found, returns default.\n",
    "\n",
    "popitem(): Removes and returns a (key, value) pair from the dictionary.\n",
    "\n",
    "setdefault(key, default): Returns the value of key if key is in the dictionary; if not, inserts key with a value of default and returns default.\n",
    "\n",
    "update([other]): Updates the dictionary with the key-value pairs from other, overwriting existing keys.\n",
    "\n",
    "values(): Returns a view object that displays a list of all the values in the dictionary."
   ]
  }
 ],
 "metadata": {
  "kernelspec": {
   "display_name": ".venv",
   "language": "python",
   "name": "python3"
  },
  "language_info": {
   "codemirror_mode": {
    "name": "ipython",
    "version": 3
   },
   "file_extension": ".py",
   "mimetype": "text/x-python",
   "name": "python",
   "nbconvert_exporter": "python",
   "pygments_lexer": "ipython3",
   "version": "3.13.0"
  }
 },
 "nbformat": 4,
 "nbformat_minor": 2
}
