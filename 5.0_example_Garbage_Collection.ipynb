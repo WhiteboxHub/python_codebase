{
 "cells": [
  {
   "cell_type": "markdown",
   "metadata": {},
   "source": [
    "## Garbage Collection\n",
    "\n",
    "Garbage Collection (GC) is a mechanism in Python for automatic memory management. It helps reclaim memory occupied by objects no longer in use, preventing memory leaks.\n"
   ]
  },
  {
   "cell_type": "markdown",
   "metadata": {},
   "source": [
    "1. Reference Counting\n",
    "     -  Every object in Python has an associated reference count, which tracks the number of references pointing to it.   \n",
    "     -  When an object’s reference count drops to zero (i.e., it is no longer used), it is deallocated.\n",
    "     \n",
    "---\n",
    "\n",
    "Example:"
   ]
  },
  {
   "cell_type": "code",
   "execution_count": null,
   "metadata": {},
   "outputs": [],
   "source": [
    "import sys\n",
    "\n",
    "a = [1, 2, 3]\n",
    "print(sys.getrefcount(a))  # Returns reference count\n",
    "b = a  # Another reference to `a`\n",
    "print(sys.getrefcount(a))  # Count increases\n",
    "del b  # Removing reference\n",
    "print(sys.getrefcount(a))  # Count decreases\n"
   ]
  },
  {
   "cell_type": "markdown",
   "metadata": {},
   "source": [
    "2. Cyclic References\n",
    "\n",
    "     - Cyclic references occur when two or more objects reference each other, preventing their reference count from dropping to zero.\n",
    "  \n",
    "     -  Python uses a cyclic garbage collector to handle such cases\n",
    "     \n",
    "---\n",
    "\n",
    "Example:"
   ]
  },
  {
   "cell_type": "code",
   "execution_count": 10,
   "metadata": {},
   "outputs": [],
   "source": [
    "class Node:\n",
    "    def __init__(self, value):\n",
    "        self.value = value\n",
    "        self.ref = None\n",
    "\n",
    "node1 = Node(1)\n",
    "node2 = Node(2)\n",
    "node1.ref = node2\n",
    "node2.ref = node1  # Creates a cycle\n",
    "del node1\n",
    "del node2  # The memory for these objects is reclaimed by GC\n"
   ]
  },
  {
   "cell_type": "markdown",
   "metadata": {},
   "source": [
    "3. Generational Garbage Collection\n",
    "\n",
    "\n",
    "     - Python organizes objects into three generations based on their longevity:\n",
    "          - Generation 0 (youngest)\n",
    "          - Generation 1\n",
    "          - Generation 2 (oldest)\n",
    "\n",
    "  \n",
    "     - New objects start in Generation 0, and objects surviving multiple garbage collection cycles move to higher generations.\n",
    "     \n",
    "     - Generational GC optimizes performance by collecting younger objects more frequently.\n",
    "     \n",
    "---\n"
   ]
  },
  {
   "cell_type": "markdown",
   "metadata": {},
   "source": [
    "### Python gc Module\n",
    "\n",
    "The gc module provides an interface to the garbage collector. You can use it to:\n",
    "\n",
    "- Control garbage collection.\n",
    "- Inspect and debug memory usage.\n",
    "- Manually trigger garbage collection.\n"
   ]
  },
  {
   "cell_type": "markdown",
   "metadata": {},
   "source": [
    "1. gc.enable() and gc.disable()\n",
    "\n",
    "    - Enable or disable the garbage collector.\n",
    "\n",
    "---\n"
   ]
  },
  {
   "cell_type": "code",
   "execution_count": 11,
   "metadata": {},
   "outputs": [],
   "source": [
    "import gc\n",
    "\n",
    "gc.disable()  # Disables automatic garbage collection\n",
    "# Do memory-intensive operations\n",
    "gc.enable()  # Re-enables garbage collection\n"
   ]
  },
  {
   "cell_type": "markdown",
   "metadata": {},
   "source": [
    "2. gc.collect()\n",
    "\n",
    "    - Forces garbage collection and returns the number of objects collected.\n",
    "\n",
    "---\n"
   ]
  },
  {
   "cell_type": "code",
   "execution_count": null,
   "metadata": {},
   "outputs": [],
   "source": [
    "import gc\n",
    "\n",
    "print(gc.collect())  # Triggers a full garbage collection cycle\n"
   ]
  },
  {
   "cell_type": "markdown",
   "metadata": {},
   "source": [
    "3. gc.get_count()\n",
    "\n",
    "    - Returns the number of objects in each generation.\n",
    "\n",
    "\n",
    "---\n"
   ]
  },
  {
   "cell_type": "code",
   "execution_count": null,
   "metadata": {},
   "outputs": [],
   "source": [
    "import gc\n",
    "\n",
    "print(gc.get_count())  # Returns counts of objects in Generations 0, 1, 2\n"
   ]
  },
  {
   "cell_type": "markdown",
   "metadata": {},
   "source": [
    "4. gc.get_stats()\n",
    "\n",
    "    - Provides detailed stats on garbage collection.\n",
    "\n",
    "\n",
    "\n",
    "---\n"
   ]
  },
  {
   "cell_type": "code",
   "execution_count": null,
   "metadata": {},
   "outputs": [],
   "source": [
    "import gc\n",
    "\n",
    "print(gc.get_stats())  # Returns GC statistics as a list of dictionaries\n"
   ]
  },
  {
   "cell_type": "markdown",
   "metadata": {},
   "source": [
    "5. gc.set_threshold(threshold0, threshold1, threshold2)\n",
    "\n",
    "    - Sets thresholds for automatic garbage collection for Generations 0, 1, and 2.\n",
    "\n",
    "Example: Manual Control with gc\n",
    "\n",
    "---\n"
   ]
  },
  {
   "cell_type": "code",
   "execution_count": null,
   "metadata": {},
   "outputs": [],
   "source": [
    "import gc\n",
    "\n",
    "gc.disable()  # Disable automatic GC\n",
    "\n",
    "# Create objects and references\n",
    "objs = [str(i) for i in range(1000)]\n",
    "\n",
    "# Force garbage collection\n",
    "collected = gc.collect()\n",
    "print(f\"Manually collected {collected} objects\")\n",
    "\n",
    "gc.enable()  # Re-enable GC"
   ]
  }
 ],
 "metadata": {
  "kernelspec": {
   "display_name": "Python 3",
   "language": "python",
   "name": "python3"
  },
  "language_info": {
   "codemirror_mode": {
    "name": "ipython",
    "version": 3
   },
   "file_extension": ".py",
   "mimetype": "text/x-python",
   "name": "python",
   "nbconvert_exporter": "python",
   "pygments_lexer": "ipython3",
   "version": "3.13.1"
  }
 },
 "nbformat": 4,
 "nbformat_minor": 2
}
