{
 "cells": [
  {
   "cell_type": "markdown",
   "metadata": {},
   "source": [
    "# Threading\n",
    "threading module provides a high-level interface for creating and managing threads, enabling concurrent execution of code. This is particularly useful for I/O-bound tasks, such as file operations or network communication.\n",
    "\n",
    "Creating and Starting Threads\n",
    "\n",
    "To create a thread, instantiate a Thread object from the threading module and specify the target function to execute:"
   ]
  },
  {
   "cell_type": "code",
   "execution_count": 1,
   "metadata": {},
   "outputs": [
    {
     "name": "stdout",
     "output_type": "stream",
     "text": [
      "Thread is running\n"
     ]
    }
   ],
   "source": [
    "import threading\n",
    "\n",
    "def worker():\n",
    "    print(\"Thread is running\")\n",
    "\n",
    "# Create a Thread object\n",
    "thread = threading.Thread(target=worker)\n",
    "\n",
    "# Start the thread\n",
    "thread.start()\n",
    "\n",
    "# Wait for the thread to complete\n",
    "thread.join()\n"
   ]
  },
  {
   "cell_type": "markdown",
   "metadata": {},
   "source": [
    "### Daemon Threads\n",
    "\n",
    "Threads can be set as daemon threads, which means they will automatically exit when the main program exits:\n",
    "\n"
   ]
  },
  {
   "cell_type": "code",
   "execution_count": null,
   "metadata": {},
   "outputs": [],
   "source": [
    "import threading\n",
    "import time\n",
    "\n",
    "def daemon_worker():\n",
    "    while True:\n",
    "        print(\"Daemon thread is running\")\n",
    "        time.sleep(1)\n",
    "\n",
    "# Create a daemon thread\n",
    "daemon_thread = threading.Thread(target=daemon_worker)\n",
    "daemon_thread.daemon = True\n",
    "daemon_thread.start()\n",
    "\n",
    "# Main program sleeps for 3 seconds\n",
    "time.sleep(3)\n",
    "print(\"Main program exiting\")\n"
   ]
  },
  {
   "cell_type": "markdown",
   "metadata": {},
   "source": [
    "### Synchronizing Threads\n",
    "\n",
    "When multiple threads access shared resources, synchronization mechanisms like locks are essential to prevent race conditions:\n",
    "\n"
   ]
  },
  {
   "cell_type": "code",
   "execution_count": 4,
   "metadata": {},
   "outputs": [
    {
     "name": "stdout",
     "output_type": "stream",
     "text": [
      "Final counter value: 10000\n"
     ]
    }
   ],
   "source": [
    "import threading\n",
    "\n",
    "# Shared resource\n",
    "counter = 0\n",
    "counter_lock = threading.Lock()\n",
    "\n",
    "def increment_counter():\n",
    "    global counter\n",
    "    for _ in range(1000):\n",
    "        with counter_lock:\n",
    "            counter += 1\n",
    "\n",
    "# Create multiple threads\n",
    "threads = []\n",
    "for _ in range(10):\n",
    "    thread = threading.Thread(target=increment_counter)\n",
    "    threads.append(thread)\n",
    "    thread.start()\n",
    "\n",
    "# Wait for all threads to complete\n",
    "for thread in threads:\n",
    "    thread.join()\n",
    "\n",
    "print(f\"Final counter value: {counter}\")\n"
   ]
  },
  {
   "cell_type": "markdown",
   "metadata": {},
   "source": [
    "### Thread Communication with Queues\n",
    "\n",
    "The queue module provides a thread-safe way for threads to communicate:"
   ]
  },
  {
   "cell_type": "code",
   "execution_count": null,
   "metadata": {},
   "outputs": [],
   "source": [
    "import threading\n",
    "import queue\n",
    "\n",
    "def producer(q):\n",
    "    for i in range(5):\n",
    "        q.put(i)\n",
    "        print(f\"Produced {i}\")\n",
    "\n",
    "def consumer(q):\n",
    "    while True:\n",
    "        item = q.get()\n",
    "        if item is None:\n",
    "            break\n",
    "        print(f\"Consumed {item}\")\n",
    "        q.task_done()\n",
    "\n",
    "q = queue.Queue()\n",
    "producer_thread = threading.Thread(target=producer, args=(q,))\n",
    "consumer_thread = threading.Thread(target=consumer, args=(q,))\n",
    "\n",
    "producer_thread.start()\n",
    "consumer_thread.start()\n",
    "\n",
    "producer_thread.join()\n",
    "q.put(None)  # Signal the consumer to exit\n",
    "consumer_thread.join()\n"
   ]
  },
  {
   "cell_type": "markdown",
   "metadata": {},
   "source": [
    "### Thread Pools with concurrent.futures\n",
    "\n",
    "For managing a pool of threads, the ThreadPoolExecutor from the concurrent.futures module is convenient:"
   ]
  },
  {
   "cell_type": "code",
   "execution_count": 6,
   "metadata": {},
   "outputs": [
    {
     "name": "stdout",
     "output_type": "stream",
     "text": [
      "Processing 0\n",
      "Processing 1\n",
      "Processing 2\n",
      "Processing 3\n",
      "Processing 4\n"
     ]
    }
   ],
   "source": [
    "from concurrent.futures import ThreadPoolExecutor\n",
    "\n",
    "def task(n):\n",
    "    print(f\"Processing {n}\")\n",
    "\n",
    "with ThreadPoolExecutor(max_workers=3) as executor:\n",
    "    executor.map(task, range(5))\n"
   ]
  },
  {
   "cell_type": "markdown",
   "metadata": {},
   "source": [
    "### Deadlock\n",
    "\n",
    "A deadlock occurs when two or more threads are blocked forever, each waiting for the other to release a resource. This situation halts the progress of the involved threads and can freeze the entire program.\n",
    "\n",
    "Example of Deadlock:"
   ]
  },
  {
   "cell_type": "code",
   "execution_count": 7,
   "metadata": {},
   "outputs": [
    {
     "name": "stdout",
     "output_type": "stream",
     "text": [
      "Thread 1 acquired lock_a\n",
      "Thread 1 acquired lock_b\n",
      "Thread 2 acquired lock_b\n",
      "Thread 2 acquired lock_a\n"
     ]
    }
   ],
   "source": [
    "import threading\n",
    "\n",
    "# Initialize two locks\n",
    "lock_a = threading.Lock()\n",
    "lock_b = threading.Lock()\n",
    "\n",
    "def thread1():\n",
    "    with lock_a:\n",
    "        print(\"Thread 1 acquired lock_a\")\n",
    "        with lock_b:\n",
    "            print(\"Thread 1 acquired lock_b\")\n",
    "\n",
    "def thread2():\n",
    "    with lock_b:\n",
    "        print(\"Thread 2 acquired lock_b\")\n",
    "        with lock_a:\n",
    "            print(\"Thread 2 acquired lock_a\")\n",
    "\n",
    "# Create and start threads\n",
    "t1 = threading.Thread(target=thread1)\n",
    "t2 = threading.Thread(target=thread2)\n",
    "t1.start()\n",
    "t2.start()\n",
    "t1.join()\n",
    "t2.join()\n"
   ]
  },
  {
   "cell_type": "markdown",
   "metadata": {},
   "source": [
    "### Starvation\n",
    "\n",
    "Starvation happens when a thread is perpetually denied access to resources, preventing it from making progress. This can occur if other threads monopolize the resources, leaving the starved thread waiting indefinitely.\n",
    "\n",
    "Example of Starvation:\n",
    "\n",
    "\n"
   ]
  },
  {
   "cell_type": "code",
   "execution_count": null,
   "metadata": {},
   "outputs": [],
   "source": [
    "import threading\n",
    "import time\n",
    "\n",
    "# Shared resource\n",
    "resource_lock = threading.Lock()\n",
    "\n",
    "def greedy_thread():\n",
    "    while True:\n",
    "        with resource_lock:\n",
    "            print(\"Greedy thread acquired the resource\")\n",
    "            time.sleep(0.1)  # Holds the resource for a short time\n",
    "\n",
    "def polite_thread():\n",
    "    while True:\n",
    "        with resource_lock:\n",
    "            print(\"Polite thread acquired the resource\")\n",
    "            time.sleep(0.1)  # Holds the resource for a short time\n",
    "        time.sleep(0.1)  # Allows other threads a chance to acquire the resource\n",
    "\n",
    "# Create and start threads\n",
    "t1 = threading.Thread(target=greedy_thread)\n",
    "t2 = threading.Thread(target=polite_thread)\n",
    "t1.start()\n",
    "t2.start()\n"
   ]
  },
  {
   "cell_type": "markdown",
   "metadata": {},
   "source": [
    "### Global Interpreter Lock (GIL)\n",
    "\n",
    "The Global Interpreter Lock (GIL) is a mutex in CPython that allows only one thread to execute Python bytecode at a time. This design simplifies memory management but can limit the effectiveness of CPU-bound multithreaded programs.\n",
    "\n",
    "Implications of the GIL:\n",
    "\n",
    "I/O-Bound Tasks: For tasks involving input/output operations, such as file handling or network communication, the GIL is less of a bottleneck. While one thread waits for I/O operations to complete, the GIL can be released, allowing other threads to run.\n",
    "\n",
    "CPU-Bound Tasks: In CPU-intensive operations, the GIL can hinder performance gains from multithreading, as only one thread executes at a time. In such cases, multiprocessing or implementing performance-critical sections in C extensions can be more effective.\n",
    "\n",
    "Example Illustrating the GIL:\n",
    "\n",
    "\n"
   ]
  },
  {
   "cell_type": "code",
   "execution_count": 8,
   "metadata": {},
   "outputs": [
    {
     "name": "stdout",
     "output_type": "stream",
     "text": [
      "Task completed\n",
      "Task completed\n",
      "Task completed\n",
      "Task completed\n"
     ]
    }
   ],
   "source": [
    "import threading\n",
    "\n",
    "def cpu_bound_task():\n",
    "    count = 0\n",
    "    for _ in range(10**6):\n",
    "        count += 1\n",
    "    print(\"Task completed\")\n",
    "\n",
    "# Create and start multiple threads\n",
    "threads = [threading.Thread(target=cpu_bound_task) for _ in range(4)]\n",
    "for thread in threads:\n",
    "    thread.start()\n",
    "for thread in threads:\n",
    "    thread.join()\n"
   ]
  },
  {
   "cell_type": "markdown",
   "metadata": {},
   "source": [
    "### To avoid GIL\n",
    "To effectively bypass Python's Global Interpreter Lock (GIL) and achieve parallelism, especially for CPU-bound tasks, you can utilize the multiprocessing module. This approach allows you to run separate processes, each with its own Python interpreter and memory space, thereby sidestepping the GIL's limitations.\n",
    "\n",
    "Example: Using the multiprocessing Module\n",
    "\n",
    "The following example demonstrates how to use the multiprocessing module to perform parallel processing:"
   ]
  },
  {
   "cell_type": "code",
   "execution_count": null,
   "metadata": {},
   "outputs": [],
   "source": [
    "from multiprocessing import Process\n",
    "\n",
    "def cpu_bound_task():\n",
    "    count = 0\n",
    "    for _ in range(10**6):\n",
    "        count += 1\n",
    "    print(\"Task completed\")\n",
    "\n",
    "if __name__ == '__main__':\n",
    "    # Create and start multiple processes\n",
    "    processes = [Process(target=cpu_bound_task) for _ in range(4)]\n",
    "    for process in processes:\n",
    "        process.start()\n",
    "    for process in processes:\n",
    "        process.join()\n"
   ]
  }
 ],
 "metadata": {
  "kernelspec": {
   "display_name": ".venv",
   "language": "python",
   "name": "python3"
  },
  "language_info": {
   "codemirror_mode": {
    "name": "ipython",
    "version": 3
   },
   "file_extension": ".py",
   "mimetype": "text/x-python",
   "name": "python",
   "nbconvert_exporter": "python",
   "pygments_lexer": "ipython3",
   "version": "3.13.0"
  }
 },
 "nbformat": 4,
 "nbformat_minor": 2
}
