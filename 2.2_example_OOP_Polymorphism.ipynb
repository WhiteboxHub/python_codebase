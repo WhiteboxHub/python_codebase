{
 "cells": [
  {
   "cell_type": "markdown",
   "metadata": {},
   "source": [
    "# Polymorphism\n",
    "Polymorphism is a core concept in object-oriented programming (OOP) that allows objects of different classes to be treated as objects of a common superclass. It enables a single interface to represent different underlying forms (data types). In Python, polymorphism is typically achieved through method overriding and duck typing.\n",
    "### 1. Method Overriding (Runtime Polymorphism):\n",
    "\n",
    "Runtime polymorphism in Python is achieved through method overriding, where a subclass provides a specific implementation of a method that is already defined in its superclass.\n"
   ]
  },
  {
   "cell_type": "code",
   "execution_count": 1,
   "metadata": {},
   "outputs": [
    {
     "name": "stdout",
     "output_type": "stream",
     "text": [
      "Woof!\n",
      "Meow!\n"
     ]
    }
   ],
   "source": [
    "class Animal:\n",
    "    def speak(self):\n",
    "        raise NotImplementedError(\"Subclass must implement abstract method\")\n",
    "\n",
    "class Dog(Animal):\n",
    "    def speak(self):\n",
    "        return \"Woof!\"\n",
    "\n",
    "class Cat(Animal):\n",
    "    def speak(self):\n",
    "        return \"Meow!\"\n",
    "\n",
    "def animal_sound(animal):\n",
    "    print(animal.speak())\n",
    "\n",
    "# Usage\n",
    "dog = Dog()\n",
    "cat = Cat()\n",
    "\n",
    "animal_sound(dog)  # Output: Woof!\n",
    "animal_sound(cat)  # Output: Meow!\n"
   ]
  },
  {
   "cell_type": "markdown",
   "metadata": {},
   "source": [
    "### 2. Duck Typing (Dynamic Polymorphism):\n",
    "\n",
    "Python's dynamic nature allows for duck typing, where the type or class of an object is determined by its behavior (methods and properties) rather than its explicit inheritance.\n",
    "\n",
    "\n"
   ]
  },
  {
   "cell_type": "code",
   "execution_count": null,
   "metadata": {},
   "outputs": [],
   "source": [
    "class Bird:\n",
    "    def fly(self):\n",
    "        print(\"Flying in the sky\")\n",
    "\n",
    "class Airplane:\n",
    "    def fly(self):\n",
    "        print(\"Flying through the clouds\")\n",
    "\n",
    "def lets_fly(flyable):\n",
    "    flyable.fly()\n",
    "\n",
    "# Usage\n",
    "bird = Bird()\n",
    "plane = Airplane()\n",
    "\n",
    "lets_fly(bird)    # Output: Flying in the sky\n",
    "lets_fly(plane)   # Output: Flying through the clouds\n"
   ]
  },
  {
   "cell_type": "markdown",
   "metadata": {},
   "source": [
    "### 3. Operator Overloading:\n",
    "\n",
    "Python allows classes to define or override the behavior of operators using special methods, enabling objects to interact using standard operators."
   ]
  },
  {
   "cell_type": "code",
   "execution_count": null,
   "metadata": {},
   "outputs": [],
   "source": [
    "class Point:\n",
    "    def __init__(self, x, y):\n",
    "        self.x = x\n",
    "        self.y = y\n",
    "\n",
    "    def __add__(self, other):\n",
    "        return Point(self.x + other.x, self.y + other.y)\n",
    "\n",
    "    def __repr__(self):\n",
    "        return f\"Point({self.x}, {self.y})\"\n",
    "\n",
    "# Usage\n",
    "p1 = Point(1, 2)\n",
    "p2 = Point(3, 4)\n",
    "p3 = p1 + p2  # Uses __add__ method\n",
    "print(p3)      # Output: Point(4, 6)\n"
   ]
  },
  {
   "cell_type": "markdown",
   "metadata": {},
   "source": [
    "### 4. Function Polymorphism:\n",
    "\n",
    "Python's built-in functions can operate on different data types, demonstrating polymorphism.\n",
    "\n"
   ]
  },
  {
   "cell_type": "code",
   "execution_count": null,
   "metadata": {},
   "outputs": [],
   "source": [
    "print(len(\"Hello\"))        # Output: 5\n",
    "print(len([1, 2, 3]))      # Output: 3\n",
    "print(len({\"a\": 1}))       # Output: 1\n"
   ]
  },
  {
   "cell_type": "markdown",
   "metadata": {},
   "source": [
    "Compile-Time Polymorphism in Python:\n",
    "\n",
    "Unlike statically typed languages like C++ or Java, Python does not support compile-time polymorphism (such as method overloading) in the traditional sense. In Python, if multiple methods with the same name are defined, the last one overrides the previous ones. \n"
   ]
  },
  {
   "cell_type": "code",
   "execution_count": null,
   "metadata": {},
   "outputs": [],
   "source": [
    "class Example:\n",
    "    def method(self):\n",
    "        print(\"First method\")\n",
    "\n",
    "    def method(self):\n",
    "        print(\"Second method\")\n",
    "\n",
    "obj = Example()\n",
    "obj.method()  # Output: Second method\n"
   ]
  }
 ],
 "metadata": {
  "kernelspec": {
   "display_name": ".venv",
   "language": "python",
   "name": "python3"
  },
  "language_info": {
   "codemirror_mode": {
    "name": "ipython",
    "version": 3
   },
   "file_extension": ".py",
   "mimetype": "text/x-python",
   "name": "python",
   "nbconvert_exporter": "python",
   "pygments_lexer": "ipython3",
   "version": "3.13.0"
  }
 },
 "nbformat": 4,
 "nbformat_minor": 2
}
