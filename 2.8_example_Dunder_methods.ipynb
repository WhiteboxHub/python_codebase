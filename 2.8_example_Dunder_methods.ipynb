{
 "cells": [
  {
   "cell_type": "markdown",
   "metadata": {},
   "source": [
    "# Dunder methods\n",
    "dunder methods—short for \"double underscore\" methods and also known as magic methods—are special methods with names that begin and end with double underscores, such as __init__, __str__, and __add__. These methods enable developers to define how objects of a class interact with Python's built-in functions and operators, allowing for customization of object behavior in various contexts.\n",
    "\n",
    "Common Dunder Methods:\n",
    "\n",
    "__init__(self, ...): Called when an instance is initialized; it's commonly used to set up initial state or attributes.\n",
    "\n",
    "Example:"
   ]
  },
  {
   "cell_type": "code",
   "execution_count": 1,
   "metadata": {},
   "outputs": [],
   "source": [
    "class Person:\n",
    "    def __init__(self, name, age):\n",
    "        self.name = name\n",
    "        self.age = age\n"
   ]
  },
  {
   "cell_type": "markdown",
   "metadata": {},
   "source": [
    "__str__(self): Defines the string representation of an object, which is what gets returned by the str() function and printed by the print() function.\n",
    "\n",
    "Example:"
   ]
  },
  {
   "cell_type": "code",
   "execution_count": 2,
   "metadata": {},
   "outputs": [],
   "source": [
    "class Person:\n",
    "    def __init__(self, name, age):\n",
    "        self.name = name\n",
    "        self.age = age\n",
    "\n",
    "    def __str__(self):\n",
    "        return f'{self.name}, {self.age} years old'\n"
   ]
  },
  {
   "cell_type": "markdown",
   "metadata": {},
   "source": [
    "__repr__(self): Provides an official string representation of the object, typically one that could be used to recreate the object. It's what gets returned by the repr() function and is used in the interactive interpreter.\n",
    "\n",
    "Example:"
   ]
  },
  {
   "cell_type": "code",
   "execution_count": 3,
   "metadata": {},
   "outputs": [],
   "source": [
    "class Person:\n",
    "    def __init__(self, name, age):\n",
    "        self.name = name\n",
    "        self.age = age\n",
    "\n",
    "    def __repr__(self):\n",
    "        return f'Person(name={self.name!r}, age={self.age})'\n"
   ]
  },
  {
   "cell_type": "markdown",
   "metadata": {},
   "source": [
    "__eq__(self, other): Defines behavior for the equality operator ==, allowing customization of how two objects are compared for equality.\n",
    "\n",
    "Example:\n",
    "\n"
   ]
  },
  {
   "cell_type": "code",
   "execution_count": 4,
   "metadata": {},
   "outputs": [],
   "source": [
    "class Person:\n",
    "    def __init__(self, name, age):\n",
    "        self.name = name\n",
    "        self.age = age\n",
    "\n",
    "    def __eq__(self, other):\n",
    "        if isinstance(other, Person):\n",
    "            return self.name == other.name and self.age == other.age\n",
    "        return False\n"
   ]
  },
  {
   "cell_type": "markdown",
   "metadata": {},
   "source": [
    "__add__(self, other): Defines behavior for the addition operator +, enabling customization of how objects are added together.\n",
    "\n",
    "Example:\n",
    "\n",
    "\n",
    "\n"
   ]
  },
  {
   "cell_type": "code",
   "execution_count": 5,
   "metadata": {},
   "outputs": [],
   "source": [
    "class Vector:\n",
    "    def __init__(self, x, y):\n",
    "        self.x = x\n",
    "        self.y = y\n",
    "\n",
    "    def __add__(self, other):\n",
    "        return Vector(self.x + other.x, self.y + other.y)\n"
   ]
  },
  {
   "cell_type": "markdown",
   "metadata": {},
   "source": [
    "Benefits of Using Dunder Methods:\n",
    "\n",
    "Operator Overloading: Dunder methods allow you to define how operators like +, -, *, and others behave with your custom objects, enabling intuitive expressions.\n",
    "\n",
    "Integration with Built-in Functions: Implementing methods like __len__ allows your objects to work seamlessly with built-in functions such as len().\n",
    "\n",
    "Readable and Maintainable Code: By defining dunder methods, you make your classes more intuitive and easier to use, enhancing code readability and maintainability.\n",
    "\n"
   ]
  },
  {
   "cell_type": "markdown",
   "metadata": {},
   "source": [
    "Creating a comprehensive example that incorporates class attributes, data classes, metaclasses, and various dunder methods can provide a holistic understanding of these concepts in Python. Below is an illustrative example that demonstrates their integration:\n"
   ]
  },
  {
   "cell_type": "code",
   "execution_count": 6,
   "metadata": {},
   "outputs": [
    {
     "name": "stdout",
     "output_type": "stream",
     "text": [
      "Product(name=Widget, price=10.0, quantity=5)\n",
      "Product(name='Widget', price=10.0, quantity=3)\n",
      "False\n",
      "Product(name=Widget, price=10.0, quantity=8)\n",
      "Total price including tax: 59.00\n",
      "Attribute name \"InvalidName\" is not lowercase\n"
     ]
    }
   ],
   "source": [
    "from dataclasses import dataclass, field\n",
    "from typing import ClassVar\n",
    "\n",
    "# Custom metaclass to enforce attribute naming conventions\n",
    "class AttributeNameEnforcer(type):\n",
    "    def __new__(cls, name, bases, dct):\n",
    "        for attr_name in dct:\n",
    "            if not attr_name.startswith('_') and not attr_name.islower():\n",
    "                raise ValueError(f'Attribute name \"{attr_name}\" is not lowercase')\n",
    "        return super().__new__(cls, name, bases, dct)\n",
    "\n",
    "# Data class with class attributes and dunder methods\n",
    "@dataclass\n",
    "class Product(metaclass=AttributeNameEnforcer):\n",
    "    # Class attributes\n",
    "    category: ClassVar[str] = \"General\"\n",
    "    tax_rate: ClassVar[float] = 0.18\n",
    "\n",
    "    # Instance attributes\n",
    "    name: str\n",
    "    price: float\n",
    "    quantity: int = field(default=0)\n",
    "\n",
    "    # Dunder method to represent the object as a string\n",
    "    def __str__(self):\n",
    "        return f'Product(name={self.name}, price={self.price}, quantity={self.quantity})'\n",
    "\n",
    "    # Dunder method to represent the object officially (for debugging)\n",
    "    def __repr__(self):\n",
    "        return f'Product(name={self.name!r}, price={self.price}, quantity={self.quantity})'\n",
    "\n",
    "    # Dunder method to check equality between two Product instances\n",
    "    def __eq__(self, other):\n",
    "        if isinstance(other, Product):\n",
    "            return (self.name, self.price, self.quantity) == (other.name, other.price, other.quantity)\n",
    "        return NotImplemented\n",
    "\n",
    "    # Dunder method to add quantities of two Product instances\n",
    "    def __add__(self, other):\n",
    "        if isinstance(other, Product) and self.name == other.name:\n",
    "            return Product(self.name, self.price, self.quantity + other.quantity)\n",
    "        return NotImplemented\n",
    "\n",
    "    # Method to calculate total price including tax\n",
    "    def total_price(self):\n",
    "        return self.price * self.quantity * (1 + self.tax_rate)\n",
    "\n",
    "# Example usage\n",
    "if __name__ == \"__main__\":\n",
    "    product1 = Product(name=\"Widget\", price=10.0, quantity=5)\n",
    "    product2 = Product(name=\"Widget\", price=10.0, quantity=3)\n",
    "    product3 = Product(name=\"Gadget\", price=15.0, quantity=2)\n",
    "\n",
    "    print(product1)  # Output: Product(name=Widget, price=10.0, quantity=5)\n",
    "    print(repr(product2))  # Output: Product(name='Widget', price=10.0, quantity=3)\n",
    "\n",
    "    # Check equality\n",
    "    print(product1 == product2)  # Output: False\n",
    "\n",
    "    # Add quantities of the same product\n",
    "    combined_product = product1 + product2\n",
    "    print(combined_product)  # Output: Product(name=Widget, price=10.0, quantity=8)\n",
    "\n",
    "    # Calculate total price including tax\n",
    "    print(f'Total price including tax: {product1.total_price():.2f}')  # Output: Total price including tax: 59.00\n",
    "\n",
    "    # Attempt to create a product with an invalid attribute name\n",
    "    try:\n",
    "        class InvalidProduct(metaclass=AttributeNameEnforcer):\n",
    "            InvalidName = \"Invalid\"  # This will raise a ValueError\n",
    "    except ValueError as e:\n",
    "        print(e)  # Output: Attribute name \"InvalidName\" is not lowercase\n"
   ]
  }
 ],
 "metadata": {
  "kernelspec": {
   "display_name": ".venv",
   "language": "python",
   "name": "python3"
  },
  "language_info": {
   "codemirror_mode": {
    "name": "ipython",
    "version": 3
   },
   "file_extension": ".py",
   "mimetype": "text/x-python",
   "name": "python",
   "nbconvert_exporter": "python",
   "pygments_lexer": "ipython3",
   "version": "3.13.0"
  }
 },
 "nbformat": 4,
 "nbformat_minor": 2
}
