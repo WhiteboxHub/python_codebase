{
 "cells": [
  {
   "cell_type": "markdown",
   "metadata": {},
   "source": [
    "### data types\n",
    "data types define the kind of data a variable can hold, determining the operations that can be performed on it. Understanding these types is fundamental to writing effective Python code. Here's an overview of the primary data types in Python:\n",
    "\n",
    " Numeric Types\n",
    "\n",
    "Integers (int): Whole numbers without a fractional component.\n",
    "\n"
   ]
  },
  {
   "cell_type": "code",
   "execution_count": 5,
   "metadata": {},
   "outputs": [
    {
     "name": "stdout",
     "output_type": "stream",
     "text": [
      "25\n",
      "<class 'int'>\n"
     ]
    }
   ],
   "source": [
    "# Assigning a value to a variable\n",
    "age = 25\n",
    "\n",
    "# Printing the value of the variable\n",
    "print(age)\n",
    "\n",
    "#printing type of the variable\n",
    "print(type(age))\n",
    "\n",
    "\n"
   ]
  },
  {
   "cell_type": "markdown",
   "metadata": {},
   "source": [
    "Floating-Point Numbers (float): Numbers with a decimal point."
   ]
  },
  {
   "cell_type": "code",
   "execution_count": 3,
   "metadata": {},
   "outputs": [
    {
     "name": "stdout",
     "output_type": "stream",
     "text": [
      "3.14159\n",
      "<class 'float'>\n"
     ]
    }
   ],
   "source": [
    "pi = 3.14159\n",
    "\n",
    "print(pi)\n",
    "print(type(pi))"
   ]
  },
  {
   "cell_type": "markdown",
   "metadata": {},
   "source": [
    "Complex Numbers (complex): Numbers with a real and imaginary part."
   ]
  },
  {
   "cell_type": "code",
   "execution_count": 7,
   "metadata": {},
   "outputs": [
    {
     "name": "stdout",
     "output_type": "stream",
     "text": [
      "(2+3j)\n",
      "<class 'complex'>\n"
     ]
    }
   ],
   "source": [
    "complex_num = 2 + 3j\n",
    "\n",
    "print(complex_num)\n",
    "print(type(complex_num))"
   ]
  },
  {
   "cell_type": "markdown",
   "metadata": {},
   "source": [
    "### Printing Multiple Variables\n",
    "\n",
    "To print multiple variables, separate them with commas. The print() function will insert a space between each item by default:"
   ]
  },
  {
   "cell_type": "code",
   "execution_count": 8,
   "metadata": {},
   "outputs": [
    {
     "name": "stdout",
     "output_type": "stream",
     "text": [
      "Alice 30\n"
     ]
    }
   ],
   "source": [
    "name = \"Alice\"\n",
    "age = 30\n",
    "print(name, age)\n"
   ]
  },
  {
   "cell_type": "markdown",
   "metadata": {},
   "source": [
    "### Using String Formatting\n",
    "\n",
    "For more control over the output, you can use string formatting to include variables within a string:"
   ]
  },
  {
   "cell_type": "code",
   "execution_count": 9,
   "metadata": {},
   "outputs": [
    {
     "name": "stdout",
     "output_type": "stream",
     "text": [
      "Name: Bob, Age: 22\n"
     ]
    }
   ],
   "source": [
    "name = \"Bob\"\n",
    "age = 22\n",
    "print(f\"Name: {name}, Age: {age}\")\n"
   ]
  },
  {
   "cell_type": "markdown",
   "metadata": {},
   "source": [
    "### Printing Data Structures\n",
    "\n",
    "You can also print more complex data structures like lists, tuples, and dictionaries:\n",
    "\n"
   ]
  },
  {
   "cell_type": "code",
   "execution_count": 13,
   "metadata": {},
   "outputs": [
    {
     "name": "stdout",
     "output_type": "stream",
     "text": [
      "Hello, World!\n",
      "['apple', 'banana', 'cherry']\n",
      "(10.0, 20.0)\n",
      "{'name': 'Alice', 'age': 30}\n",
      "{1, 2, 3}\n",
      "frozenset({1, 2, 3})\n"
     ]
    }
   ],
   "source": [
    "#String\n",
    "greeting = \"Hello, World!\"\n",
    "print(greeting)\n",
    "\n",
    "\n",
    "# List\n",
    "fruits = ['apple', 'banana', 'cherry']\n",
    "print(fruits)\n",
    "\n",
    "# Tuple\n",
    "coordinates = (10.0, 20.0)\n",
    "print(coordinates)\n",
    "\n",
    "\n",
    "# Dictionary\n",
    "person = {'name': 'Alice', 'age': 30}\n",
    "print(person)\n",
    "\n",
    "#Sets : Unordered collections of unique items.\n",
    "unique_numbers = {1, 2, 3}\n",
    "print(unique_numbers)\n",
    "\n",
    "#frozenset : immutable versions of sets\n",
    "frozen_set = frozenset([1,2,3])\n",
    "print(frozen_set)\n",
    "\n"
   ]
  },
  {
   "cell_type": "markdown",
   "metadata": {},
   "source": []
  },
  {
   "cell_type": "markdown",
   "metadata": {},
   "source": [
    " Boolean Type\n",
    "\n",
    "Booleans (bool): Logical values representing True or False.\n"
   ]
  },
  {
   "cell_type": "code",
   "execution_count": 14,
   "metadata": {},
   "outputs": [
    {
     "name": "stdout",
     "output_type": "stream",
     "text": [
      "True\n"
     ]
    }
   ],
   "source": [
    "is_valid = True\n",
    "\n",
    "print(is_valid)"
   ]
  },
  {
   "cell_type": "markdown",
   "metadata": {},
   "source": [
    "### Binary Types\n",
    "\n",
    "Bytes (bytes): Immutable sequences of bytes.\n",
    "\n",
    "Byte Arrays (bytearray): Mutable sequences of bytes.\n",
    "\n",
    "Memory Views (memoryview): Objects that expose an array’s buffer interface."
   ]
  },
  {
   "cell_type": "code",
   "execution_count": 15,
   "metadata": {},
   "outputs": [],
   "source": [
    "\n",
    "byte_data = b'Hello'\n",
    "\n",
    "byte_array = bytearray([65, 66, 67])\n",
    "\n",
    "memory_view = memoryview(byte_array)"
   ]
  },
  {
   "cell_type": "markdown",
   "metadata": {},
   "source": [
    "### None Type\n",
    "\n",
    "None (NoneType): Represents the absence of a value or a null value."
   ]
  },
  {
   "cell_type": "code",
   "execution_count": 17,
   "metadata": {},
   "outputs": [
    {
     "name": "stdout",
     "output_type": "stream",
     "text": [
      "None\n"
     ]
    }
   ],
   "source": [
    "result = None\n",
    "\n",
    "print(result)\n"
   ]
  }
 ],
 "metadata": {
  "kernelspec": {
   "display_name": ".venv",
   "language": "python",
   "name": "python3"
  },
  "language_info": {
   "codemirror_mode": {
    "name": "ipython",
    "version": 3
   },
   "file_extension": ".py",
   "mimetype": "text/x-python",
   "name": "python",
   "nbconvert_exporter": "python",
   "pygments_lexer": "ipython3",
   "version": "3.13.0"
  }
 },
 "nbformat": 4,
 "nbformat_minor": 2
}
