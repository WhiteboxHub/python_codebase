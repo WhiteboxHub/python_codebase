{
  "cells": [
    {
      "cell_type": "markdown",
      "metadata": {
        "colab_type": "text",
        "id": "Tv9mRq_bZhYC"
      },
      "source": [
        "## Exception Handling: \n",
        "\n",
        "---\n",
        "\n",
        "Exception Handling Syntax"
      ]
    },
    {
      "cell_type": "code",
      "execution_count": 1,
      "metadata": {
        "colab": {
          "base_uri": "https://localhost:8080/",
          "height": 34
        },
        "colab_type": "code",
        "id": "7kdN7FcmZfKf",
        "outputId": "048ebddd-4258-4f14-acd3-28c57b51f9d2"
      },
      "outputs": [],
      "source": [
        "try:\n",
        "    # Code that might raise an exception\n",
        "    pass\n",
        "except :\n",
        "    pass\n",
        "    # Code to handle the exception\n",
        "else:\n",
        "     pass\n",
        "    # Code to execute if no exception occurs   \n",
        "finally:\n",
        "     pass\n",
        "    # Code that will always execute, regardless of exceptions    \n"
      ]
    },
    {
      "cell_type": "markdown",
      "metadata": {},
      "source": [
        "### Basic Example\n",
        "\n",
        "---"
      ]
    },
    {
      "cell_type": "markdown",
      "metadata": {},
      "source": [
        "Basic try and except\n"
      ]
    },
    {
      "cell_type": "code",
      "execution_count": null,
      "metadata": {},
      "outputs": [],
      "source": [
        "# The try block will generate an exception, because x is not defined:\n",
        "\n",
        "try:\n",
        "  print(x)\n",
        "except:\n",
        "  print(\"An exception occurred\")"
      ]
    },
    {
      "cell_type": "markdown",
      "metadata": {},
      "source": [
        "Using finally"
      ]
    },
    {
      "cell_type": "code",
      "execution_count": null,
      "metadata": {},
      "outputs": [],
      "source": [
        "try:\n",
        "    file = open(\"example.txt\", \"r\")\n",
        "    content = file.read()\n",
        "except FileNotFoundError:\n",
        "    print(\"File not found.\")\n",
        "finally:\n",
        "    print(\"Closing file if open.\")\n",
        "    if 'file' in locals() and not file.closed:\n",
        "        file.close()\n"
      ]
    },
    {
      "cell_type": "markdown",
      "metadata": {},
      "source": [
        "Combining try, except, else, and finally\n"
      ]
    },
    {
      "cell_type": "code",
      "execution_count": null,
      "metadata": {},
      "outputs": [],
      "source": [
        "try:\n",
        "    num = int(input(\"Enter a number: \"))\n",
        "    result = 10 / num\n",
        "except ZeroDivisionError:\n",
        "    print(\"Cannot divide by zero!\")\n",
        "except ValueError:\n",
        "    print(\"Invalid input! Please enter a number.\")\n",
        "else:\n",
        "    print(f\"The result is: {result}\")\n",
        "finally:\n",
        "    print(\"Execution completed.\")\n"
      ]
    },
    {
      "cell_type": "markdown",
      "metadata": {
        "colab_type": "text",
        "id": "GxRmVhscZ7BY"
      },
      "source": [
        "Since the try block raises an error, the except block will be executed."
      ]
    },
    {
      "cell_type": "markdown",
      "metadata": {
        "colab_type": "text",
        "id": "40KGJl-TaALn"
      },
      "source": [
        "## Types of  Exceptions\n",
        "\n",
        "---\n",
        "\n",
        "ZeroDivisionError : Occurs when attempting to divide by zero."
      ]
    },
    {
      "cell_type": "markdown",
      "metadata": {},
      "source": [
        "## Types of  Exceptions\n",
        "\n",
        "---\n"
      ]
    },
    {
      "cell_type": "markdown",
      "metadata": {},
      "source": [
        "### ArithmeticError Exceptions\n",
        "\n",
        "ZeroDivisionError : Occurs when attempting to divide by zero.\n",
        "\n",
        "---"
      ]
    },
    {
      "cell_type": "code",
      "execution_count": 2,
      "metadata": {
        "colab": {
          "base_uri": "https://localhost:8080/",
          "height": 34
        },
        "colab_type": "code",
        "id": "tWWEUpplZx72",
        "outputId": "456f5d52-544d-4e65-d9a7-0b93188f087c"
      },
      "outputs": [],
      "source": [
        "try:\n",
        "    result = 10 / 0\n",
        "except ZeroDivisionError:\n",
        "    print(\"Cannot divide by zero!\")"
      ]
    },
    {
      "cell_type": "markdown",
      "metadata": {},
      "source": [
        "OverflowError : Occurs when a mathematical operation produces a result that is too large to be represented.\n",
        "\n"
      ]
    },
    {
      "cell_type": "code",
      "execution_count": null,
      "metadata": {},
      "outputs": [],
      "source": [
        "import math\n",
        "\n",
        "try:\n",
        "    result = math.exp(1000)  # Exponential function with a very large value\n",
        "except OverflowError:\n",
        "    print(\"Math result is too large to handle!\")\n"
      ]
    },
    {
      "cell_type": "markdown",
      "metadata": {},
      "source": [
        " FloatingPointError : Occurs when a floating-point operation fails. By default, this exception is not raised; you must enable it using sys.float_repr_style.\n"
      ]
    },
    {
      "cell_type": "code",
      "execution_count": null,
      "metadata": {},
      "outputs": [],
      "source": [
        "import sys\n",
        "\n",
        "try:\n",
        "    sys.float_repr_style = 'short'  # Enabling floating-point error behavior\n",
        "    result = float(\"inf\") + 1  # Invalid floating-point operation\n",
        "except FloatingPointError:\n",
        "    print(\"Floating-point operation failed!\")\n"
      ]
    },
    {
      "cell_type": "markdown",
      "metadata": {},
      "source": [
        "### Standard Error Exceptions\n",
        "\n",
        "ValueError : Raised when a function receives a value of the correct type but inappropriate content.\n",
        "\n",
        "---"
      ]
    },
    {
      "cell_type": "code",
      "execution_count": null,
      "metadata": {},
      "outputs": [],
      "source": [
        "try:\n",
        "    num = int(\"abc\")  # Invalid conversion\n",
        "except ValueError:\n",
        "    print(\"Invalid value provided!\")\n"
      ]
    },
    {
      "cell_type": "code",
      "execution_count": null,
      "metadata": {},
      "outputs": [],
      "source": [
        "try:\n",
        "    age = int(input(\"Enter your age: \"))  # User input should be an integer\n",
        "    if age < 0:\n",
        "        raise ValueError(\"Age cannot be negative.\")\n",
        "except ValueError as ve:\n",
        "    print(f\"Error: {ve}\")\n"
      ]
    },
    {
      "cell_type": "markdown",
      "metadata": {},
      "source": [
        "TypeError :  Raised when an operation is performed on an object of an inappropriate type.\n",
        "\n",
        "---"
      ]
    },
    {
      "cell_type": "code",
      "execution_count": null,
      "metadata": {},
      "outputs": [],
      "source": [
        "try:\n",
        "    result = \"string\" + 5  # Adding string and integer, which is not allowed\n",
        "except TypeError:\n",
        "    print(\"Cannot concatenate string and integer.\")\n"
      ]
    },
    {
      "cell_type": "code",
      "execution_count": null,
      "metadata": {},
      "outputs": [],
      "source": [
        "def add_numbers(a, b):\n",
        "    return a + b\n",
        "\n",
        "try:\n",
        "    result = add_numbers(\"10\", 5)  # Passing a string instead of an integer\n",
        "except TypeError:\n",
        "    print(\"Type mismatch: Cannot add string and integer.\")\n"
      ]
    },
    {
      "cell_type": "markdown",
      "metadata": {},
      "source": [
        "IndexError :   Raised when trying to access an invalid index in a sequence (like a list or tuple).\n",
        "\n",
        "---"
      ]
    },
    {
      "cell_type": "code",
      "execution_count": null,
      "metadata": {},
      "outputs": [],
      "source": [
        "try:\n",
        "    my_list = [1, 2, 3]\n",
        "    print(my_list[5])  # Trying to access an index out of range\n",
        "except IndexError:\n",
        "    print(\"Index is out of range!\")\n"
      ]
    },
    {
      "cell_type": "code",
      "execution_count": null,
      "metadata": {},
      "outputs": [],
      "source": [
        "try:\n",
        "    my_list = [10, 20, 30]\n",
        "    index = int(input(\"Enter an index: \"))\n",
        "    print(my_list[index])  # User input might be an invalid index\n",
        "except IndexError:\n",
        "    print(\"Invalid index. Please enter a valid index within the list range.\")\n"
      ]
    },
    {
      "cell_type": "markdown",
      "metadata": {},
      "source": [
        "KeyError :   Raised when trying to access a non-existent key in a dictionary.\n",
        "\n",
        "---"
      ]
    },
    {
      "cell_type": "code",
      "execution_count": null,
      "metadata": {},
      "outputs": [],
      "source": [
        "try:\n",
        "    my_dict = {\"name\": \"Alice\"}\n",
        "    print(my_dict[\"age\"])  # Trying to access a non-existent key\n",
        "except KeyError:\n",
        "    print(\"Key not found in dictionary.\")\n"
      ]
    },
    {
      "cell_type": "code",
      "execution_count": null,
      "metadata": {},
      "outputs": [],
      "source": [
        "try:\n",
        "    user_info = {\"name\": \"John\", \"age\": 30}\n",
        "    key = input(\"Enter a key to search: \")  # User might input a non-existent key\n",
        "    print(user_info[key])\n",
        "except KeyError:\n",
        "    print(\"That key doesn't exist in the dictionary.\")\n"
      ]
    },
    {
      "cell_type": "markdown",
      "metadata": {},
      "source": [
        "NameError: Raised when trying to use a variable that has not been defined.\n",
        "\n",
        "---"
      ]
    },
    {
      "cell_type": "code",
      "execution_count": null,
      "metadata": {},
      "outputs": [],
      "source": [
        "try:\n",
        "    print(my_var)  # Trying to print a variable that has not been defined\n",
        "except NameError:\n",
        "    print(\"Variable is not defined!\")\n"
      ]
    },
    {
      "cell_type": "code",
      "execution_count": null,
      "metadata": {},
      "outputs": [],
      "source": [
        "def print_value():\n",
        "    print(my_var)\n",
        "\n",
        "try:\n",
        "    print_value()  # Calling function where 'my_var' is not defined\n",
        "except NameError:\n",
        "    print(\"Error: Variable 'my_var' is not defined.\")\n"
      ]
    },
    {
      "cell_type": "markdown",
      "metadata": {},
      "source": [
        "AttributeError: Raised when attempting to access an invalid attribute of an object.\n",
        "\n",
        "---"
      ]
    },
    {
      "cell_type": "code",
      "execution_count": null,
      "metadata": {},
      "outputs": [],
      "source": [
        "try:\n",
        "    my_list = [1, 2, 3]\n",
        "    my_list.append(4)\n",
        "    my_list.add(5)  # 'add' is not a valid method for a list\n",
        "except AttributeError:\n",
        "    print(\"The object does not have the requested attribute.\")\n"
      ]
    },
    {
      "cell_type": "code",
      "execution_count": null,
      "metadata": {},
      "outputs": [],
      "source": [
        "class Dog:\n",
        "    def __init__(self, name):\n",
        "        self.name = name\n",
        "\n",
        "dog = Dog(\"Buddy\")\n",
        "try:\n",
        "    print(dog.color)  # 'color' attribute does not exist in Dog class\n",
        "except AttributeError:\n",
        "    print(\"The 'color' attribute is not defined for this Dog object.\")\n"
      ]
    },
    {
      "cell_type": "markdown",
      "metadata": {},
      "source": [
        "### Input/Output Exceptions\n",
        "\n",
        "FileNotFoundError: Raised when trying to open a file that does not exist.\n",
        "\n",
        "---"
      ]
    },
    {
      "cell_type": "code",
      "execution_count": null,
      "metadata": {},
      "outputs": [],
      "source": [
        "try:\n",
        "    # Attempting to open a non-existent file\n",
        "    with open(\"nonexistent_file.txt\", \"r\") as file:\n",
        "        content = file.read()\n",
        "except FileNotFoundError:\n",
        "    print(\"The file you are trying to open does not exist!\")\n"
      ]
    },
    {
      "cell_type": "markdown",
      "metadata": {},
      "source": [
        "EOFError: Raised when the input() function hits the end-of-file condition.\n",
        "\n",
        "---"
      ]
    },
    {
      "cell_type": "code",
      "execution_count": null,
      "metadata": {},
      "outputs": [],
      "source": [
        "try:\n",
        "    with open(\"input.txt\", \"r\") as file:\n",
        "        while True:\n",
        "            line = file.readline()\n",
        "            if not line:\n",
        "                raise EOFError(\"End of file reached!\")\n",
        "            print(line.strip())\n",
        "except EOFError as e:\n",
        "    print(f\"EOFError: {e}\")\n"
      ]
    },
    {
      "cell_type": "markdown",
      "metadata": {},
      "source": [
        "PermissionError: Raised when trying to perform an operation without sufficient permissions.\n",
        "\n",
        "---"
      ]
    },
    {
      "cell_type": "code",
      "execution_count": null,
      "metadata": {},
      "outputs": [],
      "source": [
        "try:\n",
        "    # Trying to write to a file without write permissions\n",
        "    with open(\"/restricted_file.txt\", \"w\") as file:\n",
        "        file.write(\"Hello World!\")\n",
        "except PermissionError:\n",
        "    print(\"You do not have permission to write to this file!\")\n"
      ]
    },
    {
      "cell_type": "markdown",
      "metadata": {},
      "source": [
        "### Import Errors\n",
        "\n",
        "ImportError: Raised when an import statement fails\n",
        "\n",
        "---"
      ]
    },
    {
      "cell_type": "code",
      "execution_count": null,
      "metadata": {},
      "outputs": [],
      "source": [
        "try:\n",
        "    from math import nonexistent_function  # This function does not exist\n",
        "except ImportError:\n",
        "    print(\"The specified function could not be imported!\")\n"
      ]
    },
    {
      "cell_type": "markdown",
      "metadata": {},
      "source": [
        "ModuleNotFoundError: Raised when the specified module cannot be found.\n",
        "\n",
        "---"
      ]
    },
    {
      "cell_type": "code",
      "execution_count": null,
      "metadata": {},
      "outputs": [],
      "source": [
        "try:\n",
        "    import nonexistent_module  # This module does not exist\n",
        "except ModuleNotFoundError:\n",
        "    print(\"The specified module could not be found!\")\n"
      ]
    },
    {
      "cell_type": "markdown",
      "metadata": {},
      "source": [
        "###  OS Exceptions\n",
        "\n",
        "\n",
        "OSError: A base class for various operating system-related errors.\n",
        "\n",
        "---"
      ]
    },
    {
      "cell_type": "code",
      "execution_count": null,
      "metadata": {},
      "outputs": [],
      "source": [
        "try:\n",
        "    with open(\"invalid\\\\path\\\\file.txt\", \"r\") as file:\n",
        "        content = file.read()\n",
        "except OSError:\n",
        "    print(\"An OS error occurred while trying to access the file!\")\n"
      ]
    },
    {
      "cell_type": "markdown",
      "metadata": {},
      "source": [
        "\n",
        "FileExistsError: Raised when trying to create a file/directory that already exists.\n",
        "\n",
        "---"
      ]
    },
    {
      "cell_type": "code",
      "execution_count": null,
      "metadata": {},
      "outputs": [],
      "source": [
        "import os\n",
        "\n",
        "try:\n",
        "    os.mkdir(\"existing_directory\")  # Trying to create an already existing directory\n",
        "except FileExistsError:\n",
        "    print(\"The directory already exists!\")\n"
      ]
    },
    {
      "cell_type": "markdown",
      "metadata": {},
      "source": [
        "NotADirectoryError: Raised when a directory operation is attempted on a non-directory.\n",
        "\n",
        "---"
      ]
    },
    {
      "cell_type": "code",
      "execution_count": null,
      "metadata": {},
      "outputs": [],
      "source": [
        "try:\n",
        "    os.listdir(\"file.txt\")  # Trying to list contents of a non-directory\n",
        "except NotADirectoryError:\n",
        "    print(\"The path is not a directory!\")\n"
      ]
    },
    {
      "cell_type": "markdown",
      "metadata": {},
      "source": [
        "### Lookup Errors\n",
        "\n",
        "KeyError: Raised for invalid keys in a dictionary.\n",
        "\n",
        "---"
      ]
    },
    {
      "cell_type": "code",
      "execution_count": null,
      "metadata": {},
      "outputs": [],
      "source": [
        "my_dict = {\"name\": \"Alice\", \"age\": 25}\n",
        "\n",
        "try:\n",
        "    print(my_dict[\"address\"])  # Accessing a non-existent key\n",
        "except KeyError:\n",
        "    print(\"Key not found in the dictionary!\")\n"
      ]
    },
    {
      "cell_type": "markdown",
      "metadata": {},
      "source": [
        "IndexError: Raised for invalid indexes in a list/tuple.\n",
        "\n",
        "---"
      ]
    },
    {
      "cell_type": "code",
      "execution_count": null,
      "metadata": {},
      "outputs": [],
      "source": [
        "my_list = [1, 2, 3]\n",
        "\n",
        "try:\n",
        "    print(my_list[5])  # Invalid index\n",
        "except IndexError:\n",
        "    print(\"Index out of range!\")\n"
      ]
    }
  ],
  "metadata": {
    "colab": {
      "name": "Exception_handling.ipynb",
      "provenance": [],
      "version": "0.3.2"
    },
    "kernelspec": {
      "display_name": "Python 3",
      "name": "python3"
    }
  },
  "nbformat": 4,
  "nbformat_minor": 0
}
