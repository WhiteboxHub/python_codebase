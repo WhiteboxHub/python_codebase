{
 "cells": [
  {
   "cell_type": "markdown",
   "metadata": {},
   "source": [
    "# trace \n",
    "The trace module in Python is a powerful tool for monitoring and analyzing the execution of Python programs. It allows you to trace program execution, generate annotated statement coverage listings, print caller/callee relationships, and list functions executed during a program run. \n",
    "\n",
    "\n",
    "Key Features:\n",
    "\n",
    "Tracing Execution: Monitor which statements and functions are executed as a program runs. \n",
    "\n",
    "\n",
    "Coverage Analysis: Generate annotated listings that show how many times each statement was executed, helping identify untested parts of your code. \n",
    "\n",
    "\n",
    "Call Graphs: Print caller/callee relationships to understand the structure of function calls in your program. \n",
    "\n",
    "\n",
    "Usage Example:"
   ]
  },
  {
   "cell_type": "markdown",
   "metadata": {},
   "source": [
    "To trace the execution of a Python script and generate an annotated coverage report, you can use the following command:\n",
    "\n",
    "\n",
    "\n",
    "\n"
   ]
  },
  {
   "cell_type": "code",
   "execution_count": null,
   "metadata": {},
   "outputs": [],
   "source": [
    "python -m trace --count -C . your_script.py\n"
   ]
  },
  {
   "cell_type": "markdown",
   "metadata": {},
   "source": [
    "This command will execute your_script.py and create annotated listings of all Python modules imported during the execution in the current directory."
   ]
  },
  {
   "cell_type": "markdown",
   "metadata": {},
   "source": [
    "# urllib\n",
    "The urllib module in Python is a package that collects several modules for working with URLs. It provides a simple interface for network resource access, including fetching URLs, parsing URLs, and handling various internet-related tasks. \n",
    "\n",
    "\n",
    "Key Submodules:\n",
    "\n",
    "urllib.request: For opening and reading URLs. \n",
    "\n",
    "\n",
    "urllib.error: Contains the exceptions raised by urllib.request.\n",
    "\n",
    "urllib.parse: For parsing URLs into components.\n",
    "\n",
    "urllib.robotparser: For parsing robots.txt files.\n",
    "\n",
    "Usage Example:\n",
    "\n",
    "To fetch the content of a URL using urllib.request, you can use the following code:\n"
   ]
  },
  {
   "cell_type": "code",
   "execution_count": null,
   "metadata": {},
   "outputs": [],
   "source": [
    "import urllib.request\n",
    "\n",
    "url = 'http://example.com'\n",
    "with urllib.request.urlopen(url) as response:\n",
    "    html = response.read()\n",
    "    print(html)\n"
   ]
  },
  {
   "cell_type": "markdown",
   "metadata": {},
   "source": [
    "This code opens the specified URL, reads the content, and prints it"
   ]
  }
 ],
 "metadata": {
  "kernelspec": {
   "display_name": ".venv",
   "language": "python",
   "name": "python3"
  },
  "language_info": {
   "codemirror_mode": {
    "name": "ipython",
    "version": 3
   },
   "file_extension": ".py",
   "mimetype": "text/x-python",
   "name": "python",
   "nbconvert_exporter": "python",
   "pygments_lexer": "ipython3",
   "version": "3.13.0"
  }
 },
 "nbformat": 4,
 "nbformat_minor": 2
}
