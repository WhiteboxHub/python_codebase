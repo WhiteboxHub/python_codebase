{
 "cells": [
  {
   "cell_type": "markdown",
   "metadata": {},
   "source": [
    "# math \n",
    "The math module in Python provides access to mathematical functions defined by the C standard. It includes functions for arithmetic, trigonometry, logarithmic computations, and more. This module is efficient and allows for complex numerical computations.\n",
    "\n",
    "### 1. Importing the Math Module"
   ]
  },
  {
   "cell_type": "code",
   "execution_count": 1,
   "metadata": {},
   "outputs": [],
   "source": [
    "import math\n"
   ]
  },
  {
   "cell_type": "markdown",
   "metadata": {},
   "source": [
    "### 2. Key Functions in the Math Module\n",
    "Basic Constants\n",
    "math.pi: The mathematical constant π (3.141592653589793).\n",
    "\n",
    "math.e: The mathematical constant e (2.718281828459045).\n",
    "\n",
    "math.tau: Represents 2π.\n",
    "\n",
    "math.inf: Represents positive infinity.\n",
    "\n",
    "math.nan: Represents \"Not a Number\".\n",
    "\n",
    "Examples:"
   ]
  },
  {
   "cell_type": "code",
   "execution_count": 2,
   "metadata": {},
   "outputs": [
    {
     "name": "stdout",
     "output_type": "stream",
     "text": [
      "Value of pi: 3.141592653589793\n",
      "Value of e: 2.718281828459045\n",
      "Value of tau: 6.283185307179586\n",
      "Infinity: inf\n",
      "Not a Number: nan\n"
     ]
    }
   ],
   "source": [
    "print(\"Value of pi:\", math.pi)\n",
    "print(\"Value of e:\", math.e)\n",
    "print(\"Value of tau:\", math.tau)\n",
    "print(\"Infinity:\", math.inf)\n",
    "print(\"Not a Number:\", math.nan)\n"
   ]
  },
  {
   "cell_type": "markdown",
   "metadata": {},
   "source": [
    "Arithmetic Functions\n",
    "math.ceil(x): Rounds x upward to the nearest integer.\n",
    "\n",
    "math.floor(x): Rounds x downward to the nearest integer.\n",
    "\n",
    "math.trunc(x): Truncates the decimal part of x.\n",
    "\n",
    "math.fabs(x): Returns the absolute value of x as a float.\n",
    "\n",
    "math.factorial(x): Returns the factorial of x.\n",
    "\n"
   ]
  },
  {
   "cell_type": "code",
   "execution_count": 3,
   "metadata": {},
   "outputs": [
    {
     "name": "stdout",
     "output_type": "stream",
     "text": [
      "Ceil of 4.3: 5\n",
      "Floor of 4.7: 4\n",
      "Truncation of -4.9: -4\n",
      "Absolute value of -5.6: 5.6\n",
      "Factorial of 5: 120\n"
     ]
    }
   ],
   "source": [
    "print(\"Ceil of 4.3:\", math.ceil(4.3))\n",
    "print(\"Floor of 4.7:\", math.floor(4.7))\n",
    "print(\"Truncation of -4.9:\", math.trunc(-4.9))\n",
    "print(\"Absolute value of -5.6:\", math.fabs(-5.6))\n",
    "print(\"Factorial of 5:\", math.factorial(5))\n"
   ]
  },
  {
   "cell_type": "markdown",
   "metadata": {},
   "source": [
    "Power and Logarithmic Functions\n",
    "\n",
    "math.pow(x, y): Computes x raised to the power y.\n",
    "\n",
    "math.sqrt(x): Computes the square root of x.\n",
    "\n",
    "math.exp(x): Returns e raised to the power x.\n",
    "\n",
    "math.log(x[, base]): Returns the logarithm of x to the given base.\n",
    "\n",
    "math.log10(x): Returns the base-10 logarithm of x.\n",
    "\n",
    "math.log2(x): Returns the base-2 logarithm of x.\n",
    "\n",
    "Examples:\n"
   ]
  },
  {
   "cell_type": "code",
   "execution_count": 4,
   "metadata": {},
   "outputs": [
    {
     "name": "stdout",
     "output_type": "stream",
     "text": [
      "2 to the power 3: 8.0\n",
      "Square root of 16: 4.0\n",
      "e to the power 2: 7.38905609893065\n",
      "Log base e of 20: 2.995732273553991\n",
      "Log base 10 of 100: 2.0\n",
      "Log base 2 of 32: 5.0\n"
     ]
    }
   ],
   "source": [
    "print(\"2 to the power 3:\", math.pow(2, 3))\n",
    "print(\"Square root of 16:\", math.sqrt(16))\n",
    "print(\"e to the power 2:\", math.exp(2))\n",
    "print(\"Log base e of 20:\", math.log(20))\n",
    "print(\"Log base 10 of 100:\", math.log10(100))\n",
    "print(\"Log base 2 of 32:\", math.log2(32))\n"
   ]
  },
  {
   "cell_type": "markdown",
   "metadata": {},
   "source": [
    "Trigonometric Functions\n",
    "\n",
    "math.sin(x), math.cos(x), math.tan(x): Sine, cosine, and tangent.\n",
    "\n",
    "math.asin(x), math.acos(x), math.atan(x): Inverse trigonometric functions.\n",
    "\n",
    "math.hypot(x, y): Returns the Euclidean norm √(x² + y²).\n",
    "\n",
    "Examples:"
   ]
  },
  {
   "cell_type": "code",
   "execution_count": 5,
   "metadata": {},
   "outputs": [
    {
     "name": "stdout",
     "output_type": "stream",
     "text": [
      "Sine of pi/4: 0.7071067811865475\n",
      "Cosine of pi/4: 0.7071067811865476\n",
      "Tangent of pi/4: 0.9999999999999999\n",
      "Arcsine of 0.5: 0.5235987755982988\n",
      "Hypotenuse of 3 and 4: 5.0\n"
     ]
    }
   ],
   "source": [
    "print(\"Sine of pi/4:\", math.sin(math.pi / 4))\n",
    "print(\"Cosine of pi/4:\", math.cos(math.pi / 4))\n",
    "print(\"Tangent of pi/4:\", math.tan(math.pi / 4))\n",
    "print(\"Arcsine of 0.5:\", math.asin(0.5))\n",
    "print(\"Hypotenuse of 3 and 4:\", math.hypot(3, 4))\n"
   ]
  },
  {
   "cell_type": "markdown",
   "metadata": {},
   "source": [
    "Angular Conversions\n",
    "\n",
    "math.degrees(x): Converts angle x from radians to degrees.\n",
    "\n",
    "math.radians(x): Converts angle x from degrees to radians.\n",
    "\n",
    "Examples:"
   ]
  },
  {
   "cell_type": "code",
   "execution_count": 6,
   "metadata": {},
   "outputs": [
    {
     "name": "stdout",
     "output_type": "stream",
     "text": [
      "90 degrees in radians: 1.5707963267948966\n",
      "π/2 radians in degrees: 90.0\n"
     ]
    }
   ],
   "source": [
    "print(\"90 degrees in radians:\", math.radians(90))\n",
    "print(\"π/2 radians in degrees:\", math.degrees(math.pi / 2))\n"
   ]
  },
  {
   "cell_type": "markdown",
   "metadata": {},
   "source": [
    "Hyperbolic Functions\n",
    "\n",
    "math.sinh(x), math.cosh(x), math.tanh(x): Hyperbolic sine, cosine, and tangent.\n",
    "\n",
    "math.asinh(x), math.acosh(x), math.atanh(x): Inverse hyperbolic functions.\n",
    "\n",
    "Examples:"
   ]
  },
  {
   "cell_type": "code",
   "execution_count": 7,
   "metadata": {},
   "outputs": [
    {
     "name": "stdout",
     "output_type": "stream",
     "text": [
      "Hyperbolic sine of 2: 3.6268604078470186\n",
      "Inverse hyperbolic cosine of 10: 2.993222846126381\n"
     ]
    }
   ],
   "source": [
    "print(\"Hyperbolic sine of 2:\", math.sinh(2))\n",
    "print(\"Inverse hyperbolic cosine of 10:\", math.acosh(10))\n"
   ]
  },
  {
   "cell_type": "markdown",
   "metadata": {},
   "source": [
    "Special Functions\n",
    "\n",
    "math.gamma(x): Computes the Gamma function.\n",
    "\n",
    "math.lgamma(x): Returns the natural logarithm of the absolute value of the Gamma function.\n",
    "\n",
    "Examples:\n",
    "\n"
   ]
  },
  {
   "cell_type": "code",
   "execution_count": 8,
   "metadata": {},
   "outputs": [
    {
     "name": "stdout",
     "output_type": "stream",
     "text": [
      "Gamma of 5: 24.0\n",
      "Log Gamma of 5: 3.1780538303479444\n"
     ]
    }
   ],
   "source": [
    "print(\"Gamma of 5:\", math.gamma(5))\n",
    "print(\"Log Gamma of 5:\", math.lgamma(5))\n"
   ]
  },
  {
   "cell_type": "markdown",
   "metadata": {},
   "source": [
    "Rounding Functions\n",
    "\n",
    "math.isclose(a, b, rel_tol=1e-9, abs_tol=0.0): Determines whether two values are close.\n",
    "\n",
    "math.copysign(x, y): Returns x with the sign of y.\n",
    "\n",
    "Miscellaneous\n",
    "\n",
    "math.isfinite(x): Checks if x is a finite number.\n",
    "\n",
    "math.isinf(x): Checks if x is infinity.\n",
    "\n",
    "math.isnan(x): Checks if x is \"Not a Number\".\n",
    "\n",
    "\n",
    "Examples:\n"
   ]
  },
  {
   "cell_type": "code",
   "execution_count": 9,
   "metadata": {},
   "outputs": [
    {
     "name": "stdout",
     "output_type": "stream",
     "text": [
      "Are 0.1+0.2 and 0.3 close? True\n",
      "Copy sign of -2 to 3: -3.0\n",
      "Is 10 finite? True\n",
      "Is infinity infinite? True\n",
      "Is NaN not a number? True\n"
     ]
    }
   ],
   "source": [
    "print(\"Are 0.1+0.2 and 0.3 close?\", math.isclose(0.1 + 0.2, 0.3))\n",
    "print(\"Copy sign of -2 to 3:\", math.copysign(3, -2))\n",
    "print(\"Is 10 finite?\", math.isfinite(10))\n",
    "print(\"Is infinity infinite?\", math.isinf(math.inf))\n",
    "print(\"Is NaN not a number?\", math.isnan(math.nan))"
   ]
  },
  {
   "cell_type": "markdown",
   "metadata": {},
   "source": [
    "# 3. Comprehensive Example"
   ]
  },
  {
   "cell_type": "code",
   "execution_count": 10,
   "metadata": {},
   "outputs": [
    {
     "name": "stdout",
     "output_type": "stream",
     "text": [
      "Constants: pi=3.141592653589793, e=2.718281828459045, tau=6.283185307179586\n",
      "Ceil(4.7): 5, Floor(4.7): 4\n",
      "Truncate(-5.8): -5, Factorial(5): 120\n",
      "2^3: 8.0, sqrt(16): 4.0\n",
      "log(20): 2.995732273553991, log10(100): 2.0\n",
      "sin(pi/4): 0.7071067811865475, cos(pi/4): 0.7071067811865476\n",
      "Hypotenuse (3,4): 5.0\n",
      "90° to radians: 1.5707963267948966\n",
      "π/2 radians to degrees: 90.0\n",
      "sinh(2): 3.6268604078470186, cosh(2): 3.7621956910836314\n",
      "isfinite(10): True, isnan(NaN): True\n"
     ]
    }
   ],
   "source": [
    "import math\n",
    "\n",
    "# Constants\n",
    "print(f\"Constants: pi={math.pi}, e={math.e}, tau={math.tau}\")\n",
    "\n",
    "# Arithmetic\n",
    "print(f\"Ceil(4.7): {math.ceil(4.7)}, Floor(4.7): {math.floor(4.7)}\")\n",
    "print(f\"Truncate(-5.8): {math.trunc(-5.8)}, Factorial(5): {math.factorial(5)}\")\n",
    "\n",
    "# Power and Logs\n",
    "print(f\"2^3: {math.pow(2, 3)}, sqrt(16): {math.sqrt(16)}\")\n",
    "print(f\"log(20): {math.log(20)}, log10(100): {math.log10(100)}\")\n",
    "\n",
    "# Trigonometry\n",
    "print(f\"sin(pi/4): {math.sin(math.pi/4)}, cos(pi/4): {math.cos(math.pi/4)}\")\n",
    "print(f\"Hypotenuse (3,4): {math.hypot(3, 4)}\")\n",
    "\n",
    "# Angular Conversions\n",
    "print(f\"90° to radians: {math.radians(90)}\")\n",
    "print(f\"π/2 radians to degrees: {math.degrees(math.pi / 2)}\")\n",
    "\n",
    "# Hyperbolic\n",
    "print(f\"sinh(2): {math.sinh(2)}, cosh(2): {math.cosh(2)}\")\n",
    "\n",
    "# Miscellaneous\n",
    "print(f\"isfinite(10): {math.isfinite(10)}, isnan(NaN): {math.isnan(math.nan)}\")\n"
   ]
  }
 ],
 "metadata": {
  "kernelspec": {
   "display_name": ".venv",
   "language": "python",
   "name": "python3"
  },
  "language_info": {
   "codemirror_mode": {
    "name": "ipython",
    "version": 3
   },
   "file_extension": ".py",
   "mimetype": "text/x-python",
   "name": "python",
   "nbconvert_exporter": "python",
   "pygments_lexer": "ipython3",
   "version": "3.13.0"
  }
 },
 "nbformat": 4,
 "nbformat_minor": 2
}
