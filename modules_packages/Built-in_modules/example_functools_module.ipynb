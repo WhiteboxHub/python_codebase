{
 "cells": [
  {
   "cell_type": "markdown",
   "metadata": {},
   "source": [
    "# functools\n",
    "The functools module in Python provides higher-order functions that operate on or return other functions, facilitating functional programming techniques. Here's an overview of its key components:\n",
    "\n",
    "1. @cache Decorator\n",
    "\n",
    "Introduced in Python 3.9, the @cache decorator provides a simple, unbounded function cache, often referred to as \"memoization.\" It stores the results of function calls and returns the cached result when the same inputs occur again.\n",
    "\n",
    "Example:\n",
    "\n"
   ]
  },
  {
   "cell_type": "code",
   "execution_count": null,
   "metadata": {},
   "outputs": [],
   "source": [
    "from functools import cache\n",
    "\n",
    "@cache\n",
    "def factorial(n):\n",
    "    return n * factorial(n-1) if n else 1\n",
    "\n",
    "print(factorial(10))  # Output: 3628800\n"
   ]
  },
  {
   "cell_type": "markdown",
   "metadata": {},
   "source": [
    "2. @cached_property Decorator\n",
    "\n",
    "The @cached_property decorator transforms a method of a class into a property whose value is computed once and then cached as a normal attribute for the life of the instance. This is particularly useful for expensive computed properties that are effectively immutable.\n",
    "\n",
    "Example:"
   ]
  },
  {
   "cell_type": "code",
   "execution_count": 1,
   "metadata": {},
   "outputs": [],
   "source": [
    "from functools import cached_property\n",
    "\n",
    "class DataSet:\n",
    "    def __init__(self, sequence_of_numbers):\n",
    "        self._data = tuple(sequence_of_numbers)\n",
    "\n",
    "    @cached_property\n",
    "    def stdev(self):\n",
    "        return statistics.stdev(self._data)\n"
   ]
  },
  {
   "cell_type": "markdown",
   "metadata": {},
   "source": [
    "3. cmp_to_key() Function\n",
    "\n",
    "The cmp_to_key() function converts an old-style comparison function to a key function. This is useful when working with functions that require a key function, such as sorted(), but the available comparison function uses the old-style comparison.\n",
    "\n",
    "Example:"
   ]
  },
  {
   "cell_type": "code",
   "execution_count": 2,
   "metadata": {},
   "outputs": [],
   "source": [
    "from functools import cmp_to_key\n",
    "\n",
    "def compare(x, y):\n",
    "    return (x > y) - (x < y)\n",
    "\n",
    "data = [1, 2, 3]\n",
    "sorted_data = sorted(data, key=cmp_to_key(compare))\n"
   ]
  },
  {
   "cell_type": "markdown",
   "metadata": {},
   "source": [
    "4. @lru_cache Decorator\n",
    "\n",
    "The @lru_cache decorator provides a decorator to wrap a function with a memoizing callable that saves up to the last maxsize calls. This is useful for functions with expensive or repetitive computations.\n",
    "\n",
    "Example:"
   ]
  },
  {
   "cell_type": "code",
   "execution_count": null,
   "metadata": {},
   "outputs": [],
   "source": [
    "from functools import lru_cache\n",
    "\n",
    "@lru_cache(maxsize=32)\n",
    "def fibonacci(n):\n",
    "    if n < 2:\n",
    "        return n\n",
    "    return fibonacci(n-1) + fibonacci(n-2)\n",
    "\n",
    "print(fibonacci(10))  # Output: 55\n"
   ]
  },
  {
   "cell_type": "markdown",
   "metadata": {},
   "source": [
    "5. @total_ordering Decorator\n",
    "\n",
    "The @total_ordering decorator is used to fill in missing ordering methods in a class. By defining one or more rich comparison methods, it automatically provides the rest.\n",
    "\n",
    "Example:"
   ]
  },
  {
   "cell_type": "code",
   "execution_count": null,
   "metadata": {},
   "outputs": [],
   "source": [
    "from functools import total_ordering\n",
    "\n",
    "@total_ordering\n",
    "class Point:\n",
    "    def __init__(self, x, y):\n",
    "        self.x = x\n",
    "        self.y = y\n",
    "\n",
    "    def __eq__(self, other):\n",
    "        return (self.x, self.y) == (other.x, other.y)\n",
    "\n",
    "    def __lt__(self, other):\n",
    "        return (self.x, self.y) < (other.x, other.y)\n"
   ]
  },
  {
   "cell_type": "markdown",
   "metadata": {},
   "source": [
    "6. partial() Function\n",
    "\n",
    "The partial() function allows partial application of a function by fixing certain arguments. The resulting object is itself callable, and can be invoked with extra positional or named arguments as well.\n",
    "\n",
    "Example:"
   ]
  },
  {
   "cell_type": "code",
   "execution_count": null,
   "metadata": {},
   "outputs": [],
   "source": [
    "from functools import partial\n",
    "\n",
    "def power(base, exponent):\n",
    "    return base ** exponent\n",
    "\n",
    "square = partial(power, exponent=2)\n",
    "print(square(5))  # Output: 25\n"
   ]
  },
  {
   "cell_type": "markdown",
   "metadata": {},
   "source": [
    "7. partialmethod Function\n",
    "\n",
    "The partialmethod function is similar to partial(), but it is designed for methods. It allows partial application of a method by fixing certain arguments.\n",
    "\n",
    "Example:"
   ]
  },
  {
   "cell_type": "code",
   "execution_count": null,
   "metadata": {},
   "outputs": [],
   "source": [
    "from functools import partialmethod\n",
    "\n",
    "class MyClass:\n",
    "    def greet(self, name, greeting):\n",
    "        print(f\"{greeting}, {name}!\")\n",
    "\n",
    "    say_hello = partialmethod(greet, greeting=\"Hello\")\n",
    "    say_goodbye = partialmethod(greet, greeting=\"Goodbye\")\n",
    "\n",
    "obj = MyClass()\n",
    "obj.say_hello(\"Alice\")    # Output: Hello, Alice!\n",
    "obj.say_goodbye(\"Bob\")    # Output: Goodbye, Bob!\n"
   ]
  },
  {
   "cell_type": "markdown",
   "metadata": {},
   "source": [
    "8. reduce() Function\n",
    "\n",
    "The reduce() function applies a binary function cumulatively to the items of an iterable, from left to right, so as to reduce the iterable to a single value.\n",
    "\n",
    "Example:"
   ]
  },
  {
   "cell_type": "code",
   "execution_count": null,
   "metadata": {},
   "outputs": [],
   "source": [
    "from functools import reduce\n",
    "\n",
    "data = [1, 2, 3, 4]\n",
    "result = reduce(lambda x, y: x * y, data)\n",
    "print(result)  # Output: 24\n"
   ]
  },
  {
   "cell_type": "markdown",
   "metadata": {},
   "source": [
    "9. singledispatch() Function\n",
    "\n",
    "The singledispatch() function is a decorator that transforms a function into a single-dispatch generic function. It allows you to define methods that behave differently based on the type of the first argument.\n",
    "\n",
    "Example:"
   ]
  },
  {
   "cell_type": "code",
   "execution_count": null,
   "metadata": {},
   "outputs": [],
   "source": [
    "from functools import singledispatch\n",
    "\n",
    "@singledispatch\n",
    "def process(value):\n",
    "    print(f\"Processing {value}\")\n",
    "\n",
    "@process.register(int)\n",
    "def _(value):\n",
    "    print(f\"Processing integer: {value}\")\n",
    "\n",
    "@process.register(str)\n",
    "def _(value):\n",
    "    print(f\"Processing string: {value}\")\n",
    "\n",
    "process(10)    # Output: Processing integer: 10\n",
    "process(\"hi\")  # Output: Processing string: hi\n",
    "process([1, 2, 3])  # Output: Processing [1, 2, 3]\n"
   ]
  },
  {
   "cell_type": "markdown",
   "metadata": {},
   "source": [
    "10. singledispatchmethod Function\n",
    "\n",
    "The singledispatchmethod function is similar to singledispatch(), but it is designed for methods. It allows you to define methods that behave differently based on the type of the first argument.\n",
    "\n",
    "Example:"
   ]
  },
  {
   "cell_type": "code",
   "execution_count": 4,
   "metadata": {},
   "outputs": [
    {
     "name": "stdout",
     "output_type": "stream",
     "text": [
      "Processing integer: 10\n",
      "Processing string: hi\n",
      "Processing [1, 2, 3]\n"
     ]
    }
   ],
   "source": [
    "from functools import singledispatchmethod\n",
    "\n",
    "class Processor:\n",
    "    @singledispatchmethod\n",
    "    def process(self, value):\n",
    "        print(f\"Processing {value}\")\n",
    "\n",
    "    @process.register(int)\n",
    "    def _(self, value):\n",
    "        print(f\"Processing integer: {value}\")\n",
    "\n",
    "    @process.register(str)\n",
    "    def _(self, value):\n",
    "        print(f\"Processing string: {value}\")\n",
    "\n",
    "processor = Processor()\n",
    "processor.process(10)    # Output: Processing integer: 10\n",
    "processor.process(\"hi\")  # Output: Processing string: hi\n",
    "processor.process([1, 2, 3]) \n",
    "\n",
    " \n"
   ]
  }
 ],
 "metadata": {
  "kernelspec": {
   "display_name": ".venv",
   "language": "python",
   "name": "python3"
  },
  "language_info": {
   "codemirror_mode": {
    "name": "ipython",
    "version": 3
   },
   "file_extension": ".py",
   "mimetype": "text/x-python",
   "name": "python",
   "nbconvert_exporter": "python",
   "pygments_lexer": "ipython3",
   "version": "3.13.0"
  }
 },
 "nbformat": 4,
 "nbformat_minor": 2
}
