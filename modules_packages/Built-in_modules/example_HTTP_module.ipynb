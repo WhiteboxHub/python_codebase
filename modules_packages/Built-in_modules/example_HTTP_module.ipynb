{
 "cells": [
  {
   "cell_type": "markdown",
   "metadata": {},
   "source": [
    "# HTTP \n",
    "The http package in Python's standard library provides modules for working with the HyperText Transfer Protocol (HTTP). It includes tools for both client-side and server-side HTTP operations, as well as utilities for handling cookies and status codes.\n",
    "\n",
    "1. http.client — HTTP Protocol Client\n",
    "\n",
    "The http.client module defines classes that implement the client side of the HTTP and HTTPS protocols. It is typically used indirectly through higher-level modules like urllib.request. However, for more granular control over HTTP requests, http.client can be utilized directly. \n",
    "\n",
    "\n",
    "Example:"
   ]
  },
  {
   "cell_type": "code",
   "execution_count": null,
   "metadata": {},
   "outputs": [],
   "source": [
    "import http.client\n",
    "\n",
    "# Create a connection to the server\n",
    "connection = http.client.HTTPConnection('www.example.com')\n",
    "\n",
    "# Send a GET request\n",
    "connection.request('GET', '/')\n",
    "\n",
    "# Get the response\n",
    "response = connection.getresponse()\n",
    "print(response.status, response.reason)\n",
    "\n",
    "# Read the response data\n",
    "data = response.read()\n",
    "print(data.decode())\n",
    "\n",
    "# Close the connection\n",
    "connection.close()\n"
   ]
  },
  {
   "cell_type": "markdown",
   "metadata": {},
   "source": [
    "2. http.server — HTTP Servers\n",
    "\n",
    "The http.server module provides basic classes for implementing HTTP servers. It is not recommended for production environments due to its limited security features but is useful for testing and development purposes. \n",
    "\n",
    "\n",
    "Example:\n",
    "\n"
   ]
  },
  {
   "cell_type": "code",
   "execution_count": 1,
   "metadata": {},
   "outputs": [
    {
     "name": "stdout",
     "output_type": "stream",
     "text": [
      "Serving HTTP on port 8000...\n"
     ]
    },
    {
     "ename": "KeyboardInterrupt",
     "evalue": "",
     "output_type": "error",
     "traceback": [
      "\u001b[0;31m---------------------------------------------------------------------------\u001b[0m",
      "\u001b[0;31mKeyboardInterrupt\u001b[0m                         Traceback (most recent call last)",
      "Cell \u001b[0;32mIn[1], line 11\u001b[0m\n\u001b[1;32m      9\u001b[0m \u001b[38;5;66;03m# Start the server\u001b[39;00m\n\u001b[1;32m     10\u001b[0m \u001b[38;5;28mprint\u001b[39m(\u001b[38;5;124m\"\u001b[39m\u001b[38;5;124mServing HTTP on port 8000...\u001b[39m\u001b[38;5;124m\"\u001b[39m)\n\u001b[0;32m---> 11\u001b[0m \u001b[43mhttpd\u001b[49m\u001b[38;5;241;43m.\u001b[39;49m\u001b[43mserve_forever\u001b[49m\u001b[43m(\u001b[49m\u001b[43m)\u001b[49m\n",
      "File \u001b[0;32m/Library/Frameworks/Python.framework/Versions/3.13/lib/python3.13/socketserver.py:235\u001b[0m, in \u001b[0;36mBaseServer.serve_forever\u001b[0;34m(self, poll_interval)\u001b[0m\n\u001b[1;32m    232\u001b[0m selector\u001b[38;5;241m.\u001b[39mregister(\u001b[38;5;28mself\u001b[39m, selectors\u001b[38;5;241m.\u001b[39mEVENT_READ)\n\u001b[1;32m    234\u001b[0m \u001b[38;5;28;01mwhile\u001b[39;00m \u001b[38;5;129;01mnot\u001b[39;00m \u001b[38;5;28mself\u001b[39m\u001b[38;5;241m.\u001b[39m__shutdown_request:\n\u001b[0;32m--> 235\u001b[0m     ready \u001b[38;5;241m=\u001b[39m \u001b[43mselector\u001b[49m\u001b[38;5;241;43m.\u001b[39;49m\u001b[43mselect\u001b[49m\u001b[43m(\u001b[49m\u001b[43mpoll_interval\u001b[49m\u001b[43m)\u001b[49m\n\u001b[1;32m    236\u001b[0m     \u001b[38;5;66;03m# bpo-35017: shutdown() called during select(), exit immediately.\u001b[39;00m\n\u001b[1;32m    237\u001b[0m     \u001b[38;5;28;01mif\u001b[39;00m \u001b[38;5;28mself\u001b[39m\u001b[38;5;241m.\u001b[39m__shutdown_request:\n",
      "File \u001b[0;32m/Library/Frameworks/Python.framework/Versions/3.13/lib/python3.13/selectors.py:398\u001b[0m, in \u001b[0;36m_PollLikeSelector.select\u001b[0;34m(self, timeout)\u001b[0m\n\u001b[1;32m    396\u001b[0m ready \u001b[38;5;241m=\u001b[39m []\n\u001b[1;32m    397\u001b[0m \u001b[38;5;28;01mtry\u001b[39;00m:\n\u001b[0;32m--> 398\u001b[0m     fd_event_list \u001b[38;5;241m=\u001b[39m \u001b[38;5;28;43mself\u001b[39;49m\u001b[38;5;241;43m.\u001b[39;49m\u001b[43m_selector\u001b[49m\u001b[38;5;241;43m.\u001b[39;49m\u001b[43mpoll\u001b[49m\u001b[43m(\u001b[49m\u001b[43mtimeout\u001b[49m\u001b[43m)\u001b[49m\n\u001b[1;32m    399\u001b[0m \u001b[38;5;28;01mexcept\u001b[39;00m \u001b[38;5;167;01mInterruptedError\u001b[39;00m:\n\u001b[1;32m    400\u001b[0m     \u001b[38;5;28;01mreturn\u001b[39;00m ready\n",
      "\u001b[0;31mKeyboardInterrupt\u001b[0m: "
     ]
    }
   ],
   "source": [
    "from http.server import SimpleHTTPRequestHandler, HTTPServer\n",
    "\n",
    "# Define the server address and port\n",
    "server_address = ('', 8000)\n",
    "\n",
    "# Create the server\n",
    "httpd = HTTPServer(server_address, SimpleHTTPRequestHandler)\n",
    "\n",
    "# Start the server\n",
    "print(\"Serving HTTP on port 8000...\")\n",
    "httpd.serve_forever()\n"
   ]
  },
  {
   "cell_type": "markdown",
   "metadata": {},
   "source": [
    "3. http.cookies — HTTP State Management\n",
    "\n",
    "The http.cookies module defines classes for parsing and creating HTTP cookie headers. Cookies are used for state management in HTTP, allowing servers to store information about clients. \n",
    "\n",
    "\n",
    "Example:\n",
    "\n",
    "\n"
   ]
  },
  {
   "cell_type": "code",
   "execution_count": null,
   "metadata": {},
   "outputs": [],
   "source": [
    "from http.cookies import SimpleCookie\n",
    "\n",
    "# Create a new cookie\n",
    "cookie = SimpleCookie()\n",
    "cookie['user'] = 'john_doe'\n",
    "cookie['session'] = 'xyz123'\n",
    "\n",
    "# Print the cookie header\n",
    "print(cookie.output())\n"
   ]
  },
  {
   "cell_type": "markdown",
   "metadata": {},
   "source": [
    "4. http.HTTPStatus — HTTP Status Codes\n",
    "\n",
    "The http.HTTPStatus module provides an enumeration of HTTP status codes, their associated phrases, and descriptions. This is useful for handling HTTP responses in a more readable and maintainable way. \n",
    "\n",
    "\n",
    "Example:\n",
    "\n"
   ]
  },
  {
   "cell_type": "code",
   "execution_count": 2,
   "metadata": {},
   "outputs": [
    {
     "name": "stdout",
     "output_type": "stream",
     "text": [
      "200\n",
      "200\n",
      "OK\n",
      "Request fulfilled, document follows\n"
     ]
    }
   ],
   "source": [
    "from http import HTTPStatus\n",
    "\n",
    "# Access a specific status code\n",
    "status = HTTPStatus.OK\n",
    "print(status)        # Output: HTTPStatus.OK\n",
    "print(status.value)  # Output: 200\n",
    "print(status.phrase) # Output: OK\n",
    "print(status.description) # Output: Request fulfilled, document follows\n"
   ]
  },
  {
   "cell_type": "markdown",
   "metadata": {},
   "source": [
    "5. http.cookiejar — Cookie Persistence\n",
    "\n",
    "The http.cookiejar module provides a mechanism for automatic cookie handling. It can be used to automatically handle cookies in HTTP requests and responses, which is particularly useful when dealing with websites that require login sessions.\n",
    "\n",
    "Example:\n",
    "\n"
   ]
  },
  {
   "cell_type": "code",
   "execution_count": 4,
   "metadata": {},
   "outputs": [],
   "source": [
    "import http.cookiejar\n",
    "import urllib.request\n",
    "\n",
    "# Create a cookie jar to store cookies\n",
    "cookie_jar = http.cookiejar.CookieJar()\n",
    "\n",
    "# Create an opener that uses the cookie jar\n",
    "opener = urllib.request.build_opener(urllib.request.HTTPCookieProcessor(cookie_jar))\n",
    "\n",
    "# Use the opener to make a request\n",
    "response = opener.open('http://www.example.com')\n",
    "\n",
    "# Print the cookies\n",
    "for cookie in cookie_jar:\n",
    "    print(cookie.name, cookie.value)\n"
   ]
  }
 ],
 "metadata": {
  "kernelspec": {
   "display_name": ".venv",
   "language": "python",
   "name": "python3"
  },
  "language_info": {
   "codemirror_mode": {
    "name": "ipython",
    "version": 3
   },
   "file_extension": ".py",
   "mimetype": "text/x-python",
   "name": "python",
   "nbconvert_exporter": "python",
   "pygments_lexer": "ipython3",
   "version": "3.13.0"
  }
 },
 "nbformat": 4,
 "nbformat_minor": 2
}
