{
 "cells": [
  {
   "cell_type": "markdown",
   "metadata": {},
   "source": [
    "# pickle \n",
    "The pickle module in Python is used for serializing and deserializing objects, a process known as pickling and unpickling, respectively. Serialization converts a Python object into a byte stream, allowing it to be saved to a file or transmitted over a network. Deserialization reconstructs the original object from this byte stream. \n",
    "\n",
    "\n",
    "Basic Usage\n",
    "\n",
    "To serialize an object to a file:\n",
    "\n",
    "\n"
   ]
  },
  {
   "cell_type": "code",
   "execution_count": null,
   "metadata": {},
   "outputs": [],
   "source": [
    "import pickle\n",
    "\n",
    "# Example object\n",
    "data = {'key1': 'value1', 'key2': [1, 2, 3]}\n",
    "\n",
    "# Serialize to a file\n",
    "with open('data.pkl', 'wb') as file:\n",
    "    pickle.dump(data, file)\n"
   ]
  },
  {
   "cell_type": "markdown",
   "metadata": {},
   "source": [
    "To deserialize the object from the file:"
   ]
  },
  {
   "cell_type": "code",
   "execution_count": null,
   "metadata": {},
   "outputs": [],
   "source": [
    "import pickle\n",
    "\n",
    "# Deserialize from a file\n",
    "with open('data.pkl', 'rb') as file:\n",
    "    data = pickle.load(file)\n",
    "\n",
    "print(data)\n"
   ]
  },
  {
   "cell_type": "markdown",
   "metadata": {},
   "source": [
    "Serialization Functions\n",
    "\n",
    "pickle.dump(obj, file): Serializes obj and writes it to an open file object file.\n",
    "\n",
    "pickle.dumps(obj): Serializes obj and returns the resulting byte stream.\n",
    "\n",
    "pickle.load(file): Reads a byte stream from an open file object file and deserializes it to a Python object.\n",
    "\n",
    "pickle.loads(bytes_object): Deserializes the byte stream bytes_object to a Python object.\n",
    "\n",
    "Protocol Versions\n",
    "\n",
    "The pickle module supports different protocol versions, which determine the format of the serialized data. The default protocol is version 4, introduced in Python 3.4. You can specify a different protocol version when serializing:"
   ]
  },
  {
   "cell_type": "code",
   "execution_count": null,
   "metadata": {},
   "outputs": [],
   "source": [
    "import pickle\n",
    "\n",
    "data = {'key1': 'value1', 'key2': [1, 2, 3]}\n",
    "\n",
    "# Serialize with protocol version 2\n",
    "with open('data.pkl', 'wb') as file:\n",
    "    pickle.dump(data, file, protocol=2)\n"
   ]
  },
  {
   "cell_type": "markdown",
   "metadata": {},
   "source": [
    "Security Considerations\n",
    "\n",
    "Be cautious when deserializing data from untrusted sources, as the pickle module can execute arbitrary code during deserialization. It's recommended to use pickle only with trusted data sources"
   ]
  }
 ],
 "metadata": {
  "kernelspec": {
   "display_name": ".venv",
   "language": "python",
   "name": "python3"
  },
  "language_info": {
   "name": "python",
   "version": "3.13.0"
  }
 },
 "nbformat": 4,
 "nbformat_minor": 2
}
