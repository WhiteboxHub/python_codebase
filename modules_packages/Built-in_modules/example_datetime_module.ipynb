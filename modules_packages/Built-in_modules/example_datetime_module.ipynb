{
 "cells": [
  {
   "cell_type": "markdown",
   "metadata": {},
   "source": [
    "# datetime\n",
    "\n",
    "The datetime module in Python provides a comprehensive suite of classes for manipulating dates and times. It allows for simple arithmetic operations, formatting, and parsing of date-time data."
   ]
  },
  {
   "cell_type": "markdown",
   "metadata": {},
   "source": [
    "The module offers several key classes:\n",
    "\n",
    "date: Represents a date (year, month, and day) without time.\n",
    "\n",
    "time: Represents a time independent of any date.\n",
    "\n",
    "datetime: Combines date and time into a single entity.\n",
    "\n",
    "timedelta: Represents the difference between two date, time, or datetime instances.\n",
    "\n",
    "tzinfo: An abstract base class for dealing with time zones.\n",
    "\n",
    "Working with Dates\n",
    "\n",
    "To create a date object"
   ]
  },
  {
   "cell_type": "code",
   "execution_count": 1,
   "metadata": {},
   "outputs": [
    {
     "name": "stdout",
     "output_type": "stream",
     "text": [
      "2024-12-25\n"
     ]
    }
   ],
   "source": [
    "from datetime import date\n",
    "\n",
    "# Create a date object for December 25, 2024\n",
    "d = date(2024, 12, 25)\n",
    "print(d)  # Output: 2024-12-25\n"
   ]
  },
  {
   "cell_type": "markdown",
   "metadata": {},
   "source": [
    "Access individual components:"
   ]
  },
  {
   "cell_type": "code",
   "execution_count": 2,
   "metadata": {},
   "outputs": [
    {
     "name": "stdout",
     "output_type": "stream",
     "text": [
      "2024\n",
      "12\n",
      "25\n"
     ]
    }
   ],
   "source": [
    "print(d.year)   # Output: 2024\n",
    "print(d.month)  # Output: 12\n",
    "print(d.day)    # Output: 25\n"
   ]
  },
  {
   "cell_type": "markdown",
   "metadata": {},
   "source": [
    "Retrieve today's date:\n",
    "\n"
   ]
  },
  {
   "cell_type": "code",
   "execution_count": 3,
   "metadata": {},
   "outputs": [
    {
     "name": "stdout",
     "output_type": "stream",
     "text": [
      "2024-12-24\n"
     ]
    }
   ],
   "source": [
    "today = date.today()\n",
    "print(today)  # Outputs the current date\n"
   ]
  },
  {
   "cell_type": "markdown",
   "metadata": {},
   "source": [
    "# Working with Times\n",
    "\n",
    "To create a time object:\n"
   ]
  },
  {
   "cell_type": "code",
   "execution_count": 4,
   "metadata": {},
   "outputs": [
    {
     "name": "stdout",
     "output_type": "stream",
     "text": [
      "14:30:00\n"
     ]
    }
   ],
   "source": [
    "from datetime import time\n",
    "\n",
    "# Create a time object for 14:30:00\n",
    "t = time(14, 30)\n",
    "print(t)  # Output: 14:30:00\n"
   ]
  },
  {
   "cell_type": "markdown",
   "metadata": {},
   "source": [
    "Access individual components:\n",
    "\n",
    "\n"
   ]
  },
  {
   "cell_type": "code",
   "execution_count": null,
   "metadata": {},
   "outputs": [],
   "source": [
    "print(t.hour)   # Output: 14\n",
    "print(t.minute) # Output: 30\n",
    "print(t.second) # Output: 0\n"
   ]
  },
  {
   "cell_type": "markdown",
   "metadata": {},
   "source": [
    "# Working with DateTime\n",
    "\n",
    "To create a datetime object:\n",
    "\n",
    "\n"
   ]
  },
  {
   "cell_type": "code",
   "execution_count": 5,
   "metadata": {},
   "outputs": [
    {
     "name": "stdout",
     "output_type": "stream",
     "text": [
      "2024-12-25 14:30:00\n"
     ]
    }
   ],
   "source": [
    "from datetime import datetime\n",
    "\n",
    "# Create a datetime object for December 25, 2024, at 14:30:00\n",
    "dt = datetime(2024, 12, 25, 14, 30)\n",
    "print(dt)  # Output: 2024-12-25 14:30:00\n"
   ]
  },
  {
   "cell_type": "markdown",
   "metadata": {},
   "source": [
    "Access individual components:\n",
    "\n",
    "Retrieve the current date and time:\n"
   ]
  },
  {
   "cell_type": "code",
   "execution_count": 6,
   "metadata": {},
   "outputs": [
    {
     "name": "stdout",
     "output_type": "stream",
     "text": [
      "2024-12-25\n",
      "14:30:00\n",
      "2024-12-24 14:34:06.943022\n"
     ]
    }
   ],
   "source": [
    "print(dt.date())  # Output: 2024-12-25\n",
    "print(dt.time())  # Output: 14:30:00\n",
    "\n",
    "now = datetime.now()\n",
    "print(now)  # Outputs the current date and time"
   ]
  },
  {
   "cell_type": "markdown",
   "metadata": {},
   "source": [
    "### DateTime Arithmetic\n",
    "\n",
    "Perform arithmetic operations:\n",
    "\n"
   ]
  },
  {
   "cell_type": "code",
   "execution_count": null,
   "metadata": {},
   "outputs": [],
   "source": [
    "from datetime import timedelta\n",
    "\n",
    "# Add 7 days to the current date\n",
    "future_date = today + timedelta(days=7)\n",
    "print(future_date)\n",
    "\n",
    "# Calculate the difference between two dates\n",
    "delta = future_date - today\n",
    "print(delta.days)  # Output: 7\n"
   ]
  },
  {
   "cell_type": "markdown",
   "metadata": {},
   "source": [
    "# Time Zones\n",
    "\n",
    "The datetime module's tzinfo class is abstract and doesn't provide a concrete implementation for time zones. For practical time zone handling, third-party libraries like pytz are commonly used."
   ]
  },
  {
   "cell_type": "code",
   "execution_count": null,
   "metadata": {},
   "outputs": [],
   "source": [
    "from datetime import datetime\n",
    "import pytz\n",
    "\n",
    "# Define a timezone\n",
    "timezone = pytz.timezone('Asia/Kolkata')\n",
    "\n",
    "# Localize a datetime object\n",
    "localized_dt = timezone.localize(datetime(2024, 12, 25, 14, 30))\n",
    "print(localized_dt)  # Output: 2024-12-25 14:30:00+05:30\n"
   ]
  }
 ],
 "metadata": {
  "kernelspec": {
   "display_name": ".venv",
   "language": "python",
   "name": "python3"
  },
  "language_info": {
   "codemirror_mode": {
    "name": "ipython",
    "version": 3
   },
   "file_extension": ".py",
   "mimetype": "text/x-python",
   "name": "python",
   "nbconvert_exporter": "python",
   "pygments_lexer": "ipython3",
   "version": "3.13.0"
  }
 },
 "nbformat": 4,
 "nbformat_minor": 2
}
