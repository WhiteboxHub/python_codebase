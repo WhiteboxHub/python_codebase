{
 "cells": [
  {
   "cell_type": "markdown",
   "metadata": {},
   "source": [
    "# enum\n",
    "The enum module in Python, introduced in version 3.4, provides support for enumerations—sets of symbolic names bound to unique, constant values. Enumerations are useful when you have a variable that can take one of a limited set of values, enhancing code clarity and type safety. \n",
    "\n",
    "\n",
    "Creating an Enumeration\n",
    "\n",
    "Enumerations are typically created by subclassing the Enum class. Here's an example defining days of the week:\n",
    "\n"
   ]
  },
  {
   "cell_type": "code",
   "execution_count": 1,
   "metadata": {},
   "outputs": [],
   "source": [
    "from enum import Enum\n",
    "\n",
    "class Weekday(Enum):\n",
    "    MONDAY = 1\n",
    "    TUESDAY = 2\n",
    "    WEDNESDAY = 3\n",
    "    THURSDAY = 4\n",
    "    FRIDAY = 5\n",
    "    SATURDAY = 6\n",
    "    SUNDAY = 7\n"
   ]
  },
  {
   "cell_type": "markdown",
   "metadata": {},
   "source": [
    "In this example, Weekday is an enumeration with members representing each day of the week. Each member has a unique value, which can be of any data type, such as integers or strings. \n",
    "\n",
    "\n",
    "Accessing Enumeration Members\n",
    "\n",
    "You can access enumeration members by their names or values:\n",
    "\n"
   ]
  },
  {
   "cell_type": "code",
   "execution_count": 2,
   "metadata": {},
   "outputs": [
    {
     "name": "stdout",
     "output_type": "stream",
     "text": [
      "Weekday.MONDAY\n",
      "MONDAY\n",
      "1\n",
      "Weekday.MONDAY\n"
     ]
    }
   ],
   "source": [
    "# Access by name\n",
    "day = Weekday.MONDAY\n",
    "print(day)        # Output: Weekday.MONDAY\n",
    "print(day.name)   # Output: MONDAY\n",
    "print(day.value)  # Output: 1\n",
    "\n",
    "# Access by value\n",
    "day = Weekday(1)\n",
    "print(day)        # Output: Weekday.MONDAY\n"
   ]
  },
  {
   "cell_type": "markdown",
   "metadata": {},
   "source": [
    "Enumerations support iteration, allowing you to loop over their members:"
   ]
  },
  {
   "cell_type": "code",
   "execution_count": 3,
   "metadata": {},
   "outputs": [
    {
     "name": "stdout",
     "output_type": "stream",
     "text": [
      "Weekday.MONDAY\n",
      "Weekday.TUESDAY\n",
      "Weekday.WEDNESDAY\n",
      "Weekday.THURSDAY\n",
      "Weekday.FRIDAY\n",
      "Weekday.SATURDAY\n",
      "Weekday.SUNDAY\n"
     ]
    }
   ],
   "source": [
    "for day in Weekday:\n",
    "    print(day)\n"
   ]
  },
  {
   "cell_type": "markdown",
   "metadata": {},
   "source": [
    "Ensuring Unique Enumeration Values\n",
    "\n",
    "By default, enumerations allow multiple names to be bound to the same value. To ensure that each value is unique, you can use the @unique decorator:\n",
    "\n",
    "\n"
   ]
  },
  {
   "cell_type": "code",
   "execution_count": null,
   "metadata": {},
   "outputs": [],
   "source": [
    "from enum import Enum, unique\n",
    "\n",
    "@unique\n",
    "class Color(Enum):\n",
    "    RED = 1\n",
    "    GREEN = 2\n",
    "    BLUE = 3\n"
   ]
  },
  {
   "cell_type": "markdown",
   "metadata": {},
   "source": [
    "Using the @unique decorator ensures that no two members have the same value. If you attempt to create an enumeration with duplicate values, a ValueError will be raised. \n",
    "\n",
    "\n",
    "Auto-Assigning Values\n",
    "\n",
    "If the exact value of an enumeration member is unimportant, you can use the auto() function to automatically assign values:"
   ]
  },
  {
   "cell_type": "code",
   "execution_count": 4,
   "metadata": {},
   "outputs": [
    {
     "name": "stdout",
     "output_type": "stream",
     "text": [
      "[<Color.RED: 1>, <Color.GREEN: 2>, <Color.BLUE: 3>]\n"
     ]
    }
   ],
   "source": [
    "from enum import Enum, auto\n",
    "\n",
    "class Color(Enum):\n",
    "    RED = auto()\n",
    "    GREEN = auto()\n",
    "    BLUE = auto()\n",
    "\n",
    "print(list(Color))\n"
   ]
  },
  {
   "cell_type": "markdown",
   "metadata": {},
   "source": [
    "Comparisons and Hashing\n",
    "\n",
    "Enumeration members support identity comparisons and can be used as dictionary keys or set elements because they are hashable:\n",
    "\n",
    "\n"
   ]
  },
  {
   "cell_type": "code",
   "execution_count": 5,
   "metadata": {},
   "outputs": [
    {
     "name": "stdout",
     "output_type": "stream",
     "text": [
      "It's Monday!\n"
     ]
    }
   ],
   "source": [
    "day = Weekday.MONDAY\n",
    "\n",
    "if day == Weekday.MONDAY:\n",
    "    print(\"It's Monday!\")\n",
    "\n",
    "days_set = {Weekday.MONDAY, Weekday.TUESDAY}\n",
    "days_dict = {Weekday.MONDAY: \"Start of the week\", Weekday.FRIDAY: \"End of the workweek\"}\n"
   ]
  },
  {
   "cell_type": "markdown",
   "metadata": {},
   "source": [
    "Enumerations also support rich comparisons, allowing you to compare members using standard comparison operators.\n",
    "\n",
    "Extended Functionality\n",
    "\n",
    "The enum module also provides specialized classes for specific use cases:\n",
    "\n",
    "IntEnum: For enumerations where members are also subclasses of int.\n",
    "StrEnum: For enumerations where members are also subclasses of str.\n",
    "Flag and IntFlag: For enumerations where members can be combined using bitwise operations."
   ]
  }
 ],
 "metadata": {
  "kernelspec": {
   "display_name": ".venv",
   "language": "python",
   "name": "python3"
  },
  "language_info": {
   "codemirror_mode": {
    "name": "ipython",
    "version": 3
   },
   "file_extension": ".py",
   "mimetype": "text/x-python",
   "name": "python",
   "nbconvert_exporter": "python",
   "pygments_lexer": "ipython3",
   "version": "3.13.0"
  }
 },
 "nbformat": 4,
 "nbformat_minor": 2
}
