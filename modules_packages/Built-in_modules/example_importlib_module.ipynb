{
 "cells": [
  {
   "cell_type": "markdown",
   "metadata": {},
   "source": [
    "# importlib\n",
    "The importlib module in Python provides a rich API for interacting with the import system, allowing for dynamic import of modules and manipulation of the import process. \n",
    "\n",
    "\n",
    "Key Functions and Classes in importlib\n",
    "\n",
    "importlib.import_module(name, package=None): This function allows you to import a module by name. It's a higher-level alternative to the built-in __import__() function. The name parameter is the name of the module to import, and package is the package to consider as the context for relative module names.\n",
    "\n",
    "Example:\n"
   ]
  },
  {
   "cell_type": "code",
   "execution_count": null,
   "metadata": {},
   "outputs": [],
   "source": [
    "import importlib\n",
    "\n",
    "# Import the 'math' module\n",
    "math = importlib.import_module('math')\n",
    "\n",
    "# Use a function from the 'math' module\n",
    "result = math.sqrt(16)\n",
    "print(result)  # Output: 4.0\n"
   ]
  },
  {
   "cell_type": "markdown",
   "metadata": {},
   "source": [
    "importlib.reload(module): This function reloads a previously imported module. It's useful when you want to re-execute a module's code, for instance, after modifying the module's source code.\n",
    "\n",
    "Example:"
   ]
  },
  {
   "cell_type": "code",
   "execution_count": null,
   "metadata": {},
   "outputs": [
    {
     "ename": "ModuleNotFoundError",
     "evalue": "No module named 'mymodule'",
     "output_type": "error",
     "traceback": [
      "\u001b[0;31m---------------------------------------------------------------------------\u001b[0m",
      "\u001b[0;31mModuleNotFoundError\u001b[0m                       Traceback (most recent call last)",
      "Cell \u001b[0;32mIn[1], line 2\u001b[0m\n\u001b[1;32m      1\u001b[0m \u001b[38;5;28;01mimport\u001b[39;00m \u001b[38;5;21;01mimportlib\u001b[39;00m\n\u001b[0;32m----> 2\u001b[0m \u001b[38;5;28;01mimport\u001b[39;00m \u001b[38;5;21;01mmymodule\u001b[39;00m\n\u001b[1;32m      4\u001b[0m \u001b[38;5;66;03m# Modify mymodule.py externally\u001b[39;00m\n\u001b[1;32m      5\u001b[0m \n\u001b[1;32m      6\u001b[0m \u001b[38;5;66;03m# Reload the module to apply changes\u001b[39;00m\n\u001b[1;32m      7\u001b[0m importlib\u001b[38;5;241m.\u001b[39mreload(mymodule)\n",
      "\u001b[0;31mModuleNotFoundError\u001b[0m: No module named 'mymodule'"
     ]
    }
   ],
   "source": [
    "import importlib\n",
    "import mymodule # import this module\n",
    "\n",
    "# Modify mymodule.py externally\n",
    "\n",
    "# Reload the module to apply changes\n",
    "importlib.reload(mymodule)\n"
   ]
  },
  {
   "cell_type": "markdown",
   "metadata": {},
   "source": [
    "importlib.util.find_spec(name, package=None): This function returns a module spec for the named module, which can be used to load the module. It's part of the importlib.util submodule.\n",
    "\n",
    "Example:"
   ]
  },
  {
   "cell_type": "code",
   "execution_count": null,
   "metadata": {},
   "outputs": [],
   "source": [
    "import importlib.util\n",
    "\n",
    "# Find the spec for the 'math' module\n",
    "spec = importlib.util.find_spec('math')\n",
    "if spec is not None:\n",
    "    print(f\"Module 'math' found at {spec.origin}\")\n",
    "else:\n",
    "    print(\"Module 'math' not found.\")\n"
   ]
  },
  {
   "cell_type": "markdown",
   "metadata": {},
   "source": [
    "importlib.machinery: This submodule provides classes and functions for importing modules, including the SourceFileLoader and SourcelessFileLoader, which can be used to load modules from source files or compiled files, respectively.\n",
    "\n",
    "Example:\n",
    "\n"
   ]
  },
  {
   "cell_type": "code",
   "execution_count": null,
   "metadata": {},
   "outputs": [],
   "source": [
    "from importlib.machinery import SourceFileLoader\n",
    "\n",
    "# Load a module from a source file\n",
    "module_name = 'my_module'\n",
    "file_path = '/path/to/my_module.py'\n",
    "loader = SourceFileLoader(module_name, file_path)\n",
    "module = loader.load_module()\n"
   ]
  },
  {
   "cell_type": "markdown",
   "metadata": {},
   "source": [
    "importlib.abc: This submodule contains abstract base classes for implementing custom importers and loaders, allowing for the creation of custom import mechanisms. For instance, importlib.abc.Loader is an abstract base class for implementing custom loaders.\n",
    "\n",
    "Example:"
   ]
  },
  {
   "cell_type": "code",
   "execution_count": null,
   "metadata": {},
   "outputs": [],
   "source": [
    "from importlib.abc import Loader\n",
    "\n",
    "class MyLoader(Loader):\n",
    "    def __init__(self, name):\n",
    "        self.name = name\n",
    "\n",
    "    def create_module(self, spec):\n",
    "        # Create a new module\n",
    "        return None\n",
    "\n",
    "    def exec_module(self, module):\n",
    "        # Execute the module's code\n",
    "        pass\n"
   ]
  },
  {
   "cell_type": "markdown",
   "metadata": {},
   "source": [
    "Use Cases for importlib\n",
    "\n",
    "Dynamic Importing: importlib allows for importing modules dynamically at runtime, which is useful in scenarios where the module to be imported is determined at runtime. \n",
    "\n",
    "\n",
    "Reloading Modules: When developing, you might need to reload a module to apply changes without restarting the interpreter. importlib.reload() facilitates this.\n",
    "\n",
    "Custom Importers: For advanced use cases, such as importing modules from unconventional sources or formats, importlib provides the tools to create custom importers and loaders.\n",
    "\n"
   ]
  }
 ],
 "metadata": {
  "kernelspec": {
   "display_name": ".venv",
   "language": "python",
   "name": "python3"
  },
  "language_info": {
   "codemirror_mode": {
    "name": "ipython",
    "version": 3
   },
   "file_extension": ".py",
   "mimetype": "text/x-python",
   "name": "python",
   "nbconvert_exporter": "python",
   "pygments_lexer": "ipython3",
   "version": "3.13.0"
  }
 },
 "nbformat": 4,
 "nbformat_minor": 2
}
