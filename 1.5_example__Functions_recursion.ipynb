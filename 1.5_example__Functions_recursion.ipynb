{
  "cells": [
    {
      "cell_type": "markdown",
      "metadata": {},
      "source": [
        "**Recursion**\n",
        "\n",
        "Python also accepts function recursion, which means a defined function can call itself.\n",
        "\n",
        "---"
      ]
    },
    {
      "cell_type": "code",
      "execution_count": null,
      "metadata": {},
      "outputs": [],
      "source": [
        "# Printing numbers in reverse\n",
        "def print_reverse(n):\n",
        "    if n == 0:  # Base case\n",
        "        return\n",
        "    print(n)\n",
        "    print_reverse(n - 1)  # Recursive case\n",
        "print_reverse(5)"
      ]
    },
    {
      "cell_type": "code",
      "execution_count": null,
      "metadata": {},
      "outputs": [],
      "source": [
        "# Factorial of a number\n",
        "def factorial(n):\n",
        "    if n == 0:  # Base case\n",
        "        return 1\n",
        "    return n * factorial(n - 1)  # Recursive case\n",
        "print(factorial(5)) "
      ]
    },
    {
      "cell_type": "code",
      "execution_count": null,
      "metadata": {},
      "outputs": [],
      "source": [
        "# Calculating Fibonacci numbers\n",
        "\n",
        "def fibonacci(n):\n",
        "    if n == 0:  # Base case\n",
        "        return 0\n",
        "    if n == 1:  # Base case\n",
        "        return 1\n",
        "    return fibonacci(n - 1) + fibonacci(n - 2)  # Recursive case\n",
        "print(fibonacci(6)) "
      ]
    }
  ],
  "metadata": {
    "colab": {
      "collapsed_sections": [],
      "name": "Python_Functions.ipynb",
      "provenance": [],
      "version": "0.3.2"
    },
    "kernelspec": {
      "display_name": "Python 3",
      "name": "python3"
    },
    "language_info": {
      "codemirror_mode": {
        "name": "ipython",
        "version": 3
      },
      "file_extension": ".py",
      "mimetype": "text/x-python",
      "name": "python",
      "nbconvert_exporter": "python",
      "pygments_lexer": "ipython3",
      "version": "3.11.9"
    }
  },
  "nbformat": 4,
  "nbformat_minor": 0
}
