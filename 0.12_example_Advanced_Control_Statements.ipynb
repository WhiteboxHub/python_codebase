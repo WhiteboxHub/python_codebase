{
 "cells": [
  {
   "cell_type": "markdown",
   "metadata": {},
   "source": [
    "# 1. Nested Conditional Statements:\n",
    "\n",
    "This example demonstrates how to use nested if statements to categorize a number as positive, negative, or zero, and further classify positive numbers as even or odd."
   ]
  },
  {
   "cell_type": "code",
   "execution_count": null,
   "metadata": {},
   "outputs": [],
   "source": [
    "number = 15\n",
    "\n",
    "if number > 0:\n",
    "    if number % 2 == 0:\n",
    "        print(f\"{number} is a positive even number.\")\n",
    "    else:\n",
    "        print(f\"{number} is a positive odd number.\")\n",
    "elif number < 0:\n",
    "    if number % 2 == 0:\n",
    "        print(f\"{number} is a negative even number.\")\n",
    "    else:\n",
    "        print(f\"{number} is a negative odd number.\")\n",
    "else:\n",
    "    print(\"The number is zero.\")\n"
   ]
  },
  {
   "cell_type": "markdown",
   "metadata": {},
   "source": [
    "# 2. Using for Loop with break and continue:\n",
    "\n",
    "This example iterates over a list of numbers, prints each number, skips the number 5, and exits the loop when it encounters the number 8.\n"
   ]
  },
  {
   "cell_type": "code",
   "execution_count": null,
   "metadata": {},
   "outputs": [],
   "source": [
    "numbers = [1, 2, 3, 4, 5, 6, 7, 8, 9]\n",
    "\n",
    "for num in numbers:\n",
    "    if num == 5:\n",
    "        continue  # Skip the number 5\n",
    "    if num == 8:\n",
    "        break  # Exit the loop when number 8 is encountered\n",
    "    print(num)\n"
   ]
  },
  {
   "cell_type": "markdown",
   "metadata": {},
   "source": [
    "# 3. Using while Loop with else:\n",
    "\n",
    "This example uses a while loop to find the first prime number greater than 10. If no prime number is found within the range, it prints a message indicating so.\n",
    "\n"
   ]
  },
  {
   "cell_type": "code",
   "execution_count": null,
   "metadata": {},
   "outputs": [],
   "source": [
    "number = 11\n",
    "while number <= 20:\n",
    "    for i in range(2, number):\n",
    "        if number % i == 0:\n",
    "            break\n",
    "    else:\n",
    "        print(f\"The first prime number greater than 10 is {number}.\")\n",
    "        break\n",
    "    number += 1\n",
    "else:\n",
    "    print(\"No prime number found in the range.\")\n"
   ]
  },
  {
   "cell_type": "markdown",
   "metadata": {},
   "source": [
    "# 4. Using pass in Empty Loop:\n",
    "\n",
    "The pass statement is used as a placeholder in an empty loop, allowing the loop to iterate without performing any action."
   ]
  },
  {
   "cell_type": "code",
   "execution_count": null,
   "metadata": {},
   "outputs": [],
   "source": [
    "for _ in range(5):\n",
    "    pass  # No action is performed in this loop\n",
    "print(\"Loop completed.\")\n"
   ]
  },
  {
   "cell_type": "markdown",
   "metadata": {},
   "source": [
    "# 5. Complex Nested Loops with break and continue:\n",
    "\n",
    "This example demonstrates nested loops where the inner loop processes items in a list, and the outer loop processes multiple lists. The break and continue statements control the flow within these loops."
   ]
  },
  {
   "cell_type": "code",
   "execution_count": null,
   "metadata": {},
   "outputs": [],
   "source": [
    "lists = [\n",
    "    [1, 2, 3],\n",
    "    [4, 5, 6],\n",
    "    [7, 8, 9]\n",
    "]\n",
    "\n",
    "for lst in lists:\n",
    "    for item in lst:\n",
    "        if item == 5:\n",
    "            print(\"Found 5, skipping the rest of this list.\")\n",
    "            continue  # Skip the rest of the current list\n",
    "        if item == 8:\n",
    "            print(\"Found 8, exiting the loop.\")\n",
    "            break  # Exit the inner loop\n",
    "        print(item)\n",
    "    else:\n",
    "        continue  # Continue to the next list\n",
    "    break  # Exit the outer loop\n"
   ]
  },
  {
   "cell_type": "markdown",
   "metadata": {},
   "source": [
    "# 6. Complex Conditional Logic with Multiple elif Clauses:\n",
    "\n",
    "This example demonstrates how to use multiple elif clauses to handle various conditions and execute corresponding blocks of code."
   ]
  },
  {
   "cell_type": "code",
   "execution_count": null,
   "metadata": {},
   "outputs": [],
   "source": [
    "number = 15\n",
    "\n",
    "if number > 0:\n",
    "    if number % 2 == 0:\n",
    "        print(f\"{number} is a positive even number.\")\n",
    "    else:\n",
    "        print(f\"{number} is a positive odd number.\")\n",
    "elif number < 0:\n",
    "    if number % 2 == 0:\n",
    "        print(f\"{number} is a negative even number.\")\n",
    "    else:\n",
    "        print(f\"{number} is a negative odd number.\")\n",
    "else:\n",
    "    print(\"The number is zero.\")\n"
   ]
  },
  {
   "cell_type": "markdown",
   "metadata": {},
   "source": [
    "# 7. Using break and continue in Nested Loops:\n",
    "\n",
    "This example demonstrates how to use break and continue statements within nested loops to control the flow based on specific conditions.\n"
   ]
  },
  {
   "cell_type": "code",
   "execution_count": null,
   "metadata": {},
   "outputs": [],
   "source": [
    "for i in range(5):\n",
    "    for j in range(5):\n",
    "        if i == 2 and j == 2:\n",
    "            print(\"Skipping (2, 2)\")\n",
    "            continue  # Skip the rest of the loop when (i, j) is (2, 2)\n",
    "        if i == 3 and j == 3:\n",
    "            print(\"Breaking at (3, 3)\")\n",
    "            break  # Exit the inner loop when (i, j) is (3, 3)\n",
    "        print(f\"Processing ({i}, {j})\")\n",
    "    else:\n",
    "        continue  # Continue to the next iteration of the outer loop\n",
    "    break  # Exit the outer loop\n"
   ]
  }
 ],
 "metadata": {
  "kernelspec": {
   "display_name": ".venv",
   "language": "python",
   "name": "python3"
  },
  "language_info": {
   "name": "python",
   "version": "3.13.0"
  }
 },
 "nbformat": 4,
 "nbformat_minor": 2
}
