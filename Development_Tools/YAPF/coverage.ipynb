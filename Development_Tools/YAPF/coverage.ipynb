{
 "cells": [
  {
   "cell_type": "markdown",
   "metadata": {},
   "source": [
    "###  YAPF in Python\n",
    "\n",
    "YAPF (Yet Another Python Formatter) is a code formatting tool that automatically reformats Python code to ensure it adheres to a consistent style guide (like PEP 8 or Google style). \n",
    "\n",
    "YAPF parses your code, understands its structure, and then reformats it for consistency and readability.\n",
    "\n",
    "\n",
    "---"
   ]
  },
  {
   "cell_type": "markdown",
   "metadata": {},
   "source": [
    "**Step 1: Install YAPF**\n",
    "\n",
    "You can install YAPF using pip:\n",
    "\n",
    "---"
   ]
  },
  {
   "cell_type": "code",
   "execution_count": 1,
   "metadata": {},
   "outputs": [
    {
     "name": "stdout",
     "output_type": "stream",
     "text": [
      "Collecting yapf\n",
      "  Downloading yapf-0.43.0-py3-none-any.whl.metadata (46 kB)\n",
      "Requirement already satisfied: platformdirs>=3.5.1 in c:\\users\\gauta\\appdata\\local\\packages\\pythonsoftwarefoundation.python.3.11_qbz5n2kfra8p0\\localcache\\local-packages\\python311\\site-packages (from yapf) (4.1.0)\n",
      "Downloading yapf-0.43.0-py3-none-any.whl (256 kB)\n",
      "Installing collected packages: yapf\n",
      "Successfully installed yapf-0.43.0\n",
      "Note: you may need to restart the kernel to use updated packages.\n"
     ]
    },
    {
     "name": "stderr",
     "output_type": "stream",
     "text": [
      "\n",
      "[notice] A new release of pip is available: 24.2 -> 24.3.1\n",
      "[notice] To update, run: C:\\Users\\gauta\\AppData\\Local\\Microsoft\\WindowsApps\\PythonSoftwareFoundation.Python.3.11_qbz5n2kfra8p0\\python.exe -m pip install --upgrade pip\n"
     ]
    }
   ],
   "source": [
    "%pip install yapf"
   ]
  },
  {
   "cell_type": "markdown",
   "metadata": {},
   "source": [
    "**Step 2: Create a Sample Python Code File**\n",
    "\n",
    "Create a Python file named [example_code.py](example_code.py) :\n",
    "\n",
    "---"
   ]
  },
  {
   "cell_type": "markdown",
   "metadata": {},
   "source": [
    "**Step 3: Run YAPF to Reformat the Code**\n",
    "\n",
    "---\n",
    "\n",
    "1. Check the code for formatting issues (dry-run): Before making changes, you can check what YAPF will fix:\n",
    "\n",
    "    * ***yapf example_code.py***\n",
    "    - The output will display the reformatted code without modifying the file.\n",
    "\n",
    "2. Reformat the file in place: Use the -i flag to automatically apply formatting changes to the file:\n",
    "\n",
    "    * ***yapf -i example_code.py***\n",
    "\n",
    "---"
   ]
  },
  {
   "cell_type": "markdown",
   "metadata": {},
   "source": [
    "**Step 4: Verify the Changes**\n",
    "\n",
    "After running YAPF, the content of example_code.py will be reformatted.\n",
    "\n",
    "---\n",
    "\n"
   ]
  },
  {
   "cell_type": "markdown",
   "metadata": {},
   "source": [
    "**Step 5: Configure YAPF with Style Options**\n",
    "\n",
    "By default, YAPF follows the PEP 8 style guide, but you can customize it to follow other styles, such as the Google style guide.\n",
    "\n",
    "1. Use a Built-In Style\n",
    "    * To apply a specific style, use the --style flag:\n",
    "    * ***yapf --style google -i example_code.py***\n"
   ]
  },
  {
   "cell_type": "markdown",
   "metadata": {},
   "source": [
    "#### OPTIONAL :\n",
    "\n",
    "**Create a Custom Configuration File**\n",
    "\n",
    "---\n",
    "\n",
    "* You can create a .style.yapf configuration file in your project directory to customize formatting rules. \n",
    "\n",
    "    For example:\n",
    "        \n",
    "\n",
    "        ```\n",
    "        .style.yapf\n",
    "        \n",
    "        [style]\n",
    "        based_on_style = pep8\n",
    "        indent_width = 4\n",
    "        column_limit = 80\n",
    "        spaces_before_comment = 2\n",
    "       ```\n",
    "\n",
    "* Now, run YAPF:\n",
    "\n",
    "    ```\n",
    "    yapf -i example_code.py\n",
    "\n",
    "    ```\n",
    "\n",
    "\n",
    "YAPF will apply the custom rules defined in .style.yapf.\n",
    "\n",
    "---\n"
   ]
  },
  {
   "cell_type": "markdown",
   "metadata": {},
   "source": [
    "**Step 6: Apply YAPF to All Files**\n",
    "\n",
    "To format all Python files in a directory, use the --recursive flag:\n",
    "\n",
    "    ```\n",
    "    yapf --recursive -i .\n",
    "    ```\n",
    "\n",
    "This will reformat all Python files in the current directory and its subdirectories.\n",
    "\n",
    "\n"
   ]
  }
 ],
 "metadata": {
  "kernelspec": {
   "display_name": "Python 3",
   "language": "python",
   "name": "python3"
  },
  "language_info": {
   "codemirror_mode": {
    "name": "ipython",
    "version": 3
   },
   "file_extension": ".py",
   "mimetype": "text/x-python",
   "name": "python",
   "nbconvert_exporter": "python",
   "pygments_lexer": "ipython3",
   "version": "3.11.9"
  }
 },
 "nbformat": 4,
 "nbformat_minor": 2
}
