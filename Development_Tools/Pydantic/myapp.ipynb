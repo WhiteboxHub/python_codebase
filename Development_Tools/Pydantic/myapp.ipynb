{
 "cells": [
  {
   "cell_type": "markdown",
   "metadata": {},
   "source": [
    "You can install all the required packages with the following single pip command"
   ]
  },
  {
   "cell_type": "markdown",
   "metadata": {},
   "source": [
    "!pip install fastapi pydantic sqlalchemy databases\n",
    "\n",
    "fastapi: For building APIs.\n",
    "\n",
    "pydantic: For data validation.\n",
    "\n",
    "sqlalchemy: For working with databases.\n",
    "\n",
    "databases: For asynchronous database operations with SQLAlchemy"
   ]
  },
  {
   "cell_type": "code",
   "execution_count": 2,
   "metadata": {},
   "outputs": [],
   "source": [
    "from fastapi import FastAPI, HTTPException\n",
    "from pydantic import BaseModel #data validation \n",
    "from datetime import date\n",
    "from sqlalchemy import create_engine, MetaData, Table, Column, Integer, String, Date\n",
    "from sqlalchemy.ext.declarative import declarative_base\n",
    "from sqlalchemy.orm import sessionmaker\n",
    "from sqlalchemy.future import select\n",
    "from databases import Database"
   ]
  },
  {
   "cell_type": "code",
   "execution_count": 3,
   "metadata": {},
   "outputs": [],
   "source": [
    "# Initialize FastAPI app\n",
    "app = FastAPI()"
   ]
  },
  {
   "cell_type": "code",
   "execution_count": null,
   "metadata": {},
   "outputs": [],
   "source": [
    "# PostgreSQL database URL (update with your credentials)\n",
    "DATABASE_URL = \"add your url\""
   ]
  },
  {
   "cell_type": "code",
   "execution_count": null,
   "metadata": {},
   "outputs": [],
   "source": [
    "# Initialize Database instance\n",
    "database = Database(DATABASE_URL)"
   ]
  },
  {
   "cell_type": "code",
   "execution_count": null,
   "metadata": {},
   "outputs": [],
   "source": [
    "# SQLAlchemy setup\n",
    "Base = declarative_base()"
   ]
  },
  {
   "cell_type": "code",
   "execution_count": null,
   "metadata": {},
   "outputs": [],
   "source": [
    "# Define the users table\n",
    "class UserTable(Base):\n",
    "    __tablename__ = \"data_validation\"  # Updated table name to avoid spaces\n",
    "    id = Column(Integer, primary_key=True, index=True)\n",
    "    name = Column(String, index=True)\n",
    "    age = Column(Integer)\n",
    "    birthdate = Column(Date)  # Changed to Date type\n",
    "    fnumbers = Column(Integer)\n",
    "\n",
    "# Create a SQLAlchemy engine and session\n",
    "engine = create_engine(DATABASE_URL)\n",
    "SessionLocal = sessionmaker(autocommit=False, autoflush=False, bind=engine)\n",
    "\n",
    "# Create tables in the database\n",
    "Base.metadata.create_all(bind=engine)\n",
    "\n",
    "# Define Pydantic model for the request body\n",
    "class User(BaseModel):\n",
    "    name: str\n",
    "    age: int\n",
    "    birthdate: date  # Ensure date type matches Pydantic and SQLAlchemy\n",
    "    fnumbers: int\n",
    "\n",
    "# Connect to the database when the app starts\n",
    "@app.on_event(\"startup\")\n",
    "async def startup():\n",
    "    await database.connect()\n",
    "\n",
    "# Disconnect from the database when the app shuts down\n",
    "@app.on_event(\"shutdown\")\n",
    "async def shutdown():\n",
    "    await database.disconnect()\n",
    "\n",
    "# Define a route to handle user registration\n",
    "@app.post(\"/register/\")\n",
    "async def register_user(user: User):\n",
    "    query = UserTable.__table__.insert().values(\n",
    "        name=user.name, \n",
    "        age=user.age, \n",
    "        birthdate=user.birthdate,  # Pydantic's date matches SQLAlchemy's Date\n",
    "        fnumbers=user.fnumbers\n",
    "    )\n",
    "    last_record_id = await database.execute(query)\n",
    "    return {\"message\": f\"User {user.name} registered successfully!\", \"user_id\": last_record_id}\n",
    "\n",
    "# Define a route to return a list of users\n",
    "@app.get(\"/users/\")\n",
    "async def get_users():\n",
    "    query = select(UserTable)\n",
    "    users = await database.fetch_all(query)\n",
    "    return users\n"
   ]
  }
 ],
 "metadata": {
  "kernelspec": {
   "display_name": "Python 3",
   "language": "python",
   "name": "python3"
  },
  "language_info": {
   "codemirror_mode": {
    "name": "ipython",
    "version": 3
   },
   "file_extension": ".py",
   "mimetype": "text/x-python",
   "name": "python",
   "nbconvert_exporter": "python",
   "pygments_lexer": "ipython3",
   "version": "3.11.9"
  }
 },
 "nbformat": 4,
 "nbformat_minor": 2
}
