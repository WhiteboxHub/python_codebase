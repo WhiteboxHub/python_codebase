{
 "cells": [
  {
   "cell_type": "code",
   "execution_count": 1,
   "metadata": {},
   "outputs": [
    {
     "name": "stdout",
     "output_type": "stream",
     "text": [
      "name='Rahul' birthdate=datetime.date(1995, 7, 16) age=29 favorite_numbers=[1, 42, 7]\n",
      "1995-07-16 <class 'datetime.date'>\n",
      "29 <class 'int'>\n",
      "[1, 42, 7] <class 'int'>\n"
     ]
    }
   ],
   "source": [
    "from pydantic import BaseModel\n",
    "from datetime import date\n",
    "\n",
    "class User(BaseModel):\n",
    "    name: str\n",
    "    birthdate: date  \n",
    "    age: int         \n",
    "    favorite_numbers: list[int] \n",
    "\n",
    "# Example data where types are not exactly what we expect\n",
    "user_data = {\n",
    "    \"name\": \"Rahul\",\n",
    "    \"birthdate\": \"1995-07-16\",   \n",
    "    \"age\": \"29\",  \n",
    "    \"favorite_numbers\": [\"1\", \"42\", \"7\"]  \n",
    "}\n",
    "\n",
    "user = User(**user_data)\n",
    "\n",
    "print(user)\n",
    "print(user.birthdate, type(user.birthdate))\n",
    "print(user.age, type(user.age))              \n",
    "print(user.favorite_numbers, type(user.favorite_numbers[0]))  \n"
   ]
  }
 ],
 "metadata": {
  "kernelspec": {
   "display_name": "Python 3",
   "language": "python",
   "name": "python3"
  },
  "language_info": {
   "codemirror_mode": {
    "name": "ipython",
    "version": 3
   },
   "file_extension": ".py",
   "mimetype": "text/x-python",
   "name": "python",
   "nbconvert_exporter": "python",
   "pygments_lexer": "ipython3",
   "version": "3.11.9"
  }
 },
 "nbformat": 4,
 "nbformat_minor": 2
}
