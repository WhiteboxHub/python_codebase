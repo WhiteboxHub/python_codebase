{
 "cells": [
  {
   "cell_type": "code",
   "execution_count": 1,
   "metadata": {},
   "outputs": [
    {
     "name": "stdout",
     "output_type": "stream",
     "text": [
      "JSON: {\"name\":\"rahul\",\"age\":25,\"signup_date\":\"2023-12-15\"}\n"
     ]
    },
    {
     "name": "stderr",
     "output_type": "stream",
     "text": [
      "C:\\Users\\hr\\AppData\\Local\\Temp\\ipykernel_19492\\3105962794.py:17: PydanticDeprecatedSince20: The `json` method is deprecated; use `model_dump_json` instead. Deprecated in Pydantic V2.0 to be removed in V3.0. See Pydantic V2 Migration Guide at https://errors.pydantic.dev/2.10/migration/\n",
      "  user_json = user.json()\n"
     ]
    }
   ],
   "source": [
    "from pydantic import BaseModel\n",
    "from datetime import date\n",
    "\n",
    "class User(BaseModel):\n",
    "    name: str\n",
    "    age: int\n",
    "    signup_date: date\n",
    "\n",
    "# Creating an instance of the model\n",
    "user = User(name=\"rahul\", age=25, signup_date=\"2023-12-15\")\n",
    "\n",
    "# Convert to a dictionary using `.dict()`\n",
    "# user_dict = user.dict()\n",
    "# print(\"Dictionary:\", user_dict)\n",
    "\n",
    "# Convert to JSON using `.json()`\n",
    "user_json = user.json()\n",
    "print(\"JSON:\", user_json)\n"
   ]
  }
 ],
 "metadata": {
  "kernelspec": {
   "display_name": "Python 3",
   "language": "python",
   "name": "python3"
  },
  "language_info": {
   "codemirror_mode": {
    "name": "ipython",
    "version": 3
   },
   "file_extension": ".py",
   "mimetype": "text/x-python",
   "name": "python",
   "nbconvert_exporter": "python",
   "pygments_lexer": "ipython3",
   "version": "3.11.9"
  }
 },
 "nbformat": 4,
 "nbformat_minor": 2
}
