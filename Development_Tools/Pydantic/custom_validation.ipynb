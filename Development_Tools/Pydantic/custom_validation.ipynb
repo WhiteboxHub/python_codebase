{
 "cells": [
  {
   "cell_type": "code",
   "execution_count": 1,
   "metadata": {},
   "outputs": [
    {
     "name": "stdout",
     "output_type": "stream",
     "text": [
      "2 validation errors for User\n",
      "age\n",
      "  Value error, Age must be 18 or older [type=value_error, input_value=16, input_type=int]\n",
      "    For further information visit https://errors.pydantic.dev/2.10/v/value_error\n",
      "password\n",
      "  Value error, Password must be at least 8 characters long [type=value_error, input_value='short', input_type=str]\n",
      "    For further information visit https://errors.pydantic.dev/2.10/v/value_error\n"
     ]
    },
    {
     "name": "stderr",
     "output_type": "stream",
     "text": [
      "C:\\Users\\hr\\AppData\\Local\\Temp\\ipykernel_2540\\422740681.py:9: PydanticDeprecatedSince20: Pydantic V1 style `@validator` validators are deprecated. You should migrate to Pydantic V2 style `@field_validator` validators, see the migration guide for more details. Deprecated in Pydantic V2.0 to be removed in V3.0. See Pydantic V2 Migration Guide at https://errors.pydantic.dev/2.10/migration/\n",
      "  @validator('age')\n",
      "C:\\Users\\hr\\AppData\\Local\\Temp\\ipykernel_2540\\422740681.py:16: PydanticDeprecatedSince20: Pydantic V1 style `@validator` validators are deprecated. You should migrate to Pydantic V2 style `@field_validator` validators, see the migration guide for more details. Deprecated in Pydantic V2.0 to be removed in V3.0. See Pydantic V2 Migration Guide at https://errors.pydantic.dev/2.10/migration/\n",
      "  @validator('password')\n"
     ]
    }
   ],
   "source": [
    "from pydantic import BaseModel, validator, ValidationError\n",
    "\n",
    "class User(BaseModel):\n",
    "    name: str\n",
    "    age: int\n",
    "    password: str\n",
    "    \n",
    "    # Custom validator for the `age` field\n",
    "    @validator('age')\n",
    "    def check_age(cls, value):\n",
    "        if value < 18:\n",
    "            raise ValueError('Age must be 18 or older')\n",
    "        return value\n",
    "    \n",
    "    # Custom validator for the `password` field\n",
    "    @validator('password')\n",
    "    def check_password_length(cls, value):\n",
    "        if len(value) < 8:\n",
    "            raise ValueError('Password must be at least 8 characters long')\n",
    "        return value\n",
    "\n",
    "# Example of valid input\n",
    "# try:\n",
    "#     user = User(name=\"John\", age=20, password=\"strongpass\")\n",
    "#     print(user)\n",
    "# except ValidationError as e:\n",
    "#     print(e)\n",
    "\n",
    "# Example of invalid input (age < 18 and password too short)\n",
    "try:\n",
    "    user = User(name=\"Jane\", age=16, password=\"short\")\n",
    "except ValidationError as e:\n",
    "    print(e)\n"
   ]
  }
 ],
 "metadata": {
  "kernelspec": {
   "display_name": "Python 3",
   "language": "python",
   "name": "python3"
  },
  "language_info": {
   "codemirror_mode": {
    "name": "ipython",
    "version": 3
   },
   "file_extension": ".py",
   "mimetype": "text/x-python",
   "name": "python",
   "nbconvert_exporter": "python",
   "pygments_lexer": "ipython3",
   "version": "3.11.9"
  }
 },
 "nbformat": 4,
 "nbformat_minor": 2
}
