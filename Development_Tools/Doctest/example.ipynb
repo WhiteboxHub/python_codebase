{
 "cells": [
  {
   "cell_type": "markdown",
   "metadata": {},
   "source": [
    "## doctest\n",
    "doctest is a module in Python that allows you to test interactive examples embedded in docstrings. It automatically executes the examples in your docstrings and verifies that they produce the expected output. This is useful for ensuring that your code examples in documentation stay up-to-date and are correct.\n",
    "\n",
    "## Why use doctest?\n",
    "Documentation validation: It helps ensure that the code in your documentation works as intended.\n",
    "Embedded testing: You can write tests directly in the docstrings, making it easier to maintain both documentation and tests in sync.\n",
    "Lightweight testing: doctest is often used for small, simple tests within the documentation itself, without needing to set up a complex testing framework like unittest or pytest.\n",
    "\n",
    "## How to use doctest?\n",
    "Write code with examples in docstrings: Embed examples in the docstring in the format >>> followed by the code and its expected output.\n",
    "Run doctests: Use doctest.testmod() to automatically test the examples in the docstrings.\n",
    "\n",
    "\n",
    "Consider a function to compute the factorial of a number, with the examples embedded in the docstring.\n"
   ]
  },
  {
   "cell_type": "code",
   "execution_count": 3,
   "metadata": {},
   "outputs": [
    {
     "data": {
      "text/plain": [
       "TestResults(failed=0, attempted=3)"
      ]
     },
     "execution_count": 3,
     "metadata": {},
     "output_type": "execute_result"
    }
   ],
   "source": [
    "import doctest\n",
    "\n",
    "def factorial(n):\n",
    "    \"\"\"\n",
    "    Calculate the factorial of a number.\n",
    "\n",
    "    >>> factorial(5)\n",
    "    120\n",
    "    >>> factorial(3)\n",
    "    6\n",
    "    >>> factorial(0)\n",
    "    1\n",
    "    \"\"\"\n",
    "    if n == 0:\n",
    "        return 1\n",
    "    else:\n",
    "        return n * factorial(n - 1)\n",
    "\n",
    "# Run doctests on the module\n",
    "doctest.testmod()\n"
   ]
  },
  {
   "cell_type": "markdown",
   "metadata": {},
   "source": [
    "## How it works:\n",
    "Docstring: The docstring contains interactive examples in the form of >>> followed by the code.\n",
    "\n",
    "Expected Output: After each example, the expected output is shown on the following line.\n",
    "\n",
    "doctest.testmod(): This function scans the module for docstrings and runs the examples, comparing the results with the expected output."
   ]
  },
  {
   "cell_type": "markdown",
   "metadata": {},
   "source": [
    "## Why should you use doctest?\n",
    "Keep documentation up to date: It's easy to forget to update docstrings as code changes. doctest ensures that the examples in your documentation remain correct.\n",
    "\n",
    "Simple and fast: doctest is simple to use, making it ideal for quick checks of smaller examples.\n",
    "\n",
    "Helps beginners: For beginners learning Python, doctest can provide an easy and intuitive way to verify examples."
   ]
  }
 ],
 "metadata": {
  "kernelspec": {
   "display_name": ".venv",
   "language": "python",
   "name": "python3"
  },
  "language_info": {
   "codemirror_mode": {
    "name": "ipython",
    "version": 3
   },
   "file_extension": ".py",
   "mimetype": "text/x-python",
   "name": "python",
   "nbconvert_exporter": "python",
   "pygments_lexer": "ipython3",
   "version": "3.13.0"
  }
 },
 "nbformat": 4,
 "nbformat_minor": 2
}
