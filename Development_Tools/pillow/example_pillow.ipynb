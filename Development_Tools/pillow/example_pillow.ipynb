{
 "cells": [
  {
   "cell_type": "markdown",
   "metadata": {},
   "source": [
    "## Pillow \n",
    "Pillow is a popular Python library used for image processing tasks, such as opening, manipulating, and saving various image file formats. Here's how you can install it and use it with an example based on the O'Reilly documentation style.\n",
    "\n",
    "## 1. Installing Pillow:\n",
    "To install Pillow, you can use the following command:\n",
    "\n"
   ]
  },
  {
   "cell_type": "code",
   "execution_count": null,
   "metadata": {},
   "outputs": [],
   "source": [
    "pip install Pillow\n"
   ]
  },
  {
   "cell_type": "markdown",
   "metadata": {},
   "source": [
    "## Example of Using Pillow in Python:\n",
    "## 1. Opening and Displaying an Image (open_display_image.py)\n",
    "\n"
   ]
  },
  {
   "cell_type": "code",
   "execution_count": 5,
   "metadata": {},
   "outputs": [],
   "source": [
    "from PIL import Image\n",
    "\n",
    "# Open an image file\n",
    "image = Image.open('example_image.jpg')\n",
    "\n",
    "# Display the image\n",
    "image.show()\n"
   ]
  },
  {
   "cell_type": "markdown",
   "metadata": {},
   "source": [
    "## 2. Resizing an Image (resize_image.py)"
   ]
  },
  {
   "cell_type": "code",
   "execution_count": 6,
   "metadata": {},
   "outputs": [],
   "source": [
    "from PIL import Image\n",
    "\n",
    "# Open an image file\n",
    "image = Image.open('example_image.jpg')\n",
    "\n",
    "# Resize the image to 300x300 pixels\n",
    "resized_image = image.resize((300, 300))\n",
    "\n",
    "# Display the resized image\n",
    "resized_image.show()\n",
    "\n",
    "# Save the resized image to a new file\n",
    "resized_image.save('resized_example_image.jpg')\n"
   ]
  },
  {
   "cell_type": "markdown",
   "metadata": {},
   "source": [
    "## 3. Applying a Filter to an Image (apply_filter.py)\n",
    "\n"
   ]
  },
  {
   "cell_type": "code",
   "execution_count": 7,
   "metadata": {},
   "outputs": [],
   "source": [
    "from PIL import Image, ImageFilter\n",
    "\n",
    "# Open an image file\n",
    "image = Image.open('example_image.jpg')\n",
    "\n",
    "# Apply a Gaussian blur filter to the image\n",
    "blurred_image = image.filter(ImageFilter.GaussianBlur(5))\n",
    "\n",
    "# Display the original and blurred image\n",
    "image.show()\n",
    "blurred_image.show()\n",
    "\n",
    "# Save the blurred image to a new file\n",
    "blurred_image.save('blurred_example_image.jpg')\n"
   ]
  },
  {
   "cell_type": "markdown",
   "metadata": {},
   "source": [
    "## 4. Cropping an Image (crop_image.py)\n",
    "\n"
   ]
  },
  {
   "cell_type": "code",
   "execution_count": 8,
   "metadata": {},
   "outputs": [],
   "source": [
    "from PIL import Image\n",
    "\n",
    "# Open an image file\n",
    "image = Image.open('example_image.jpg')\n",
    "\n",
    "# Define the coordinates for cropping: (left, upper, right, lower)\n",
    "crop_box = (100, 100, 400, 400)\n",
    "\n",
    "# Crop the image\n",
    "cropped_image = image.crop(crop_box)\n",
    "\n",
    "# Display the cropped image\n",
    "cropped_image.show()\n",
    "\n",
    "# Save the cropped image\n",
    "cropped_image.save('cropped_example_image.jpg')\n"
   ]
  },
  {
   "cell_type": "markdown",
   "metadata": {},
   "source": [
    "## 5. Converting Image to Grayscale (convert_grayscale.py)"
   ]
  },
  {
   "cell_type": "code",
   "execution_count": 9,
   "metadata": {},
   "outputs": [],
   "source": [
    "from PIL import Image\n",
    "\n",
    "# Open an image file\n",
    "image = Image.open('example_image.jpg')\n",
    "\n",
    "# Convert the image to grayscale\n",
    "grayscale_image = image.convert('L')\n",
    "\n",
    "# Display the grayscale image\n",
    "grayscale_image.show()\n",
    "\n",
    "# Save the grayscale image to a new file\n",
    "grayscale_image.save('grayscale_example_image.jpg')\n"
   ]
  },
  {
   "cell_type": "markdown",
   "metadata": {},
   "source": [
    "## 6. Rotating an Image (rotate_image.py)"
   ]
  },
  {
   "cell_type": "code",
   "execution_count": 10,
   "metadata": {},
   "outputs": [],
   "source": [
    "from PIL import Image\n",
    "\n",
    "# Open an image file\n",
    "image = Image.open('example_image.jpg')\n",
    "\n",
    "# Rotate the image by 90 degrees\n",
    "rotated_image = image.rotate(90)\n",
    "\n",
    "# Display the rotated image\n",
    "rotated_image.show()\n",
    "\n",
    "# Save the rotated image\n",
    "rotated_image.save('rotated_example_image.jpg')\n"
   ]
  },
  {
   "cell_type": "markdown",
   "metadata": {},
   "source": [
    "## 7. Creating a Thumbnail (create_thumbnail.py)"
   ]
  },
  {
   "cell_type": "code",
   "execution_count": 11,
   "metadata": {},
   "outputs": [],
   "source": [
    "from PIL import Image\n",
    "\n",
    "# Open an image file\n",
    "image = Image.open('example_image.jpg')\n",
    "\n",
    "# Create a thumbnail with maximum dimensions 100x100\n",
    "image.thumbnail((100, 100))\n",
    "\n",
    "# Display the thumbnail\n",
    "image.show()\n",
    "\n",
    "# Save the thumbnail\n",
    "image.save('thumbnail_example_image.jpg')\n"
   ]
  },
  {
   "cell_type": "markdown",
   "metadata": {},
   "source": [
    "## 8. Image Enhancements (enhance_image.py)\n",
    "\n"
   ]
  },
  {
   "cell_type": "code",
   "execution_count": 12,
   "metadata": {},
   "outputs": [],
   "source": [
    "from PIL import Image, ImageEnhance\n",
    "\n",
    "# Open an image file\n",
    "image = Image.open('example_image.jpg')\n",
    "\n",
    "# Create an enhancer for the image's brightness\n",
    "enhancer = ImageEnhance.Brightness(image)\n",
    "\n",
    "# Enhance the image's brightness by a factor of 1.5\n",
    "enhanced_image = enhancer.enhance(1.5)\n",
    "\n",
    "# Display the enhanced image\n",
    "enhanced_image.show()\n",
    "\n",
    "# Save the enhanced image\n",
    "enhanced_image.save('enhanced_example_image.jpg')\n"
   ]
  },
  {
   "cell_type": "markdown",
   "metadata": {},
   "source": [
    "## 9. Drawing Text on an Image (draw_text_image.py)"
   ]
  },
  {
   "cell_type": "code",
   "execution_count": 13,
   "metadata": {},
   "outputs": [],
   "source": [
    "from PIL import Image, ImageDraw, ImageFont\n",
    "\n",
    "# Open an image file\n",
    "image = Image.open('example_image.jpg')\n",
    "\n",
    "# Initialize ImageDraw object\n",
    "draw = ImageDraw.Draw(image)\n",
    "\n",
    "# Define font and size (if you have a font file)\n",
    "font = ImageFont.load_default()\n",
    "\n",
    "# Add text to the image\n",
    "draw.text((10, 10), \"Hello, Pillow!\", font=font, fill=\"white\")\n",
    "\n",
    "# Display the image with text\n",
    "image.show()\n",
    "\n",
    "# Save the image with text\n",
    "image.save('image_with_text.jpg')\n"
   ]
  },
  {
   "cell_type": "markdown",
   "metadata": {},
   "source": [
    "## 10. Saving Image in Different Formats (save_image_formats.py)"
   ]
  },
  {
   "cell_type": "code",
   "execution_count": 15,
   "metadata": {},
   "outputs": [],
   "source": [
    "from PIL import Image\n",
    "\n",
    "# Open an image file\n",
    "image = Image.open('example_image.jpg')\n",
    "\n",
    "# Save the image in PNG format\n",
    "image.save('example_image.png', 'PNG')\n",
    "\n",
    "# Save the image in BMP format\n",
    "image.save('example_image.bmp', 'BMP')\n"
   ]
  }
 ],
 "metadata": {
  "kernelspec": {
   "display_name": "Python 3",
   "language": "python",
   "name": "python3"
  },
  "language_info": {
   "codemirror_mode": {
    "name": "ipython",
    "version": 3
   },
   "file_extension": ".py",
   "mimetype": "text/x-python",
   "name": "python",
   "nbconvert_exporter": "python",
   "pygments_lexer": "ipython3",
   "version": "3.13.1"
  }
 },
 "nbformat": 4,
 "nbformat_minor": 2
}
