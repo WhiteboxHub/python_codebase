{
 "cells": [
  {
   "cell_type": "markdown",
   "metadata": {},
   "source": [
    "### pylint \n",
    "pylint is a Python static code analysis tool that looks at your Python code and checks for potential errors, style violations, and other issues based on the PEP 8 style guide and other best practices. It helps ensure that your code is clean, readable, and follows standards, making it easier to maintain and less prone to errors.\n",
    "\n",
    "## Why use pylint?\n",
    "Code Quality: It helps enforce coding standards and best practices, ensuring consistent code style.\n",
    "Bug Detection: It can identify potential errors or issues in the code before execution.\n",
    "Refactoring: It helps you improve code quality by identifying redundant or problematic code patterns.\n",
    "Automated Checks: By automating the process of checking your code, it saves time and ensures consistency.\n",
    "\n",
    "### How to use pylint?\n",
    "Install pylint: You need to install pylint first. You can install it via pip:"
   ]
  },
  {
   "cell_type": "code",
   "execution_count": null,
   "metadata": {},
   "outputs": [],
   "source": [
    "pip install pylint\n"
   ]
  },
  {
   "cell_type": "code",
   "execution_count": 3,
   "metadata": {},
   "outputs": [],
   "source": [
    "def factorial(n):\n",
    "    \"\"\"Calculate factorial of a number.\"\"\"\n",
    "    if n == 0:\n",
    "        return 1\n",
    "    else:\n",
    "        return n * factorial(n-1)\n",
    "\n",
    "def main():\n",
    "    print(factorial(5))\n"
   ]
  },
  {
   "cell_type": "markdown",
   "metadata": {},
   "source": [
    "Save your code to a file: You need to save your Python code to a .py file to analyze it with pylint. You can do this by writing the code to a file within the notebook like so:\n"
   ]
  },
  {
   "cell_type": "code",
   "execution_count": 10,
   "metadata": {},
   "outputs": [],
   "source": [
    "code = \"\"\"\n",
    "def factorial(n):\n",
    "    \\\"\\\"\\\"Calculate factorial of a number.\\\"\\\"\\\"\n",
    "    if n == 0:\n",
    "        return 1\n",
    "    else:\n",
    "        return n * factorial(n-1)\n",
    "\n",
    "def main():\n",
    "    print(factorial(5))\n",
    "\"\"\"\n",
    "\n",
    "# Save the code to a .py file\n",
    "with open(\"factorial.py\", \"w\") as file:\n",
    "    file.write(code)\n"
   ]
  },
  {
   "cell_type": "markdown",
   "metadata": {},
   "source": [
    "Run pylint on the saved file: Now, use the following command to run pylint on the saved Python file (factorial.py):"
   ]
  },
  {
   "cell_type": "code",
   "execution_count": null,
   "metadata": {},
   "outputs": [],
   "source": [
    "!pylint factorial.py\n"
   ]
  },
  {
   "cell_type": "markdown",
   "metadata": {},
   "source": [
    "Example Output:\n",
    "If your code has issues (like missing docstrings or improper naming conventions), you will see output like this:"
   ]
  },
  {
   "cell_type": "markdown",
   "metadata": {},
   "source": [
    "************* Module factorial\n",
    "factorial.py:1:0: C0111: Missing module docstring (missing-docstring)\n",
    "factorial.py:4:0: C0103: Function name \"main\" doesn't conform to snake_case naming style (invalid-name)\n",
    "\n",
    "------------------------------------------------------------------\n",
    "Your code has been rated at 5.00/10 (previous run: 5.00/10, +0.00)\n"
   ]
  },
  {
   "cell_type": "markdown",
   "metadata": {},
   "source": [
    "How to fix the issues flagged by pylint?\n",
    "Here’s an updated version of the code that addresses the issues found by pylint:\n"
   ]
  },
  {
   "cell_type": "code",
   "execution_count": 5,
   "metadata": {},
   "outputs": [
    {
     "name": "stdout",
     "output_type": "stream",
     "text": [
      "120\n"
     ]
    }
   ],
   "source": [
    "def factorial(n):\n",
    "    \"\"\"\n",
    "    Calculate the factorial of a number.\n",
    "    \n",
    "    Args:\n",
    "    n (int): The number to calculate the factorial for.\n",
    "    \n",
    "    Returns:\n",
    "    int: The factorial of the input number.\n",
    "    \"\"\"\n",
    "    if n == 0:\n",
    "        return 1\n",
    "    else:\n",
    "        return n * factorial(n - 1)\n",
    "\n",
    "def main():\n",
    "    \"\"\"\n",
    "    Main function to demonstrate the factorial calculation.\n",
    "    \"\"\"\n",
    "    print(factorial(5))\n",
    "\n",
    "if __name__ == \"__main__\":\n",
    "    main()\n"
   ]
  },
  {
   "cell_type": "code",
   "execution_count": 14,
   "metadata": {},
   "outputs": [],
   "source": [
    "# Updated Python code with module docstring and refactored function\n",
    "updated_code = \"\"\"\n",
    "\\\"\\\"\\\"\n",
    "This module contains a function to calculate the factorial of a number.\n",
    "It also includes a main function that demonstrates the calculation with an example.\n",
    "\\\"\\\"\\\"\n",
    "\n",
    "def calculate_factorial(n):\n",
    "    \\\"\\\"\\\" \n",
    "    Calculate the factorial of a number.\n",
    "    \n",
    "    Args:\n",
    "    n (int): The number to calculate the factorial for.\n",
    "    \n",
    "    Returns:\n",
    "    int: The factorial of the input number.\n",
    "    \\\"\\\"\\\"\n",
    "    if n == 0:\n",
    "        return 1\n",
    "    return n * calculate_factorial(n - 1)  # Remove the unnecessary 'else'\n",
    "\n",
    "def main():\n",
    "    \\\"\\\"\\\"\n",
    "    Main function to demonstrate the factorial calculation.\n",
    "    \\\"\\\"\\\"\n",
    "    print(calculate_factorial(5))\n",
    "\n",
    "if __name__ == \"__main__\":\n",
    "    main()\n",
    "\"\"\"\n",
    "\n",
    "# Save the updated code to a file\n",
    "with open(\"factorial_updated.py\", \"w\") as file:\n",
    "    file.write(updated_code)\n"
   ]
  },
  {
   "cell_type": "markdown",
   "metadata": {},
   "source": [
    "Run pylint on the .py File: Now, run pylint on the saved Python file from within your Jupyter notebook using the ! command."
   ]
  }
 ],
 "metadata": {
  "kernelspec": {
   "display_name": ".venv",
   "language": "python",
   "name": "python3"
  },
  "language_info": {
   "codemirror_mode": {
    "name": "ipython",
    "version": 3
   },
   "file_extension": ".py",
   "mimetype": "text/x-python",
   "name": "python",
   "nbconvert_exporter": "python",
   "pygments_lexer": "ipython3",
   "version": "3.13.0"
  }
 },
 "nbformat": 4,
 "nbformat_minor": 2
}
