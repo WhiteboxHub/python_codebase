{
 "cells": [
  {
   "cell_type": "markdown",
   "metadata": {},
   "source": [
    "  ### SQLAlchemy\n",
    "\n",
    "\n",
    "SQLAlchemy and its role in Python, it's useful to first provide context about how a simple JDBC (Java Database Connectivity)-like connection would work in Python, then compare it with SQLAlchemy to show how it improves and simplifies database interactions. Here's how you can structure your explanation:\n",
    "\n",
    "Simple JDBC SQL Connection in Python\n",
    "In Python, a direct JDBC-like connection to a database can be established using libraries like pyodbc, psycopg2, or sqlite3 for database interactions. This approach requires you to manually write SQL queries and handle connection management.\n",
    "\n",
    "Here’s a simple example of connecting to a SQLite database using the sqlite3 library (which is similar to JDBC but in Python):\n"
   ]
  },
  {
   "cell_type": "code",
   "execution_count": null,
   "metadata": {},
   "outputs": [],
   "source": [
    "try:\n",
    "    import sqlite3\n",
    "\n",
    "except:\n",
    "    %pip install sqlite3\n",
    "    import sqlite3"
   ]
  },
  {
   "cell_type": "code",
   "execution_count": 1,
   "metadata": {},
   "outputs": [
    {
     "name": "stdout",
     "output_type": "stream",
     "text": [
      "[(1, 'Alice', 30), (2, 'Alice', 30), (3, 'Alice', 30)]\n"
     ]
    }
   ],
   "source": [
    "import sqlite3\n",
    "\n",
    "# Connect to SQLite database (it creates the file if it doesn't exist)\n",
    "conn = sqlite3.connect('example.db')\n",
    "\n",
    "# Create a cursor object using the connection\n",
    "cursor = conn.cursor()\n",
    "\n",
    "# Create a table\n",
    "cursor.execute('''\n",
    "CREATE TABLE IF NOT EXISTS users (id INTEGER PRIMARY KEY, name TEXT, age INTEGER)\n",
    "''')\n",
    "\n",
    "# Insert data into the table\n",
    "cursor.execute('''\n",
    "INSERT INTO users (name, age) VALUES ('Alice', 30)\n",
    "''')\n",
    "\n",
    "# Commit the changes\n",
    "conn.commit()\n",
    "\n",
    "# Query the database\n",
    "cursor.execute('SELECT * FROM users')\n",
    "\n",
    "# Fetch and print the results\n",
    "print(cursor.fetchall())\n",
    "\n",
    "# Close the connection\n",
    "conn.close()\n"
   ]
  },
  {
   "cell_type": "code",
   "execution_count": null,
   "metadata": {},
   "outputs": [],
   "source": [
    "pip install SQLAlchemy psycopg2-binary\n"
   ]
  },
  {
   "cell_type": "markdown",
   "metadata": {},
   "source": [
    "### Explanation of the JDBC-like Approach:\n",
    "Connection: You first establish a connection to the database (e.g., sqlite3.connect()).\n",
    "Cursor: The cursor object is used to execute SQL queries.\n",
    "SQL Queries: You manually write and execute SQL queries for tasks like creating tables, inserting data, and selecting data.\n",
    "Error Handling: You must explicitly handle exceptions (not shown in this basic example).\n",
    "Transaction Management: You have to manually commit (conn.commit()) and close the connection (conn.close()).\n",
    "\n",
    "\n",
    "### Limitations of the JDBC-like Approach:\n",
    "Manual SQL Management: You write raw SQL queries, which can be error-prone, especially when queries get complex.\n",
    "No Abstraction: You work directly with the database and SQL commands, lacking high-level abstractions to simplify tasks.\n",
    "No ORM (Object-Relational Mapping): It doesn't provide a way to interact with the database using Python objects.\n",
    "\n",
    "\n"
   ]
  },
  {
   "cell_type": "markdown",
   "metadata": {},
   "source": [
    "### What is SQLAlchemy and How Does it Help?\n",
    "SQLAlchemy is a Python SQL toolkit and Object-Relational Mapping (ORM) library that provides a high-level abstraction for interacting with databases. It allows you to map Python objects to database tables and automatically generate SQL queries, making database interactions much easier and more Pythonic.\n",
    "\n",
    "### SQLAlchemy consists of two main parts:\n",
    "\n",
    "SQLAlchemy Core (SQL Expression Language) - Allows you to write SQL queries using Python syntax.\n",
    "SQLAlchemy ORM - Allows you to work with Python objects and map them to database tables.\n",
    "Example: SQLAlchemy Connection and ORM Usage\n",
    "Here’s an example using SQLAlchemy to interact with a SQLite database in a similar way as the previous example, but with more abstraction:\n",
    "\n",
    "### Step 1: Define the Database Structure Using ORM\n"
   ]
  },
  {
   "cell_type": "code",
   "execution_count": 2,
   "metadata": {},
   "outputs": [
    {
     "name": "stderr",
     "output_type": "stream",
     "text": [
      "/var/folders/64/cp15vh257hj_glc3gxjg9z6c0000gn/T/ipykernel_16411/3002514764.py:6: MovedIn20Warning: The ``declarative_base()`` function is now available as sqlalchemy.orm.declarative_base(). (deprecated since: 2.0) (Background on SQLAlchemy 2.0 at: https://sqlalche.me/e/b8d9)\n",
      "  Base = declarative_base()\n"
     ]
    }
   ],
   "source": [
    "from sqlalchemy import create_engine, Column, Integer, String\n",
    "from sqlalchemy.ext.declarative import declarative_base\n",
    "from sqlalchemy.orm import sessionmaker\n",
    "\n",
    "# Define the base class for ORM\n",
    "Base = declarative_base()\n",
    "\n",
    "# Define a User class mapped to the users table\n",
    "class User(Base):\n",
    "    __tablename__ = 'users'\n",
    "\n",
    "    id = Column(Integer, primary_key=True)\n",
    "    name = Column(String)\n",
    "    age = Column(Integer)\n",
    "\n",
    "    def __repr__(self):\n",
    "        return f\"<User(name='{self.name}', age={self.age})>\"\n",
    "\n",
    "# Create an SQLite database (this will create the file)\n",
    "engine = create_engine('sqlite:///example.db')\n",
    "\n",
    "# Create all tables in the database (if they don't exist)\n",
    "Base.metadata.create_all(engine)\n",
    "\n",
    "# Create a session to interact with the database\n",
    "Session = sessionmaker(bind=engine)\n",
    "session = Session()\n"
   ]
  },
  {
   "cell_type": "code",
   "execution_count": null,
   "metadata": {},
   "outputs": [],
   "source": []
  },
  {
   "cell_type": "markdown",
   "metadata": {},
   "source": [
    "### Step 2: Insert and Query Data Using ORM"
   ]
  },
  {
   "cell_type": "code",
   "execution_count": null,
   "metadata": {},
   "outputs": [],
   "source": [
    "# Insert a new user\n",
    "new_user = User(name='Alice', age=30)\n",
    "session.add(new_user)\n",
    "session.commit()  # Commit the transaction\n",
    "\n",
    "# Query the database for all users\n",
    "users = session.query(User).all()\n",
    "\n",
    "# Print the results\n",
    "print(users)\n",
    "\n",
    "# Close the session\n",
    "session.close()\n"
   ]
  },
  {
   "cell_type": "markdown",
   "metadata": {},
   "source": [
    "### Explanation of SQLAlchemy ORM Approach:\n",
    "ORM (Object-Relational Mapping): You define a User class, which is mapped to the users table in the database. This eliminates the need to write raw SQL queries for operations like inserting or querying data.\n",
    "SQLAlchemy Engine: The engine handles the low-level details of interacting with the database, such as managing connections and transactions.\n",
    "Session Management: SQLAlchemy handles session management (starting and committing transactions), which is more convenient than manually managing transactions in a traditional JDBC-like approach.\n",
    "Queries with Python Objects: You can query the database using Python objects instead of writing SQL queries. For example, session.query(User).all() retrieves all users without needing to write a raw SQL SELECT query.\n",
    "\n",
    "\n",
    "\n",
    "### Benefits of Using SQLAlchemy:\n",
    "Abstraction of SQL: SQLAlchemy abstracts raw SQL queries and provides an object-oriented approach, reducing boilerplate code.\n",
    "Ease of Use: Writing queries and managing database connections becomes easier using the ORM.\n",
    "Automatic SQL Generation: You don't need to manually write SQL queries for common operations (e.g., INSERT, SELECT).\n",
    "Database-Agnostic: SQLAlchemy supports various databases, such as SQLite, PostgreSQL, MySQL, etc., making it easy to switch databases without changing much code.\n",
    "Relationships and Foreign Keys: SQLAlchemy allows you to easily define relationships between tables (e.g., One-to-Many, Many-to-One) without having to write complex joins.\n"
   ]
  }
 ],
 "metadata": {
  "kernelspec": {
   "display_name": ".venv",
   "language": "python",
   "name": "python3"
  },
  "language_info": {
   "codemirror_mode": {
    "name": "ipython",
    "version": 3
   },
   "file_extension": ".py",
   "mimetype": "text/x-python",
   "name": "python",
   "nbconvert_exporter": "python",
   "pygments_lexer": "ipython3",
   "version": "3.13.0"
  }
 },
 "nbformat": 4,
 "nbformat_minor": 2
}
