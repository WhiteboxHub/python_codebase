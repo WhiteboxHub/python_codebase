{
 "cells": [
  {
   "cell_type": "markdown",
   "metadata": {},
   "source": [
    "###  Code Coverage in Python\n",
    "\n",
    "Code coverage is a measure of how much of your code is executed when running tests.\n",
    "\n",
    "---"
   ]
  },
  {
   "cell_type": "markdown",
   "metadata": {},
   "source": [
    "**Step 1: Install the coverage module**\n",
    "\n",
    "You need to install the coverage module using pip:\n",
    "\n",
    "---"
   ]
  },
  {
   "cell_type": "code",
   "execution_count": null,
   "metadata": {},
   "outputs": [],
   "source": [
    "%pip install coverage\n",
    "%pip install pytest"
   ]
  },
  {
   "cell_type": "markdown",
   "metadata": {},
   "source": [
    "**Step 2: Create a Python Script (Code Under Test)**\n",
    "\n",
    "Create a Python file named [example_code.py](example_code.py) :\n",
    "\n",
    "---"
   ]
  },
  {
   "cell_type": "markdown",
   "metadata": {},
   "source": [
    "**Step 3: Write a Test Script**\n",
    "\n",
    "Create another file called [test_example_code.py](test_example_code.py). This file contains the test cases for [example_code.py](example_code.py).\n",
    "\n",
    "---"
   ]
  },
  {
   "cell_type": "markdown",
   "metadata": {},
   "source": [
    "**Step 4: Run Tests with Coverage**\n",
    "\n",
    "Run the tests using the coverage command-line tool. Open the terminal, navigate to the directory containing your files, and execute the following commands:\n",
    "\n",
    "---\n",
    "\n",
    "1. Run tests and measure coverage:\n",
    "\n",
    "    * ***coverage run -m pytest test_example_code.py***\n",
    "    - This will execute the tests and record the code coverage.\n",
    "\n",
    "2. Generate a coverage report::\n",
    "\n",
    "    * ***coverage report***\n",
    "    - You will see an output like this:\n",
    "\n",
    "\n",
    "\n",
    "\n"
   ]
  },
  {
   "cell_type": "markdown",
   "metadata": {},
   "source": [
    "**Step 5: Generate an HTML Report**\n",
    "\n",
    "You can also generate a detailed HTML report to visually analyze code coverage.\n",
    "\n",
    "---\n",
    "1. Run this command:\n",
    "\n",
    "    * ***coverage html***\n",
    "    - This will generate a folder named htmlcov in your project directory. Open the index.html file inside the folder in a web browser to see a detailed, color-coded coverage report.\n",
    "\n",
    "\n",
    "\n",
    "\n",
    "\n",
    "\n"
   ]
  },
  {
   "cell_type": "markdown",
   "metadata": {},
   "source": [
    "#### NOTE:\n",
    "\n",
    "**You  may see a file generated as .coverage.**\n",
    "\n",
    "---\n",
    "What is the .coverage File?\n",
    "\n",
    "It is a binary file that stores detailed coverage data in a format readable by the coverage module.\n",
    "You cannot directly read the .coverage file in a text editor because it is not a human-readable file.\n",
    "This file is essential for generating reports (like terminal reports or HTML reports).\n",
    "\n",
    "\n",
    "\n",
    "\n",
    "\n",
    "\n"
   ]
  }
 ],
 "metadata": {
  "kernelspec": {
   "display_name": "Python 3",
   "language": "python",
   "name": "python3"
  },
  "language_info": {
   "codemirror_mode": {
    "name": "ipython",
    "version": 3
   },
   "file_extension": ".py",
   "mimetype": "text/x-python",
   "name": "python",
   "nbconvert_exporter": "python",
   "pygments_lexer": "ipython3",
   "version": "3.11.9"
  }
 },
 "nbformat": 4,
 "nbformat_minor": 2
}
