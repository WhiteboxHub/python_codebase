{
 "cells": [
  {
   "cell_type": "markdown",
   "metadata": {},
   "source": [
    "## What is unittest?\n",
    "\n",
    "unittest is Python’s built-in testing framework that provides tools for writing and running tests for your Python code. It follows the xUnit style of testing, which is popular in many programming languages. The main features of unittest are:\n",
    "\n",
    "Test Cases: You can define tests as methods within a class, which inherits from unittest.TestCase.\n",
    "\n",
    "Assertions: The framework provides various assertion methods (e.g., assertEqual, assertTrue, assertFalse) to check conditions in your code.\n",
    "\n",
    "Test Runner: The framework includes a test runner that can automatically run tests and report the results.\n",
    "\n",
    "Test Setup and Teardown: You can define methods for setting up test cases (setUp()) and cleaning up after tests (tearDown()).\n",
    "\n",
    "Example of unittest Usage\n",
    "Here is an example to demonstrate unittest with some basic operations:\n",
    "\n",
    "\n"
   ]
  },
  {
   "cell_type": "code",
   "execution_count": null,
   "metadata": {},
   "outputs": [],
   "source": [
    "import unittest\n",
    "\n",
    "# Example function\n",
    "def add(a, b):\n",
    "    return a + b\n",
    "\n",
    "def multiply(a, b):\n",
    "    return a * b\n",
    "\n",
    "# Unit Test Class\n",
    "class TestMathOperations(unittest.TestCase):\n",
    "    def test_add(self):\n",
    "        # Test addition\n",
    "        result = add(2, 3)\n",
    "        self.assertEqual(result, 5, \"Addition test failed\")\n",
    "        \n",
    "    def test_multiply(self):\n",
    "        # Test multiplication\n",
    "        result = multiply(2, 3)\n",
    "        self.assertEqual(result, 6, \"Multiplication test failed\")\n",
    "    \n",
    "    def test_negative_add(self):\n",
    "        # Test addition with negative numbers\n",
    "        result = add(-2, -3)\n",
    "        self.assertEqual(result, -5, \"Negative addition test failed\")\n",
    "    \n",
    "    def test_negative_multiply(self):\n",
    "        # Test multiplication with negative numbers\n",
    "        result = multiply(-2, 3)\n",
    "        self.assertEqual(result, -6, \"Negative multiplication test failed\")\n",
    "\n",
    "# Running the test case\n",
    "# if __name__ == '__main__':\n",
    "#     unittest.main(argv=[''], exit=False)\n",
    "\n",
    "# This will work in a Python script but should be commented out in Jupyter\n",
    "if __name__ == '__main__':\n",
    "    unittest.main()  # Standard way to run tests in a standalone Python script\n"
   ]
  },
  {
   "cell_type": "markdown",
   "metadata": {},
   "source": [
    "## Explanation:\n",
    "In a regular Python script, you'd typically call unittest.main() like this to run all test cases in the script.\n",
    "However, in Jupyter, this would cause the kernel to exit, so we comment it out when working within Jupyter Notebooks.\n",
    "\n",
    "## First method:\n",
    " Recommended for Jupyter Notebooks. It uses argv=[''] and exit=False to avoid conflicts with Jupyter's arguments and prevent the kernel from exiting.\n",
    " \n",
    "## Second method:\n",
    " Standard Python script approach but commented out in Jupyter to avoid kernel termination."
   ]
  },
  {
   "cell_type": "markdown",
   "metadata": {},
   "source": [
    "## Explanation of unittest Example\n",
    "\n",
    "Functions to Test:\n",
    "\n",
    "add: Adds two numbers.\n",
    "multiply: Multiplies two numbers.\n",
    "\n",
    "Test Class:\n",
    "\n",
    "The test class TestMathOperations inherits from unittest.TestCase.\n",
    "\n",
    "Inside the class, we define test methods (test_add, test_multiply, etc.), which test specific functionality.\n",
    "We use self.assertEqual() to compare the result with the expected value.\n",
    "\n",
    "Running the Tests:\n",
    "\n",
    "The unittest.main() will run the tests and display the results in the terminal."
   ]
  },
  {
   "cell_type": "markdown",
   "metadata": {},
   "source": [
    "## What is pytest?\n",
    "pytest is an open-source Python testing framework that simplifies the process of writing and running tests. It’s more flexible and user-friendly than unittest, providing features like:\n",
    "\n",
    "Easier syntax: No need to create test classes or use assertions explicitly (it can automatically detect assertions).\n",
    "\n",
    "Rich plugin architecture: It supports a wide range of plugins for advanced test functionalities.\n",
    "\n",
    "Fixtures: For managing setup/teardown code.\n",
    "\n",
    "Detailed Output: Provides a more readable output for test results.\n",
    "\n",
    "Example of pytest Usage\n",
    "Here’s how you would rewrite the previous unittest example using pytest."
   ]
  },
  {
   "cell_type": "code",
   "execution_count": null,
   "metadata": {},
   "outputs": [],
   "source": [
    "pip install pytest\n"
   ]
  },
  {
   "cell_type": "code",
   "execution_count": 5,
   "metadata": {},
   "outputs": [],
   "source": [
    "# Example functions\n",
    "def add(a, b):\n",
    "    return a + b\n",
    "\n",
    "def multiply(a, b):\n",
    "    return a * b\n",
    "\n",
    "# Test functions with pytest\n",
    "def test_add():\n",
    "    assert add(2, 3) == 5, \"Addition test failed\"\n",
    "    \n",
    "def test_multiply():\n",
    "    assert multiply(2, 3) == 6, \"Multiplication test failed\"\n",
    "    \n",
    "def test_negative_add():\n",
    "    assert add(-2, -3) == -5, \"Negative addition test failed\"\n",
    "    \n",
    "def test_negative_multiply():\n",
    "    assert multiply(-2, 3) == -6, \"Negative multiplication test failed\"\n",
    "\n",
    "# You can run pytest from the command line using: `pytest test_filename.py`\n"
   ]
  },
  {
   "cell_type": "markdown",
   "metadata": {},
   "source": [
    "## Explanation of pytest Example\n",
    "Test Functions:\n",
    "\n",
    "You define regular functions for each test (e.g., test_add, test_multiply).\n",
    "Use Python’s built-in assert statement to check conditions.\n",
    "If the condition is False, pytest will report it as a failure.\n",
    "Running the Tests:\n",
    "\n",
    "To run the tests, save the code in a file (e.g., test_math_operations.py) and run it with pytest:"
   ]
  },
  {
   "cell_type": "code",
   "execution_count": null,
   "metadata": {},
   "outputs": [],
   "source": [
    "pytest test_math_operations.py\n"
   ]
  },
  {
   "cell_type": "markdown",
   "metadata": {},
   "source": [
    "Advantages Over unittest:\n",
    "\n",
    "Simpler syntax: No need to define a class or use self.assertEqual.\n",
    "Richer output: You get more detailed and human-readable feedback.\n"
   ]
  }
 ],
 "metadata": {
  "kernelspec": {
   "display_name": ".venv",
   "language": "python",
   "name": "python3"
  },
  "language_info": {
   "codemirror_mode": {
    "name": "ipython",
    "version": 3
   },
   "file_extension": ".py",
   "mimetype": "text/x-python",
   "name": "python",
   "nbconvert_exporter": "python",
   "pygments_lexer": "ipython3",
   "version": "3.13.0"
  }
 },
 "nbformat": 4,
 "nbformat_minor": 2
}
