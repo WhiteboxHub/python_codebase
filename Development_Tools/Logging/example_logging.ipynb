{
 "cells": [
  {
   "cell_type": "markdown",
   "metadata": {},
   "source": [
    "### Logging in Python\n",
    "\n",
    "Logging in Python is a way to keep track of events that happen while your program is running. It helps you record messages that can provide insights into the functioning of your program, such as errors, warnings, and information about program execution.\n",
    "\n",
    "Python provides a built-in logging module to log messages at different levels. Here's a breakdown of how to use it.\n",
    "\n",
    "---\n",
    "\n",
    "Steps to Use Logging in Python"
   ]
  },
  {
   "cell_type": "markdown",
   "metadata": {},
   "source": [
    "#### 1.Import the logging Module\n",
    "\n",
    "To use the logging functionality, you need to import Python's built-in logging module:\n",
    "\n",
    "---"
   ]
  },
  {
   "cell_type": "code",
   "execution_count": 2,
   "metadata": {},
   "outputs": [],
   "source": [
    "import logging"
   ]
  },
  {
   "cell_type": "markdown",
   "metadata": {},
   "source": [
    "#### 2.Basic Logging Setup\n",
    "\n",
    "To log a message, you need to set up logging by configuring the logging level, format, and other settings. The simplest configuration looks like this:\n",
    "\n",
    "---\n"
   ]
  },
  {
   "cell_type": "code",
   "execution_count": 3,
   "metadata": {},
   "outputs": [],
   "source": [
    "# Basic logging configuration\n",
    "logging.basicConfig(level=logging.DEBUG)  # Set the logging level\n"
   ]
  },
  {
   "cell_type": "markdown",
   "metadata": {},
   "source": [
    "Explanation:\n",
    "\n",
    "level=logging.DEBUG: Specifies the logging level (used to filter log messages). In this case, it captures all messages from DEBUG level and above (e.g., DEBUG, INFO, WARNING, ERROR, CRITICAL).\n",
    "\n",
    "You can also specify other parameters such as log format, date format, and log file to write the logs.\n",
    "\n",
    "\n",
    "---\n"
   ]
  },
  {
   "cell_type": "markdown",
   "metadata": {},
   "source": [
    "#### 3.Log Messages at Different Levels\n",
    "\n",
    "Python's logging module provides different levels of logging, which allows you to control the importance of messages:\n",
    "\n",
    "DEBUG: Detailed information, typically useful only for diagnosing problems.\n",
    "\n",
    "INFO: Informational messages that highlight the progress of the application.\n",
    "\n",
    "WARNING: Indication that something unexpected happened, but the program is still working.\n",
    "\n",
    "ERROR: A more serious problem that prevented the program from performing a function.\n",
    "\n",
    "CRITICAL: A very serious error, indicating that the program itself may be unable to continue running.\n",
    "\n",
    "---\n"
   ]
  },
  {
   "cell_type": "code",
   "execution_count": 4,
   "metadata": {},
   "outputs": [
    {
     "name": "stderr",
     "output_type": "stream",
     "text": [
      "DEBUG:root:This is a debug message\n",
      "INFO:root:This is an info message\n",
      "WARNING:root:This is a warning message\n",
      "ERROR:root:This is an error message\n",
      "CRITICAL:root:This is a critical message\n"
     ]
    }
   ],
   "source": [
    "import logging\n",
    "\n",
    "# Configure logging\n",
    "logging.basicConfig(level=logging.DEBUG)\n",
    "\n",
    "# Log messages at different levels\n",
    "logging.debug(\"This is a debug message\")  # For detailed diagnostic messages\n",
    "logging.info(\"This is an info message\")   # For general informational messages\n",
    "logging.warning(\"This is a warning message\")  # For warnings that are not critical\n",
    "logging.error(\"This is an error message\")  # For errors that are recoverable\n",
    "logging.critical(\"This is a critical message\")  # For very serious errors\n"
   ]
  },
  {
   "cell_type": "markdown",
   "metadata": {},
   "source": [
    "#### 4.Logging to a File\n",
    "\n",
    "Instead of printing the log messages to the console, you can log them to a file. This is especially useful for debugging production-level applications.\n",
    "\n",
    "---\n"
   ]
  },
  {
   "cell_type": "code",
   "execution_count": 5,
   "metadata": {},
   "outputs": [
    {
     "name": "stderr",
     "output_type": "stream",
     "text": [
      "DEBUG:root:This is a debug message\n",
      "INFO:root:This is an info message\n",
      "WARNING:root:This is a warning message\n",
      "ERROR:root:This is an error message\n",
      "CRITICAL:root:This is a critical message\n"
     ]
    }
   ],
   "source": [
    "import logging\n",
    "\n",
    "# Configure logging to write messages to a file\n",
    "logging.basicConfig(filename='app.log', level=logging.DEBUG, format='%(asctime)s - %(levelname)s - %(message)s')\n",
    "\n",
    "# Example log messages\n",
    "logging.debug(\"This is a debug message\")\n",
    "logging.info(\"This is an info message\")\n",
    "logging.warning(\"This is a warning message\")\n",
    "logging.error(\"This is an error message\")\n",
    "logging.critical(\"This is a critical message\")\n"
   ]
  }
 ],
 "metadata": {
  "kernelspec": {
   "display_name": "Python 3",
   "language": "python",
   "name": "python3"
  },
  "language_info": {
   "codemirror_mode": {
    "name": "ipython",
    "version": 3
   },
   "file_extension": ".py",
   "mimetype": "text/x-python",
   "name": "python",
   "nbconvert_exporter": "python",
   "pygments_lexer": "ipython3",
   "version": "3.11.9"
  }
 },
 "nbformat": 4,
 "nbformat_minor": 2
}
