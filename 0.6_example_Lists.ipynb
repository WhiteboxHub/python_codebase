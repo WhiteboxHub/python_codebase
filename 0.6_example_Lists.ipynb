{
 "cells": [
  {
   "cell_type": "markdown",
   "metadata": {},
   "source": [
    " ### lists\n",
    " lists are versatile data structures that allow you to store multiple items in a single variable. They are ordered, mutable, and can contain elements of different data types. You can create a list by placing elements inside square brackets [], separated by commas.\n",
    "\n",
    "Creating a List:"
   ]
  },
  {
   "cell_type": "code",
   "execution_count": null,
   "metadata": {},
   "outputs": [],
   "source": [
    "fruits = ['apple', 'banana', 'cherry']\n",
    "print(fruits)  # Output: ['apple', 'banana', 'cherry']\n"
   ]
  },
  {
   "cell_type": "markdown",
   "metadata": {},
   "source": [
    "#### Accessing List Elements:\n",
    "\n",
    "You can access elements in a list using their index, starting from 0."
   ]
  },
  {
   "cell_type": "code",
   "execution_count": null,
   "metadata": {},
   "outputs": [],
   "source": [
    "print(fruits[0])  # Output: apple\n",
    "print(fruits[1])  # Output: banana\n",
    "print(fruits[2])  # Output: cherry\n"
   ]
  },
  {
   "cell_type": "markdown",
   "metadata": {},
   "source": [
    "#### Negative Indexing:\n",
    "\n",
    "Negative indexing allows you to access elements from the end of the list.\n"
   ]
  },
  {
   "cell_type": "code",
   "execution_count": null,
   "metadata": {},
   "outputs": [],
   "source": [
    "print(fruits[-1])  # Output: cherry\n",
    "print(fruits[-2])  # Output: banana\n",
    "print(fruits[-3])  # Output: apple\n"
   ]
  },
  {
   "cell_type": "markdown",
   "metadata": {},
   "source": [
    "#### Slicing a List:\n",
    "\n",
    "You can extract a portion of a list using slicing.\n",
    "\n",
    "\n"
   ]
  },
  {
   "cell_type": "code",
   "execution_count": null,
   "metadata": {},
   "outputs": [],
   "source": [
    "# Items from index 1 to 2\n",
    "print(fruits[1:3])  # Output: ['banana', 'cherry']\n",
    "\n",
    "# Items from index 0 to 1\n",
    "print(fruits[:2])   # Output: ['apple', 'banana']\n",
    "\n",
    "# Items from index 1 to the end\n",
    "print(fruits[1:])   # Output: ['banana', 'cherry']\n",
    "\n",
    "# All items\n",
    "print(fruits[:])    # Output: ['apple', 'banana', 'cherry']\n"
   ]
  },
  {
   "cell_type": "markdown",
   "metadata": {},
   "source": [
    "#### Adding Elements to a List:\n",
    "\n",
    "You can add elements to a list using the append(), insert(), or extend() methods."
   ]
  },
  {
   "cell_type": "code",
   "execution_count": null,
   "metadata": {},
   "outputs": [],
   "source": [
    "# Using append() to add an element at the end\n",
    "fruits.append('date')\n",
    "print(fruits)  # Output: ['apple', 'banana', 'cherry', 'date']\n",
    "\n",
    "# Using insert() to add an element at a specific index\n",
    "fruits.insert(1, 'apricot')\n",
    "print(fruits)  # Output: ['apple', 'apricot', 'banana', 'cherry', 'date']\n",
    "\n",
    "# Using extend() to add multiple elements\n",
    "fruits.extend(['elderberry', 'fig', 'grape'])\n",
    "print(fruits)  # Output: ['apple', 'apricot', 'banana', 'cherry', 'date', 'elderberry', 'fig', 'grape']\n"
   ]
  },
  {
   "cell_type": "markdown",
   "metadata": {},
   "source": [
    "#### Removing Elements from a List:\n",
    "\n",
    "You can remove elements using the remove(), pop(), or del statement.\n"
   ]
  },
  {
   "cell_type": "code",
   "execution_count": null,
   "metadata": {},
   "outputs": [],
   "source": [
    "# Using remove() to remove a specific element\n",
    "fruits.remove('banana')\n",
    "print(fruits)  # Output: ['apple', 'apricot', 'cherry', 'date', 'elderberry', 'fig', 'grape']\n",
    "\n",
    "# Using pop() to remove an element at a specific index\n",
    "removed_fruit = fruits.pop(2)\n",
    "print(removed_fruit)  # Output: cherry\n",
    "print(fruits)         # Output: ['apple', 'apricot', 'date', 'elderberry', 'fig', 'grape']\n",
    "\n",
    "# Using del to remove an element at a specific index\n",
    "del fruits[1]\n",
    "print(fruits)  # Output: ['apple', 'date', 'elderberry', 'fig', 'grape']\n"
   ]
  },
  {
   "cell_type": "markdown",
   "metadata": {},
   "source": [
    "#### List Comprehensions:\n",
    "\n",
    "List comprehensions provide a concise way to create lists."
   ]
  },
  {
   "cell_type": "code",
   "execution_count": null,
   "metadata": {},
   "outputs": [],
   "source": [
    "# Create a list of squares\n",
    "squares = [x**2 for x in range(5)]\n",
    "print(squares)  # Output: [0, 1, 4, 9, 16]\n",
    "\n",
    "# Create a list of even numbers\n",
    "evens = [x for x in range(10) if x % 2 == 0]\n",
    "print(evens)  # Output: [0, 2, 4, 6, 8]\n"
   ]
  },
  {
   "cell_type": "markdown",
   "metadata": {},
   "source": [
    "#### Sorting a List:\n",
    "\n",
    "You can sort a list using the sort() method or the sorted() function."
   ]
  },
  {
   "cell_type": "code",
   "execution_count": null,
   "metadata": {},
   "outputs": [],
   "source": [
    "numbers = [4, 2, 9, 1, 5, 6]\n",
    "\n",
    "# Using sort() to sort the list in place\n",
    "numbers.sort()\n",
    "print(numbers)  # Output: [1, 2, 4, 5, 6, 9]\n",
    "\n",
    "# Using sorted() to return a new sorted list\n",
    "sorted_numbers = sorted(numbers, reverse=True)\n",
    "print(sorted_numbers)  # Output: [9, 6, 5, 4, 2, 1]\n"
   ]
  }
 ],
 "metadata": {
  "kernelspec": {
   "display_name": ".venv",
   "language": "python",
   "name": "python3"
  },
  "language_info": {
   "name": "python",
   "version": "3.13.0"
  }
 },
 "nbformat": 4,
 "nbformat_minor": 2
}
