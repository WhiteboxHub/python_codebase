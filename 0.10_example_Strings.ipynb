{
 "cells": [
  {
   "cell_type": "markdown",
   "metadata": {},
   "source": [
    "# String \n",
    "a string is an immutable sequence of Unicode characters. Strings are widely used to represent textual data and support a variety of operations and methods for manipulation.\n",
    "\n",
    "Creating Strings:\n",
    "\n",
    "Strings can be created using single quotes (') or double quotes (\"). Both are functionally equivalent."
   ]
  },
  {
   "cell_type": "code",
   "execution_count": 2,
   "metadata": {},
   "outputs": [
    {
     "name": "stdout",
     "output_type": "stream",
     "text": [
      "Hello, World!\n"
     ]
    }
   ],
   "source": [
    "# Using single quotes\n",
    "greeting = 'Hello, World!'\n",
    "\n",
    "# Using double quotes\n",
    "greeting = \"Hello, World!\"\n",
    "\n",
    "print(greeting)\n"
   ]
  },
  {
   "cell_type": "markdown",
   "metadata": {},
   "source": [
    "For multi-line strings, triple quotes (''' or \"\"\") are used:\n",
    "\n"
   ]
  },
  {
   "cell_type": "code",
   "execution_count": 6,
   "metadata": {},
   "outputs": [
    {
     "name": "stdout",
     "output_type": "stream",
     "text": [
      "This is a\n",
      "multi-line string.\n"
     ]
    }
   ],
   "source": [
    "multi_line_string = \"\"\"This is a\n",
    "multi-line string.\"\"\"\n",
    " \n",
    "print(multi_line_string)"
   ]
  },
  {
   "cell_type": "markdown",
   "metadata": {},
   "source": [
    "### Accessing Characters and Slicing:\n",
    "\n",
    "Strings are indexed starting from 0. Negative indices count from the end of the string.\n",
    "\n"
   ]
  },
  {
   "cell_type": "code",
   "execution_count": null,
   "metadata": {},
   "outputs": [],
   "source": [
    "text = \"Python\"\n",
    "\n",
    "# Accessing characters\n",
    "first_char = text[0]    # 'P'\n",
    "last_char = text[-1]    # 'n'\n",
    "\n",
    "# Slicing\n",
    "substring = text[1:4]   # 'yth'\n"
   ]
  },
  {
   "cell_type": "markdown",
   "metadata": {},
   "source": [
    "### String Methods:\n",
    "\n",
    "Python provides a rich set of built-in methods for string manipulation. Here are some commonly used methods:\n",
    "\n",
    "lower(): Converts all characters to lowercase.\n",
    "\n",
    "upper(): Converts all characters to uppercase.\n",
    "\n",
    "capitalize(): Capitalizes the first character.\n",
    "\n",
    "title(): Capitalizes the first character of each word.\n",
    "\n",
    "strip(): Removes leading and trailing whitespace.\n",
    "\n",
    "replace(old, new): Replaces occurrences of old with new.\n",
    "\n",
    "split(delimiter): Splits the string into a list based on the delimiter.\n",
    "\n",
    "join(iterable): Joins elements of an iterable into a single string.\n",
    "\n",
    "find(substring): Returns the lowest index of the substring if found, else returns -1.\n",
    "\n",
    "count(substring): Returns the number of occurrences of the substring.\n",
    "\n",
    "Etc..\n"
   ]
  },
  {
   "cell_type": "code",
   "execution_count": 8,
   "metadata": {},
   "outputs": [],
   "source": [
    "text = \"  Hello, World!  \"\n",
    "\n",
    "# Removing leading and trailing whitespace\n",
    "clean_text = text.strip()  # 'Hello, World!'\n",
    "\n",
    "# Replacing a substring\n",
    "new_text = text.replace(\"World\", \"Python\")  # '  Hello, Python!  '\n",
    "\n",
    "# Splitting the string\n",
    "words = text.split(\",\")  # ['  Hello', ' World!  ']\n",
    "\n",
    "# Joining a list into a string\n",
    "joined_text = \"-\".join(words)  # '  Hello- World!  '\n",
    "\n",
    "# Converting to lowercase\n",
    "lower_text = text.lower()  # '  hello, world!  '\n",
    "\n",
    "# Converting to uppercase\n",
    "upper_text = text.upper()  # '  HELLO, WORLD!  '\n",
    "\n",
    "# Capitalizing the first character\n",
    "capitalized_text = text.capitalize()  # '  hello, world!  '\n",
    "\n",
    "# Counting occurrences of a substring\n",
    "count = text.count(\"o\")  # 2\n",
    "\n",
    "# Checking if the string starts with a specific prefix\n",
    "starts_with_hello = text.startswith(\"Hello\")  # False\n",
    "\n",
    "# Checking if the string ends with a specific suffix\n",
    "ends_with_world = text.endswith(\"World!\")  # False\n",
    "\n",
    "# Finding the index of a substring\n",
    "index = text.find(\"World\")  # 9\n",
    "\n",
    "# Checking if all characters are alphanumeric\n",
    "is_alphanumeric = text.isalnum()  # False\n",
    "\n",
    "# Checking if all characters are alphabetic\n",
    "is_alpha = text.isalpha()  # False\n",
    "\n",
    "# Checking if all characters are digits\n",
    "is_digit = text.isdigit()  # False\n",
    "\n",
    "# Checking if all characters are in lowercase\n",
    "is_lower = text.islower()  # False\n",
    "\n",
    "# Checking if all characters are in uppercase\n",
    "is_upper = text.isupper()  # False\n",
    "\n",
    "# Checking if the string is a title\n",
    "is_title = text.istitle()  # False\n",
    "\n",
    "# Checking if all characters are printable\n",
    "is_printable = text.isprintable()  # True\n",
    "\n",
    "# Checking if all characters are whitespace\n",
    "is_space = text.isspace()  # False\n",
    "\n",
    "# Checking if the string is a valid identifier\n",
    "is_identifier = text.isidentifier()  # False\n",
    "\n",
    "# Checking if all characters are numeric\n",
    "is_numeric = text.isnumeric()  # False\n",
    "\n",
    "# Checking if all characters are printable\n",
    "is_printable = text.isprintable()  # True\n",
    "\n",
    "# Checking if all characters are whitespace\n",
    "is_space = text.isspace()  # False\n",
    "\n",
    "# Checking if the string is a valid identifier\n",
    "is_identifier = text.isidentifier()  # False\n",
    "\n",
    "# Checking if all characters are numeric\n",
    "is_numeric = text.isnumeric()  # False\n",
    "\n",
    "# Checking if all characters are printable\n",
    "is_printable = text.isprintable()  # True\n",
    "\n",
    "# Checking if all characters are whitespace\n",
    "is_space = text.isspace()  # False\n",
    "\n",
    "# Checking if the string is a valid identifier\n",
    "is_identifier = text.isidentifier()  # False\n",
    "\n",
    "# Checking if all characters are numeric\n",
    "is_numeric = text.isnumeric()  # False\n",
    "\n",
    "# Checking if all characters are printable\n",
    "is_printable = text.isprintable()  # True\n",
    "\n",
    "# Checking if all characters are whitespace\n",
    "is_space = text.isspace()  # False\n",
    "\n",
    "# Checking if the string is a valid identifier\n",
    "is_identifier = text.isidentifier()  # False\n",
    "\n",
    "# Checking if all characters are numeric\n",
    "is_numeric = text.isnumeric()  # False\n",
    "\n",
    "# Checking if all characters are printable\n",
    "is_printable = text.isprintable()  # True\n",
    "\n",
    "# Checking if all characters are whitespace\n",
    "is_space = text.isspace()  # False\n",
    "\n",
    "# Checking if the string is a valid identifier\n",
    "is_identifier = text.isidentifier()  # False\n",
    "\n",
    "# Checking if all characters are numeric\n",
    "is_numeric = text.isnumeric()  # False\n",
    "\n",
    "# Checking if all characters are printable\n",
    "is_printable = text.isprintable()  # True\n",
    "\n",
    "# Checking if all characters are whitespace\n",
    "is_space = text.isspace()  # False\n",
    "\n",
    "# Checking if the string is a valid identifier\n",
    "is_identifier = text.isidentifier()  # False\n",
    "\n",
    "# Checking if all characters are numeric\n",
    "is_numeric = text.isnumeric()  # False\n",
    "\n",
    "# Checking if all characters are printable\n",
    "is_printable = text.isprintable()  # True\n",
    "\n",
    "# Checking if all characters are whitespace\n",
    "is_space = text.isspace()  # False\n",
    "\n",
    "# Checking if the string is a valid identifier\n",
    "is_identifier = text.isidentifier()  # False\n",
    "\n",
    "# Checking if all characters are numeric\n",
    "is_numeric = text.isnumeric()  # False\n",
    "\n",
    "# Checking if all characters are printable\n",
    "is_printable = text.isprintable()  # True\n",
    "\n",
    "# Checking if all characters are whitespace\n",
    "is_space = text.isspace()  # False\n",
    "\n",
    "# Checking if the string is a valid identifier\n",
    "is_identifier = text.isidentifier()  # False\n",
    "\n",
    "# Checking if all characters are numeric\n",
    "is_numeric = text.isnumeric()  # False\n",
    "\n",
    "# Checking if all characters are printable\n",
    "is_printable = text.isprintable()  # True\n",
    "\n",
    "# Checking if all characters are whitespace\n",
    "is_space = text.isspace()  # False\n",
    "\n",
    "# Checking if the string is a valid identifier\n",
    "is_identifier = text.isidentifier()  # False\n",
    "\n",
    "# Checking if all characters are numeric\n",
    "is_numeric = text.isnumeric()  # False\n",
    "\n",
    "# Checking if all characters are printable\n",
    "is_printable = text.isprintable()  # True\n",
    "\n",
    "# Checking if all characters are whitespace\n",
    "is_space = text.isspace()  # False\n",
    "\n",
    "# Checking if the string is a valid identifier\n",
    "is_identifier = text.isidentifier()  # False\n",
    "\n",
    "# Checking if all characters are numeric\n",
    "is_numeric = text.isnumeric()  # False\n",
    "\n",
    "# Checking if all characters are printable\n",
    "is_printable = text.isprintable()  # True\n",
    "\n",
    "# Checking if all characters are whitespace\n",
    "is_space = text.isspace()  # False\n",
    "\n",
    "# Checking if the string is a valid identifier\n",
    "is_identifier = text.isidentifier()  # False\n",
    "\n",
    "# Checking if all characters are numeric\n",
    "is_numeric = text.isnumeric()  # False\n",
    "\n",
    "# Checking if all characters are printable\n",
    "is_printable = text.isprintable()  # True\n",
    "\n",
    "# Checking if all characters are whitespace\n",
    "is_space = text.isspace()  # False\n",
    "\n",
    "# Checking if the string is a valid identifier\n",
    "is_identifier = text.isidentifier()  # False\n",
    "\n",
    "\n",
    " \n"
   ]
  },
  {
   "cell_type": "markdown",
   "metadata": {},
   "source": [
    "### String Formatting:\n",
    "\n",
    "Python offers several ways to format strings:\n",
    "\n",
    "1.Old-style formatting using %:\n"
   ]
  },
  {
   "cell_type": "code",
   "execution_count": null,
   "metadata": {},
   "outputs": [],
   "source": [
    "name = \"Alice\"\n",
    "age = 30\n",
    "formatted_string = \"Name: %s, Age: %d\" % (name, age)\n",
    "print(formatted_string)  # Output: Name: Alice, Age: 30\n"
   ]
  },
  {
   "cell_type": "markdown",
   "metadata": {},
   "source": [
    "2. str.format() method:"
   ]
  },
  {
   "cell_type": "code",
   "execution_count": null,
   "metadata": {},
   "outputs": [],
   "source": [
    "formatted_string = \"Name: {}, Age: {}\".format(name, age)\n",
    "print(formatted_string)  # Output: Name: Alice, Age: 30\n"
   ]
  },
  {
   "cell_type": "markdown",
   "metadata": {},
   "source": [
    "3. f-strings (available in Python 3.6 and above):"
   ]
  },
  {
   "cell_type": "code",
   "execution_count": null,
   "metadata": {},
   "outputs": [],
   "source": [
    "formatted_string = f\"Name: {name}, Age: {age}\"\n",
    "print(formatted_string)  # Output: Name: Alice, Age: 30\n"
   ]
  },
  {
   "cell_type": "markdown",
   "metadata": {},
   "source": [
    "### Escaping Characters:\n",
    "\n",
    "To include special characters like quotes or backslashes in a string, use the backslash (\\) escape character:\n",
    "\n"
   ]
  },
  {
   "cell_type": "code",
   "execution_count": 9,
   "metadata": {},
   "outputs": [],
   "source": [
    "quote = \"She said, \\\"Hello, World!\\\"\"\n",
    "path = \"C:\\\\Users\\\\Alice\\\\Documents\"\n"
   ]
  },
  {
   "cell_type": "markdown",
   "metadata": {},
   "source": [
    "Raw Strings:\n",
    "\n",
    "Prefixing a string with r or R creates a raw string where escape sequences are not processed:"
   ]
  },
  {
   "cell_type": "code",
   "execution_count": null,
   "metadata": {},
   "outputs": [],
   "source": [
    "raw_string = r\"C:\\Users\\Alice\\Documents\"\n",
    "print(raw_string)  # Output: C:\\Users\\Alice\\Documents\n"
   ]
  },
  {
   "cell_type": "markdown",
   "metadata": {},
   "source": [
    "### String Encoding and Decoding:\n",
    "\n",
    "Python strings are Unicode by default. To encode a string to bytes or decode bytes to a string:\n",
    "\n"
   ]
  },
  {
   "cell_type": "code",
   "execution_count": null,
   "metadata": {},
   "outputs": [],
   "source": [
    "# Encoding a string to bytes\n",
    "text = \"Hello, World!\"\n",
    "bytes_text = text.encode('utf-8')\n",
    "\n",
    "# Decoding bytes back to string\n",
    "decoded_text = bytes_text.decode('utf-8')\n"
   ]
  },
  {
   "cell_type": "markdown",
   "metadata": {},
   "source": [
    "### String Immutability:\n",
    "\n",
    "Strings in Python are immutable, meaning their content cannot be changed after creation. Operations that modify a string return a new string:"
   ]
  },
  {
   "cell_type": "code",
   "execution_count": 10,
   "metadata": {},
   "outputs": [
    {
     "name": "stdout",
     "output_type": "stream",
     "text": [
      "Hallo\n",
      "Hello\n"
     ]
    }
   ],
   "source": [
    "text = \"Hello\"\n",
    "new_text = text.replace(\"e\", \"a\")\n",
    "print(new_text)  # Output: Hallo\n",
    "print(text)      # Output: Hello\n"
   ]
  },
  {
   "cell_type": "markdown",
   "metadata": {},
   "source": [
    "### String formatting\n",
    "\n",
    "string formatting allows you to embed expressions inside string literals, enabling dynamic and readable string construction. There are several methods to achieve this, each with its own advantages.\n",
    "\n",
    "1. F-Strings (Formatted String Literals):\n",
    "\n",
    "Introduced in Python 3.6, f-strings provide a concise and efficient way to embed expressions inside string literals.\n",
    "\n",
    "Example:\n",
    "\n"
   ]
  },
  {
   "cell_type": "code",
   "execution_count": 1,
   "metadata": {},
   "outputs": [
    {
     "name": "stdout",
     "output_type": "stream",
     "text": [
      "Hello, my name is Alice and I am 30 years old.\n"
     ]
    }
   ],
   "source": [
    "name = \"Alice\"\n",
    "age = 30\n",
    "greeting = f\"Hello, my name is {name} and I am {age} years old.\"\n",
    "print(greeting)\n"
   ]
  },
  {
   "cell_type": "markdown",
   "metadata": {},
   "source": [
    "2. The str.format() Method:\n",
    "\n",
    "Before f-strings, the str.format() method was commonly used for string formatting.\n",
    "\n",
    "Example:"
   ]
  },
  {
   "cell_type": "code",
   "execution_count": null,
   "metadata": {},
   "outputs": [],
   "source": [
    "name = \"Alice\"\n",
    "age = 30\n",
    "greeting = \"Hello, my name is {} and I am {} years old.\".format(name, age)\n",
    "print(greeting)\n"
   ]
  },
  {
   "cell_type": "markdown",
   "metadata": {},
   "source": [
    "3. The % Operator (Old-Style Formatting):\n",
    "\n",
    "This is the oldest method of string formatting in Python, similar to printf-style formatting in C.\n",
    "\n",
    "Example:\n",
    "\n"
   ]
  },
  {
   "cell_type": "code",
   "execution_count": 2,
   "metadata": {},
   "outputs": [
    {
     "name": "stdout",
     "output_type": "stream",
     "text": [
      "Hello, my name is Alice and I am 30 years old.\n"
     ]
    }
   ],
   "source": [
    "name = \"Alice\"\n",
    "age = 30\n",
    "greeting = \"Hello, my name is %s and I am %d years old.\" % (name, age)\n",
    "print(greeting)\n"
   ]
  },
  {
   "cell_type": "markdown",
   "metadata": {},
   "source": [
    "4. Template Strings:\n",
    "\n",
    "For simple substitutions, Python's string module provides the Template class, which offers a way to substitute placeholders in strings.\n",
    "\n",
    "Example:\n"
   ]
  },
  {
   "cell_type": "code",
   "execution_count": 3,
   "metadata": {},
   "outputs": [
    {
     "name": "stdout",
     "output_type": "stream",
     "text": [
      "Hello, my name is Alice and I am 30 years old.\n"
     ]
    }
   ],
   "source": [
    "from string import Template\n",
    "\n",
    "name = \"Alice\"\n",
    "age = 30\n",
    "template = Template(\"Hello, my name is $name and I am $age years old.\")\n",
    "greeting = template.substitute(name=name, age=age)\n",
    "print(greeting)\n"
   ]
  },
  {
   "cell_type": "markdown",
   "metadata": {},
   "source": [
    "Formatting Specifiers:\n",
    "\n",
    "All these methods support formatting specifiers to control the appearance of the output.\n",
    "\n",
    "Example:\n"
   ]
  },
  {
   "cell_type": "code",
   "execution_count": 4,
   "metadata": {},
   "outputs": [
    {
     "name": "stdout",
     "output_type": "stream",
     "text": [
      "Formatted value: 123.46\n"
     ]
    }
   ],
   "source": [
    "value = 123.456\n",
    "formatted_value = f\"Formatted value: {value:.2f}\"\n",
    "print(formatted_value)\n"
   ]
  }
 ],
 "metadata": {
  "kernelspec": {
   "display_name": ".venv",
   "language": "python",
   "name": "python3"
  },
  "language_info": {
   "codemirror_mode": {
    "name": "ipython",
    "version": 3
   },
   "file_extension": ".py",
   "mimetype": "text/x-python",
   "name": "python",
   "nbconvert_exporter": "python",
   "pygments_lexer": "ipython3",
   "version": "3.13.0"
  }
 },
 "nbformat": 4,
 "nbformat_minor": 2
}
