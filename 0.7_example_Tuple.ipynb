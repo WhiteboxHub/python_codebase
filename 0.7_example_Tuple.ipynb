{
 "cells": [
  {
   "cell_type": "markdown",
   "metadata": {},
   "source": [
    "## tuple\n",
    "a tuple is an immutable, ordered collection of elements. Tuples are similar to lists but differ in that they cannot be modified after creation, making them suitable for storing data that should remain constant.\n",
    "\n",
    "Creating a Tuple:\n",
    "\n",
    "You can create a tuple by placing a comma-separated sequence of elements within parentheses ()."
   ]
  },
  {
   "cell_type": "code",
   "execution_count": 1,
   "metadata": {},
   "outputs": [
    {
     "name": "stdout",
     "output_type": "stream",
     "text": [
      "('apple', 'banana', 'cherry')\n"
     ]
    }
   ],
   "source": [
    "# Creating a tuple with multiple elements\n",
    "fruits = ('apple', 'banana', 'cherry')\n",
    "print(fruits)  # Output: ('apple', 'banana', 'cherry')\n"
   ]
  },
  {
   "cell_type": "markdown",
   "metadata": {},
   "source": [
    "### Accessing Tuple Elements:\n",
    "\n",
    "Elements in a tuple can be accessed using their index, starting from 0."
   ]
  },
  {
   "cell_type": "code",
   "execution_count": null,
   "metadata": {},
   "outputs": [],
   "source": [
    "print(fruits[0])  # Output: apple\n",
    "print(fruits[1])  # Output: banana\n",
    "print(fruits[2])  # Output: cherry\n"
   ]
  },
  {
   "cell_type": "markdown",
   "metadata": {},
   "source": [
    "### Negative Indexing:\n",
    "\n",
    "Negative indexing allows you to access elements from the end of the tuple."
   ]
  },
  {
   "cell_type": "code",
   "execution_count": null,
   "metadata": {},
   "outputs": [],
   "source": [
    "print(fruits[-1])  # Output: cherry\n",
    "print(fruits[-2])  # Output: banana\n",
    "print(fruits[-3])  # Output: apple\n"
   ]
  },
  {
   "cell_type": "markdown",
   "metadata": {},
   "source": [
    "### Slicing a Tuple:\n",
    "\n",
    "You can extract a portion of a tuple using slicing."
   ]
  },
  {
   "cell_type": "code",
   "execution_count": null,
   "metadata": {},
   "outputs": [],
   "source": [
    "# Items from index 1 to 2\n",
    "print(fruits[1:3])  # Output: ('banana', 'cherry')\n",
    "\n",
    "# Items from index 0 to 1\n",
    "print(fruits[:2])   # Output: ('apple', 'banana')\n",
    "\n",
    "# Items from index 1 to the end\n",
    "print(fruits[1:])   # Output: ('banana', 'cherry')\n",
    "\n",
    "# All items\n",
    "print(fruits[:])    # Output: ('apple', 'banana', 'cherry')\n"
   ]
  },
  {
   "cell_type": "markdown",
   "metadata": {},
   "source": [
    "### Concatenating and Repeating Tuples:\n",
    "\n",
    "Tuples can be concatenated and repeated using the + and * operators, respectively.\n",
    "\n"
   ]
  },
  {
   "cell_type": "code",
   "execution_count": null,
   "metadata": {},
   "outputs": [],
   "source": [
    "# Concatenating tuples\n",
    "vegetables = ('carrot', 'broccoli')\n",
    "all_items = fruits + vegetables\n",
    "print(all_items)  # Output: ('apple', 'banana', 'cherry', 'carrot', 'broccoli')\n",
    "\n",
    "# Repeating tuples\n",
    "repeated_fruits = fruits * 2\n",
    "print(repeated_fruits)  # Output: ('apple', 'banana', 'cherry', 'apple', 'banana', 'cherry')\n"
   ]
  },
  {
   "cell_type": "markdown",
   "metadata": {},
   "source": [
    "### Checking for Existence:\n",
    "\n",
    "You can check if an element exists in a tuple using the in operator.\n"
   ]
  },
  {
   "cell_type": "code",
   "execution_count": null,
   "metadata": {},
   "outputs": [],
   "source": [
    "print('banana' in fruits)  # Output: True\n",
    "print('grape' in fruits)   # Output: False\n"
   ]
  },
  {
   "cell_type": "markdown",
   "metadata": {},
   "source": [
    "### Tuple Length:\n",
    "\n",
    "The len() function returns the number of elements in a tuple."
   ]
  },
  {
   "cell_type": "code",
   "execution_count": null,
   "metadata": {},
   "outputs": [],
   "source": [
    "print(len(fruits))  # Output: 3\n"
   ]
  },
  {
   "cell_type": "markdown",
   "metadata": {},
   "source": [
    "### Nested Tuples:\n",
    "\n",
    "Tuples can contain other tuples, allowing for nested structures."
   ]
  },
  {
   "cell_type": "code",
   "execution_count": null,
   "metadata": {},
   "outputs": [],
   "source": [
    "nested_tuple = ('apple', ('banana', 'cherry'))\n",
    "print(nested_tuple)  # Output: ('apple', ('banana', 'cherry'))\n",
    "print(nested_tuple[1])  # Output: ('banana', 'cherry')\n",
    "print(nested_tuple[1][0])  # Output: banana\n"
   ]
  },
  {
   "cell_type": "markdown",
   "metadata": {},
   "source": [
    "### Immutability of Tuples:\n",
    "\n",
    "Since tuples are immutable, attempting to modify their elements will result in a TypeError.\n"
   ]
  },
  {
   "cell_type": "code",
   "execution_count": 2,
   "metadata": {},
   "outputs": [],
   "source": [
    "# This will raise an error\n",
    "# fruits[0] = 'orange'  # TypeError: 'tuple' object does not support item assignment\n"
   ]
  }
 ],
 "metadata": {
  "kernelspec": {
   "display_name": ".venv",
   "language": "python",
   "name": "python3"
  },
  "language_info": {
   "codemirror_mode": {
    "name": "ipython",
    "version": 3
   },
   "file_extension": ".py",
   "mimetype": "text/x-python",
   "name": "python",
   "nbconvert_exporter": "python",
   "pygments_lexer": "ipython3",
   "version": "3.13.0"
  }
 },
 "nbformat": 4,
 "nbformat_minor": 2
}
