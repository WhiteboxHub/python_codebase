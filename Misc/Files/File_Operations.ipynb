{
  "cells": [
    {
      "cell_type": "markdown",
      "metadata": {
        "colab_type": "text",
        "id": "esVNR21JPuXM"
      },
      "source": [
        "## Working with  File and Directory\n",
        "\n",
        "---"
      ]
    },
    {
      "cell_type": "code",
      "execution_count": 1,
      "metadata": {
        "colab": {
          "base_uri": "https://localhost:8080/",
          "height": 85
        },
        "colab_type": "code",
        "id": "1omk5MsQeYhX",
        "outputId": "c6cb5701-a241-49ba-eeb7-bf845aeb235b"
      },
      "outputs": [
        {
          "name": "stdout",
          "output_type": "stream",
          "text": [
            "The file does not exist.\n"
          ]
        }
      ],
      "source": [
        "# Creating a Directory (os.mkdir)\n",
        "import os\n",
        "try:\n",
        "    os.mkdir(\"my_directory\")\n",
        "    print(\"Directory created successfully.\")\n",
        "except FileExistsError:\n",
        "    print(\"Directory already exists.\")"
      ]
    },
    {
      "cell_type": "code",
      "execution_count": null,
      "metadata": {},
      "outputs": [
        {
          "name": "stdout",
          "output_type": "stream",
          "text": [
            "The file does not exist.\n"
          ]
        }
      ],
      "source": [
        "# Creating Nested Directories (os.makedirs)\n",
        "\n",
        "os.makedirs(\"parent_dir/child_dir\", exist_ok=True)\n",
        "print(\"Nested directories created.\")\n"
      ]
    },
    {
      "cell_type": "code",
      "execution_count": null,
      "metadata": {},
      "outputs": [
        {
          "name": "stdout",
          "output_type": "stream",
          "text": [
            "The file does not exist.\n"
          ]
        }
      ],
      "source": [
        "# Checking if a File Exists (os.path.isfile)\n",
        "import os\n",
        "\n",
        "if os.path.isfile(\"example.txt\"):\n",
        "    print(\"The file exists.\")\n",
        "else:\n",
        "    print(\"The file does not exist.\")"
      ]
    },
    {
      "cell_type": "code",
      "execution_count": null,
      "metadata": {},
      "outputs": [
        {
          "name": "stdout",
          "output_type": "stream",
          "text": [
            "The file does not exist.\n"
          ]
        }
      ],
      "source": [
        "# Checking if a Directory Exists (os.path.isdir)\n",
        "import os\n",
        "if os.path.isdir(\"my_directory\"):\n",
        "    print(\"The directory exists.\")\n",
        "else:\n",
        "    print(\"The directory does not exist.\")"
      ]
    },
    {
      "cell_type": "code",
      "execution_count": null,
      "metadata": {},
      "outputs": [
        {
          "name": "stdout",
          "output_type": "stream",
          "text": [
            "The file does not exist.\n"
          ]
        }
      ],
      "source": [
        "# Changing the Current Directory (os.chdir)\n",
        "\n",
        "import os\n",
        "os.chdir(\"my_directory\")\n",
        "print(f\"Current working directory: {os.getcwd()}\")"
      ]
    },
    {
      "cell_type": "code",
      "execution_count": null,
      "metadata": {},
      "outputs": [
        {
          "name": "stdout",
          "output_type": "stream",
          "text": [
            "The file does not exist.\n"
          ]
        }
      ],
      "source": [
        "# Getting the Current Working Directory (os.getcwd)\n",
        "\n",
        "print(\"Current Directory:\", os.getcwd())"
      ]
    },
    {
      "cell_type": "code",
      "execution_count": null,
      "metadata": {},
      "outputs": [
        {
          "name": "stdout",
          "output_type": "stream",
          "text": [
            "The file does not exist.\n"
          ]
        }
      ],
      "source": [
        "# Removing a Directory (os.rmdir)\n",
        "\n",
        "os.rmdir(\"empty_directory\")\n",
        "print(\"Directory removed.\")\n"
      ]
    },
    {
      "cell_type": "code",
      "execution_count": null,
      "metadata": {},
      "outputs": [
        {
          "name": "stdout",
          "output_type": "stream",
          "text": [
            "The file does not exist.\n"
          ]
        }
      ],
      "source": [
        "# Joining Paths (os.path.join)\n",
        "\n",
        "import os\n",
        "\n",
        "path = os.path.join(\"parent_dir\", \"child_dir\", \"file.txt\")\n",
        "print(path)  # Output: \"parent_dir/child_dir/file.txt\" (on Linux/Mac) or similar on Windows\n",
        "\n"
      ]
    },
    {
      "cell_type": "code",
      "execution_count": null,
      "metadata": {},
      "outputs": [
        {
          "name": "stdout",
          "output_type": "stream",
          "text": [
            "The file does not exist.\n"
          ]
        }
      ],
      "source": [
        "# Getting the Directory Name (os.path.dirname)\n",
        "\n",
        "path = \"/home/user/example.txt\"\n",
        "print(os.path.dirname(path))  # Output: /home/user\n"
      ]
    },
    {
      "cell_type": "code",
      "execution_count": null,
      "metadata": {},
      "outputs": [
        {
          "name": "stdout",
          "output_type": "stream",
          "text": [
            "The file does not exist.\n"
          ]
        }
      ],
      "source": [
        "#Listing Files and Directories (os.listdir)\n",
        "files = os.listdir(\".\")\n",
        "print(\"Files and directories:\", files)"
      ]
    },
    {
      "cell_type": "code",
      "execution_count": null,
      "metadata": {},
      "outputs": [
        {
          "name": "stdout",
          "output_type": "stream",
          "text": [
            "The file does not exist.\n"
          ]
        }
      ],
      "source": [
        "#  Renaming Files or Directories (os.rename)\n",
        "\n",
        "os.rename(\"old_name.txt\", \"new_name.txt\")\n",
        "print(\"File renamed successfully.\")"
      ]
    },
    {
      "cell_type": "markdown",
      "metadata": {
        "colab_type": "text",
        "id": "Y_r67OotdUZk"
      },
      "source": [
        "## File Operations:\n",
        "\n"
      ]
    },
    {
      "cell_type": "markdown",
      "metadata": {},
      "source": [
        "**Reading a Text File - read mode**\n",
        "\n",
        "---"
      ]
    },
    {
      "cell_type": "code",
      "execution_count": null,
      "metadata": {},
      "outputs": [
        {
          "name": "stdout",
          "output_type": "stream",
          "text": [
            "Hello World\n",
            "This is our new text file\n",
            "and this is another line.\n",
            "Why? Because we can do it this easily.\n"
          ]
        }
      ],
      "source": [
        "# Reading A Text File In Python\n",
        "file = open(\"demo.txt\",\"r\") \n",
        "print(file.read())"
      ]
    },
    {
      "cell_type": "code",
      "execution_count": null,
      "metadata": {
        "colab": {
          "base_uri": "https://localhost:8080/",
          "height": 34
        },
        "colab_type": "code",
        "id": "cCSWWwBuNWCx",
        "outputId": "d13b0c2d-457c-4db2-f3af-c43e43674bd5"
      },
      "outputs": [
        {
          "name": "stdout",
          "output_type": "stream",
          "text": [
            "Hello\n"
          ]
        }
      ],
      "source": [
        "#For example, with the following code the interpreter will read the first five characters of stored data and return it as a string:\n",
        "file = open(\"demo.txt\", \"r\")  \n",
        "print(file.read(5))"
      ]
    },
    {
      "cell_type": "code",
      "execution_count": null,
      "metadata": {},
      "outputs": [
        {
          "name": "stdout",
          "output_type": "stream",
          "text": [
            "Hello\n"
          ]
        }
      ],
      "source": [
        "with open(\"demo.txt\", \"r\") as file:\n",
        "    content = file.read()\n",
        "    print(content) "
      ]
    },
    {
      "cell_type": "markdown",
      "metadata": {
        "colab_type": "text",
        "id": "9HXur-NgN1xN"
      },
      "source": [
        "**Real single line:**\n",
        "\n",
        "Let’s say you only want to see the first line of the file – or the third. You would execute the readline()function as many times as possible to get the data you were looking for.\n",
        "\n",
        "---"
      ]
    },
    {
      "cell_type": "code",
      "execution_count": 13,
      "metadata": {
        "colab": {
          "base_uri": "https://localhost:8080/",
          "height": 51
        },
        "colab_type": "code",
        "id": "yXjP_oyfQfQt",
        "outputId": "f154dc65-0b07-4cfb-80ac-6ca2ade8a7d7"
      },
      "outputs": [
        {
          "name": "stdout",
          "output_type": "stream",
          "text": [
            "Hello World\n",
            "\n"
          ]
        }
      ],
      "source": [
        "file = open(\"demo.txt\", \"r\") \n",
        "print(file.readline())"
      ]
    },
    {
      "cell_type": "markdown",
      "metadata": {
        "colab_type": "text",
        "id": "UhYpmwFNRQ8f"
      },
      "source": [
        "**Looping Over A File Object In Python:**\n",
        "\n",
        "---\n",
        "\n",
        "\n",
        "When you want to read – or return – all the lines from a file in a more memory efficient, and fast manner, you can use the loop over method. The advantage to using this method is that the related code is both simple and easy to read. \n",
        "\n"
      ]
    },
    {
      "cell_type": "code",
      "execution_count": null,
      "metadata": {
        "colab": {
          "base_uri": "https://localhost:8080/",
          "height": 136
        },
        "colab_type": "code",
        "id": "kSqg0XF3QslL",
        "outputId": "94c7457e-41ea-41f6-d55e-c19b2755433c"
      },
      "outputs": [],
      "source": [
        "file = open(\"demo.txt\", \"r\") \n",
        "for line in file: \n",
        "  print(line)"
      ]
    },
    {
      "cell_type": "markdown",
      "metadata": {
        "colab_type": "text",
        "id": "a-A7pM4NRjcs"
      },
      "source": [
        "**Writing a Text File - write mode**\n",
        "\n",
        "---\n"
      ]
    },
    {
      "cell_type": "code",
      "execution_count": 0,
      "metadata": {
        "colab": {},
        "colab_type": "code",
        "id": "7aJ_HP1GRYwh"
      },
      "outputs": [],
      "source": [
        "file = open(\"demo.txt\", \"w\")\n",
        " \n",
        "file.write(\"This is a test\") \n",
        "file.write(\"To add more lines.\")"
      ]
    },
    {
      "cell_type": "code",
      "execution_count": null,
      "metadata": {},
      "outputs": [],
      "source": [
        "with open(\"demo.txt\", \"w\") as file:\n",
        "    file.write(\"Hello, world!\\n\")\n"
      ]
    },
    {
      "cell_type": "markdown",
      "metadata": {},
      "source": [
        "**Appending to Files - append mode**\n",
        "\n",
        "---\n"
      ]
    },
    {
      "cell_type": "code",
      "execution_count": null,
      "metadata": {},
      "outputs": [],
      "source": [
        "# Appending a single line\n",
        "with open(\"demo.txt\", \"a\") as file:\n",
        "    file.write(\"This is an appended line.\\n\")\n"
      ]
    },
    {
      "cell_type": "markdown",
      "metadata": {
        "colab_type": "text",
        "id": "ABHZl2weSh8u"
      },
      "source": [
        "**Closing A File In Python:** \n",
        "\n",
        "---"
      ]
    },
    {
      "cell_type": "code",
      "execution_count": null,
      "metadata": {},
      "outputs": [],
      "source": [
        "file = open(\"demo.txt\", \"w\")\n",
        " \n",
        "file.write(\"This is a test\") \n",
        " \n",
        "file.close()"
      ]
    },
    {
      "cell_type": "markdown",
      "metadata": {},
      "source": [
        "## CSV File Operations:\n",
        "\n"
      ]
    },
    {
      "cell_type": "markdown",
      "metadata": {},
      "source": [
        "**Reading a CSV File:** \n",
        "\n",
        "---"
      ]
    },
    {
      "cell_type": "code",
      "execution_count": null,
      "metadata": {},
      "outputs": [],
      "source": [
        "import csv\n",
        "\n",
        "with open(\"example.csv\", mode=\"r\") as file:\n",
        "    csv_reader = csv.reader(file)\n",
        "    for row in csv_reader:\n",
        "        print(row)  # Output: List of each row's values\n"
      ]
    },
    {
      "cell_type": "markdown",
      "metadata": {},
      "source": [
        "**Writing to a CSV File:** \n",
        "\n",
        "---"
      ]
    },
    {
      "cell_type": "markdown",
      "metadata": {},
      "source": [
        "**Writing to a CSV File:** \n",
        "\n",
        "---"
      ]
    },
    {
      "cell_type": "code",
      "execution_count": null,
      "metadata": {},
      "outputs": [],
      "source": [
        "import csv\n",
        "\n",
        "data = [\n",
        "    [\"Name\", \"Age\", \"City\"],\n",
        "    [\"Alice\", 30, \"New York\"],\n",
        "    [\"Bob\", 25, \"Los Angeles\"],\n",
        "]\n",
        "\n",
        "with open(\"output.csv\", mode=\"w\", newline=\"\") as file:\n",
        "    csv_writer = csv.writer(file)\n",
        "    csv_writer.writerows(data)  # Write all rows at once\n"
      ]
    },
    {
      "cell_type": "code",
      "execution_count": null,
      "metadata": {},
      "outputs": [],
      "source": [
        "import csv\n",
        "\n",
        "# Writing structured data\n",
        "data = [\n",
        "    {\"Name\": \"Alice\", \"Age\": 30, \"City\": \"New York\"},\n",
        "    {\"Name\": \"Bob\", \"Age\": 25, \"City\": \"Los Angeles\"},\n",
        "]\n",
        "\n",
        "with open(\"structured.csv\", mode=\"w\", newline=\"\") as file:\n",
        "    fieldnames = [\"Name\", \"Age\", \"City\"]\n",
        "    writer = csv.DictWriter(file, fieldnames=fieldnames)\n",
        "    writer.writeheader()  # Write header row\n",
        "    writer.writerows(data)\n",
        "\n",
        "# Reading structured data\n",
        "with open(\"structured.csv\", mode=\"r\") as file:\n",
        "    reader = csv.DictReader(file)\n",
        "    for row in reader:\n",
        "        print(row)  # Output: Each row as a dictionary\n"
      ]
    },
    {
      "cell_type": "markdown",
      "metadata": {},
      "source": [
        "**Appending Data to a CSV File:** \n",
        "\n",
        "---"
      ]
    },
    {
      "cell_type": "code",
      "execution_count": null,
      "metadata": {},
      "outputs": [],
      "source": [
        "import csv\n",
        "\n",
        "new_data = [[\"Charlie\", 35, \"Chicago\"]]\n",
        "\n",
        "with open(\"output.csv\", mode=\"a\", newline=\"\") as file:\n",
        "    writer = csv.writer(file)\n",
        "    writer.writerows(new_data)\n"
      ]
    },
    {
      "cell_type": "markdown",
      "metadata": {},
      "source": [
        "## JSON File Operations:\n",
        "\n"
      ]
    },
    {
      "cell_type": "markdown",
      "metadata": {},
      "source": [
        "**Reading a JSON File:** \n",
        "\n",
        "---"
      ]
    },
    {
      "cell_type": "code",
      "execution_count": null,
      "metadata": {},
      "outputs": [],
      "source": [
        "import json\n",
        "\n",
        "# Assuming example.json contains: {\"name\": \"Alice\", \"age\": 30, \"city\": \"New York\"}\n",
        "with open(\"example.json\", mode=\"r\") as file:\n",
        "    data = json.load(file)  # Load JSON data as a Python dictionary\n",
        "    print(data)  # Output: {'name': 'Alice', 'age': 30, 'city': 'New York'}\n"
      ]
    },
    {
      "cell_type": "markdown",
      "metadata": {},
      "source": [
        "**Writing to a JSON File:** \n",
        "\n",
        "---"
      ]
    },
    {
      "cell_type": "code",
      "execution_count": null,
      "metadata": {},
      "outputs": [],
      "source": [
        "import json\n",
        "\n",
        "data = {\"name\": \"Alice\", \"age\": 30, \"city\": \"New York\"}\n",
        "\n",
        "with open(\"output.json\", mode=\"w\") as file:\n",
        "    json.dump(data, file, indent=4)  # Pretty-print with indentation\n"
      ]
    },
    {
      "cell_type": "markdown",
      "metadata": {},
      "source": [
        "**Appending Data to a JSON File:** \n",
        "\n",
        "---"
      ]
    },
    {
      "cell_type": "code",
      "execution_count": null,
      "metadata": {},
      "outputs": [],
      "source": [
        "import json\n",
        "\n",
        "new_entry = {\"name\": \"Charlie\", \"age\": 35, \"city\": \"Chicago\"}\n",
        "\n",
        "# Read existing data\n",
        "with open(\"output.json\", mode=\"r\") as file:\n",
        "    data = json.load(file)\n",
        "\n",
        "# Append new entry\n",
        "if isinstance(data, list):  # Ensure it's a list before appending\n",
        "    data.append(new_entry)\n",
        "else:\n",
        "    data = [data, new_entry]\n",
        "\n",
        "# Write back to JSON file\n",
        "with open(\"output.json\", mode=\"w\") as file:\n",
        "    json.dump(data, file, indent=4)\n"
      ]
    },
    {
      "cell_type": "markdown",
      "metadata": {},
      "source": [
        "**Handling Nested JSON:** \n",
        "\n",
        "---"
      ]
    },
    {
      "cell_type": "code",
      "execution_count": null,
      "metadata": {},
      "outputs": [],
      "source": [
        "import json\n",
        "\n",
        "data = {\n",
        "    \"name\": \"Alice\",\n",
        "    \"age\": 30,\n",
        "    \"address\": {\n",
        "        \"street\": \"123 Main St\",\n",
        "        \"city\": \"New York\",\n",
        "        \"zipcode\": \"10001\"\n",
        "    },\n",
        "    \"skills\": [\"Python\", \"Machine Learning\", \"Data Science\"]\n",
        "}\n",
        "\n",
        "# Write nested JSON\n",
        "with open(\"nested.json\", mode=\"w\") as file:\n",
        "    json.dump(data, file, indent=4)\n",
        "\n",
        "# Read nested JSON\n",
        "with open(\"nested.json\", mode=\"r\") as file:\n",
        "    nested_data = json.load(file)\n",
        "    print(nested_data[\"address\"][\"city\"])  # Output: New York\n",
        "    print(nested_data[\"skills\"])          # Output: ['Python', 'Machine Learning', 'Data Science']\n"
      ]
    }
  ],
  "metadata": {
    "colab": {
      "name": "File_Operations.ipynb",
      "provenance": [],
      "version": "0.3.2"
    },
    "kernelspec": {
      "display_name": "Python 3",
      "language": "python",
      "name": "python3"
    },
    "language_info": {
      "codemirror_mode": {
        "name": "ipython",
        "version": 3
      },
      "file_extension": ".py",
      "mimetype": "text/x-python",
      "name": "python",
      "nbconvert_exporter": "python",
      "pygments_lexer": "ipython3",
      "version": "3.11.9"
    }
  },
  "nbformat": 4,
  "nbformat_minor": 0
}
