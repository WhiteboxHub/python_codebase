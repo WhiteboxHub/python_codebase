{
 "cells": [
  {
   "cell_type": "markdown",
   "metadata": {},
   "source": [
    "  ### operators\n",
    " operators are special symbols or keywords that perform operations on variables and values. They are essential for constructing expressions and implementing logic in your programs. Here's an overview of the different types of operators in Python, along with examples:\n",
    "\n",
    "1. Arithmetic Operators\n",
    "\n",
    "These operators perform basic mathematical operations:\n",
    "\n",
    "Addition (+): Adds two operands.\n",
    "\n",
    "Subtraction (-): Subtracts the second operand from the first.\n",
    "\n",
    "Multiplication (*): Multiplies two operands.\n",
    "\n",
    "Division (/): Divides the first operand by the second; returns a float.\n",
    "\n",
    "Floor Division (//): Divides the first operand by the second; returns the largest integer less than or equal to the result.\n",
    "\n",
    "Modulus (%): Returns the remainder of the division.\n",
    "\n",
    "Exponentiation (**): Raises the first operand to the power of the second.\n",
    "\n",
    "Example:"
   ]
  },
  {
   "cell_type": "code",
   "execution_count": null,
   "metadata": {},
   "outputs": [],
   "source": [
    "a = 10\n",
    "b = 3\n",
    "\n",
    "print(a + b)    # Output: 13\n",
    "print(a - b)    # Output: 7\n",
    "print(a * b)    # Output: 30\n",
    "print(a / b)    # Output: 3.3333333333333335\n",
    "print(a // b)   # Output: 3\n",
    "print(a % b)    # Output: 1\n",
    "print(a ** b)   # Output: 1000\n"
   ]
  },
  {
   "cell_type": "markdown",
   "metadata": {},
   "source": [
    "2. Assignment Operators\n",
    "\n",
    "These operators assign values to variables:\n",
    "\n",
    "=: Assigns the right-hand operand to the left-hand variable.\n",
    "\n",
    "+=: Adds the right-hand operand to the left-hand variable and assigns the result to the left-hand variable.\n",
    "\n",
    "-=: Subtracts the right-hand operand from the left-hand variable and assigns the result to the left-hand variable.\n",
    "\n",
    "*=: Multiplies the left-hand variable by the right-hand operand and assigns the result to the left-hand variable.\n",
    "\n",
    "/=: Divides the left-hand variable by the right-hand operand and assigns the result to the left-hand variable.\n",
    "\n",
    "//=: Performs floor division on the left-hand variable by the right-hand operand and assigns the result to the left-hand variable.\n",
    "\n",
    "%=: Takes the modulus of the left-hand variable by the right-hand operand and assigns the result to the left-hand variable.\n",
    "\n",
    "**=: Raises the left-hand variable to the power of the right-hand operand and assigns the result to the left-hand variable.\n",
    "\n",
    "Example:"
   ]
  },
  {
   "cell_type": "code",
   "execution_count": null,
   "metadata": {},
   "outputs": [],
   "source": [
    "# Initial assignment\n",
    "x = 10\n",
    "print(f'Initial value: x = {x}')  # Output: 10\n",
    "\n",
    "# Add and assign\n",
    "x += 5  # Equivalent to x = x + 5\n",
    "print(f'After x += 5: x = {x}')  # Output: 15\n",
    "\n",
    "# Subtract and assign\n",
    "x -= 3  # Equivalent to x = x - 3\n",
    "print(f'After x -= 3: x = {x}')  # Output: 12\n",
    "\n",
    "# Multiply and assign\n",
    "x *= 2  # Equivalent to x = x * 2\n",
    "print(f'After x *= 2: x = {x}')  # Output: 24\n",
    "\n",
    "# Divide and assign\n",
    "x /= 4  # Equivalent to x = x / 4\n",
    "print(f'After x /= 4: x = {x}')  # Output: 6.0\n",
    "\n",
    "# Floor divide and assign\n",
    "x //= 2  # Equivalent to x = x // 2\n",
    "print(f'After x //= 2: x = {x}')  # Output: 3.0\n",
    "\n",
    "# Modulus and assign\n",
    "x %= 2  # Equivalent to x = x % 2\n",
    "print(f'After x %= 2: x = {x}')  # Output: 1.0\n",
    "\n",
    "# Exponentiate and assign\n",
    "x **= 3  # Equivalent to x = x ** 3\n",
    "print(f'After x **= 3: x = {x}')  # Output: 1.0\n",
    "\n",
    "# Bitwise AND and assign\n",
    "x = 5  # Reset x to 5 (binary: 0101)\n",
    "x &= 3  # Equivalent to x = x & 3 (binary: 0011)\n",
    "print(f'After x &= 3: x = {x}')  # Output: 1\n",
    "\n",
    "# Bitwise OR and assign\n",
    "x |= 2  # Equivalent to x = x | 2 (binary: 0010)\n",
    "print(f'After x |= 2: x = {x}')  # Output: 3\n",
    "\n",
    "# Bitwise XOR and assign\n",
    "x ^= 1  # Equivalent to x = x ^ 1 (binary: 0001)\n",
    "print(f'After x ^= 1: x = {x}')  # Output: 2\n",
    "\n",
    "# Bitwise left shift and assign\n",
    "x <<= 2  # Equivalent to x = x << 2\n",
    "print(f'After x <<= 2: x = {x}')  # Output: 8\n",
    "\n",
    "# Bitwise right shift and assign\n",
    "x >>= 1  # Equivalent to x = x >> 1\n",
    "print(f'After x >>= 1: x = {x}')  # Output: 4\n"
   ]
  },
  {
   "cell_type": "markdown",
   "metadata": {},
   "source": [
    "3. Comparison Operators\n",
    "\n",
    "These operators compare two operands and return a Boolean value (True or False):\n",
    "\n",
    "Equal to (==): Returns True if both operands are equal.\n",
    "\n",
    "Not equal to (!=): Returns True if operands are not equal.\n",
    "\n",
    "Greater than (>): Returns True if the left operand is greater than the right.\n",
    "\n",
    "Less than (<): Returns True if the left operand is less than the right.\n",
    "\n",
    "Greater than or equal to (>=): Returns True if the left operand is greater than or equal to the right.\n",
    "\n",
    "Less than or equal to (<=): Returns True if the left operand is less than or equal to the right.\n",
    "\n",
    "Example:"
   ]
  },
  {
   "cell_type": "code",
   "execution_count": 2,
   "metadata": {},
   "outputs": [
    {
     "name": "stdout",
     "output_type": "stream",
     "text": [
      "False\n",
      "True\n",
      "True\n",
      "False\n",
      "True\n",
      "False\n"
     ]
    }
   ],
   "source": [
    "a = 5\n",
    "b = 3\n",
    "\n",
    "print(a == b)   # Output: False\n",
    "print(a != b)   # Output: True\n",
    "print(a > b)    # Output: True\n",
    "print(a < b)    # Output: False\n",
    "print(a >= b)   # Output: True\n",
    "print(a <= b)   # Output: False\n"
   ]
  },
  {
   "cell_type": "markdown",
   "metadata": {},
   "source": [
    "4. Logical Operators\n",
    "\n",
    "These operators are used to combine conditional statements:\n",
    "\n",
    "Logical AND (and): Returns True if both operands are true.\n",
    "\n",
    "Logical OR (or): Returns True if at least one of the operands is true.\n",
    "\n",
    "Logical NOT (not): Returns True if the operand is false.\n"
   ]
  },
  {
   "cell_type": "code",
   "execution_count": null,
   "metadata": {},
   "outputs": [],
   "source": [
    "x = True\n",
    "y = False\n",
    "\n",
    "print(x and y)  # Output: False\n",
    "print(x or y)   # Output: True\n",
    "print(not x)    # Output: False\n"
   ]
  },
  {
   "cell_type": "markdown",
   "metadata": {},
   "source": [
    "5. Bitwise Operators\n",
    "\n",
    "These operators perform bit-level operations on integers:\n",
    "\n",
    "Bitwise AND (&): Sets each bit to 1 if both bits are 1.\n",
    "\n",
    "Bitwise OR (|): Sets each bit to 1 if at least one of the bits is 1.\n",
    "\n",
    "Bitwise XOR (^): Sets each bit to 1 if only one of the bits is 1.\n",
    "\n",
    "Bitwise NOT (~): Inverts all the bits.\n",
    "\n",
    "Left Shift (<<): Shifts bits to the left by a specified number of positions.\n",
    "\n",
    "Right Shift (>>): Shifts bits to the right by a specified number of positions.\n",
    "\n",
    "Example:"
   ]
  },
  {
   "cell_type": "code",
   "execution_count": null,
   "metadata": {},
   "outputs": [],
   "source": [
    "a = 60        # 60 = 0011 1100 in binary\n",
    "b = 13        # 13 = 0000 1101 in binary\n",
    "\n",
    "print(a & b)  # Output: 12 (0000 1100)\n",
    "print(a | b)  # Output: 61 (0011 1101)\n",
    "print(a ^ b)  # Output: 49 (0011 0001)\n",
    "print(~a)     # Output: -61 (inverts all bits)\n",
    "print(a << 2) # Output: 240 (1111 0000)\n",
    "print(a >> 2) # Output: 15 (0000 1111)\n"
   ]
  },
  {
   "cell_type": "markdown",
   "metadata": {},
   "source": [
    "6. Identity Operators\n",
    "\n",
    "These operators check if two variables refer to the same object in memory:\n",
    "\n",
    "is: Returns True if both variables point to the same object.\n",
    "is not: Returns True if both variables do not point to"
   ]
  },
  {
   "cell_type": "code",
   "execution_count": 3,
   "metadata": {},
   "outputs": [
    {
     "name": "stdout",
     "output_type": "stream",
     "text": [
      "True\n",
      "False\n",
      "True\n",
      "True\n"
     ]
    }
   ],
   "source": [
    "a = [1, 2, 3]\n",
    "b = a\n",
    "c = [1, 2, 3]\n",
    "\n",
    "print(a is b)       # Output: True, since b references the same object as a\n",
    "print(a is c)       # Output: False, since c is a different object with the same content\n",
    "print(a == c)       # Output: True, since a and c have the same content\n",
    "print(a is not c)   # Output: True, since a and c are not the same object\n"
   ]
  },
  {
   "cell_type": "markdown",
   "metadata": {},
   "source": [
    "membership operators are used to test whether a value or variable is present within a sequence, such as a string, list, tuple, set, or dictionary. The two membership operators are:\n",
    "\n",
    "in: Returns True if the specified value is found in the sequence.\n",
    "\n",
    "not in: Returns True if the specified value is not found in the sequence.\n"
   ]
  },
  {
   "cell_type": "code",
   "execution_count": 5,
   "metadata": {},
   "outputs": [
    {
     "name": "stdout",
     "output_type": "stream",
     "text": [
      "True\n",
      "True\n",
      "True\n"
     ]
    }
   ],
   "source": [
    "fruits = ['apple', 'banana', 'cherry']\n",
    "print('banana' in fruits)  # Output: True\n",
    "\n",
    "\n",
    "text = \"Hello, world!\"\n",
    "print('Python' not in text)  # Output: True\n",
    "\n",
    "numbers = (1, 2, 3, 4, 5)\n",
    "print(10 not in numbers)  # Output: True"
   ]
  }
 ],
 "metadata": {
  "kernelspec": {
   "display_name": ".venv",
   "language": "python",
   "name": "python3"
  },
  "language_info": {
   "codemirror_mode": {
    "name": "ipython",
    "version": 3
   },
   "file_extension": ".py",
   "mimetype": "text/x-python",
   "name": "python",
   "nbconvert_exporter": "python",
   "pygments_lexer": "ipython3",
   "version": "3.13.0"
  }
 },
 "nbformat": 4,
 "nbformat_minor": 2
}
