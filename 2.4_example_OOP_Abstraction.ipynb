{
 "cells": [
  {
   "cell_type": "markdown",
   "metadata": {},
   "source": [
    "# Abstraction\n",
    "\n",
    "Abstraction is a fundamental concept in object-oriented programming (OOP) that involves simplifying complex systems by focusing on essential characteristics while concealing unnecessary details. This approach allows developers to manage complexity and enhance code modularity"
   ]
  },
  {
   "cell_type": "markdown",
   "metadata": {},
   "source": [
    "Implementing Abstraction in Python:\n",
    "\n",
    "In Python, abstraction is typically achieved using abstract classes and methods. An abstract class serves as a blueprint for other classes, containing abstract methods that must be implemented by its subclasses. The abc (Abstract Base Class) module in Python provides the necessary tools to define abstract classes and methods.\n",
    "\n",
    "Example:"
   ]
  },
  {
   "cell_type": "code",
   "execution_count": 1,
   "metadata": {},
   "outputs": [
    {
     "name": "stdout",
     "output_type": "stream",
     "text": [
      "Car engine started.\n",
      "Car engine stopped.\n",
      "Boat engine started.\n",
      "Boat engine stopped.\n"
     ]
    }
   ],
   "source": [
    "from abc import ABC, abstractmethod\n",
    "\n",
    "class Vehicle(ABC):\n",
    "    @abstractmethod\n",
    "    def start_engine(self):\n",
    "        pass\n",
    "\n",
    "    @abstractmethod\n",
    "    def stop_engine(self):\n",
    "        pass\n",
    "\n",
    "class Car(Vehicle):\n",
    "    def start_engine(self):\n",
    "        print(\"Car engine started.\")\n",
    "\n",
    "    def stop_engine(self):\n",
    "        print(\"Car engine stopped.\")\n",
    "\n",
    "class Boat(Vehicle):\n",
    "    def start_engine(self):\n",
    "        print(\"Boat engine started.\")\n",
    "\n",
    "    def stop_engine(self):\n",
    "        print(\"Boat engine stopped.\")\n",
    "\n",
    "# Usage\n",
    "car = Car()\n",
    "car.start_engine()  # Output: Car engine started.\n",
    "car.stop_engine()   # Output: Car engine stopped.\n",
    "\n",
    "boat = Boat()\n",
    "boat.start_engine()  # Output: Boat engine started.\n",
    "boat.stop_engine()   # Output: Boat engine stopped.\n"
   ]
  }
 ],
 "metadata": {
  "kernelspec": {
   "display_name": ".venv",
   "language": "python",
   "name": "python3"
  },
  "language_info": {
   "codemirror_mode": {
    "name": "ipython",
    "version": 3
   },
   "file_extension": ".py",
   "mimetype": "text/x-python",
   "name": "python",
   "nbconvert_exporter": "python",
   "pygments_lexer": "ipython3",
   "version": "3.13.0"
  }
 },
 "nbformat": 4,
 "nbformat_minor": 2
}
