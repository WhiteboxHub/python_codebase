{
 "cells": [
  {
   "cell_type": "markdown",
   "metadata": {},
   "source": [
    "# Metaclasses\n",
    "Metaclasses in Python are advanced constructs that define the behavior and structure of classes themselves, effectively acting as \"classes of classes.\" They allow developers to control class creation, modify class attributes, and implement custom behaviors during class definition.\n",
    "\n",
    "Understanding Metaclasses:\n",
    "\n",
    "In Python, every class is an instance of a metaclass, with type being the default metaclass. When you define a class using the class keyword, Python internally uses type to create the class. This means that type is a metaclass since it's a class whose instances are themselves classes.\n",
    "\n",
    "Creating Custom Metaclasses:\n",
    "\n",
    "To create a custom metaclass, you define a class that inherits from type. By overriding methods like __new__ and __init__, you can customize the class creation process.\n",
    "\n",
    "Example:"
   ]
  },
  {
   "cell_type": "code",
   "execution_count": 1,
   "metadata": {},
   "outputs": [
    {
     "name": "stdout",
     "output_type": "stream",
     "text": [
      "Creating class MyClass\n"
     ]
    }
   ],
   "source": [
    "# Define a custom metaclass\n",
    "class MyMeta(type):\n",
    "    def __new__(cls, name, bases, dct):\n",
    "        print(f'Creating class {name}')\n",
    "        return super().__new__(cls, name, bases, dct)\n",
    "\n",
    "# Use the custom metaclass in a class definition\n",
    "class MyClass(metaclass=MyMeta):\n",
    "    pass\n",
    "\n",
    "# Output: Creating class MyClass\n"
   ]
  },
  {
   "cell_type": "markdown",
   "metadata": {},
   "source": [
    "In this example, MyMeta is a metaclass that prints a message whenever a new class is created. When MyClass is defined with MyMeta as its metaclass, the message is displayed, indicating the class creation process.\n",
    "\n",
    "Practical Applications of Metaclasses:\n",
    "\n",
    "Metaclasses are particularly useful in scenarios requiring advanced customization of class behavior, such as:\n",
    "\n",
    "Enforcing Coding Standards: Ensuring that classes adhere to specific naming conventions or contain certain attributes.\n",
    "\n",
    "Automatic Attribute Addition: Automatically adding or modifying class attributes during class creation.\n",
    "\n",
    "Framework Development: Many frameworks, including Django and SQLAlchemy, utilize metaclasses to define declarative syntaxes and manage class behaviors. \n",
    "\n",
    "\n",
    "Example: Enforcing Attribute Naming Conventions"
   ]
  },
  {
   "cell_type": "code",
   "execution_count": 2,
   "metadata": {},
   "outputs": [
    {
     "ename": "ValueError",
     "evalue": "Attribute name InvalidAttribute is not lowercase",
     "output_type": "error",
     "traceback": [
      "\u001b[0;31m---------------------------------------------------------------------------\u001b[0m",
      "\u001b[0;31mValueError\u001b[0m                                Traceback (most recent call last)",
      "Cell \u001b[0;32mIn[2], line 8\u001b[0m\n\u001b[1;32m      5\u001b[0m                 \u001b[38;5;28;01mraise\u001b[39;00m \u001b[38;5;167;01mValueError\u001b[39;00m(\u001b[38;5;124mf\u001b[39m\u001b[38;5;124m'\u001b[39m\u001b[38;5;124mAttribute name \u001b[39m\u001b[38;5;132;01m{\u001b[39;00mattr_name\u001b[38;5;132;01m}\u001b[39;00m\u001b[38;5;124m is not lowercase\u001b[39m\u001b[38;5;124m'\u001b[39m)\n\u001b[1;32m      6\u001b[0m         \u001b[38;5;28;01mreturn\u001b[39;00m \u001b[38;5;28msuper\u001b[39m()\u001b[38;5;241m.\u001b[39m\u001b[38;5;21m__new__\u001b[39m(\u001b[38;5;28mcls\u001b[39m, name, bases, dct)\n\u001b[0;32m----> 8\u001b[0m \u001b[38;5;28;43;01mclass\u001b[39;49;00m\u001b[43m \u001b[49m\u001b[38;5;21;43;01mMyClass\u001b[39;49;00m\u001b[43m(\u001b[49m\u001b[43mmetaclass\u001b[49m\u001b[38;5;241;43m=\u001b[39;49m\u001b[43mAttributeNameEnforcer\u001b[49m\u001b[43m)\u001b[49m\u001b[43m:\u001b[49m\n\u001b[1;32m      9\u001b[0m \u001b[43m    \u001b[49m\u001b[43mvalid_attribute\u001b[49m\u001b[43m \u001b[49m\u001b[38;5;241;43m=\u001b[39;49m\u001b[43m \u001b[49m\u001b[38;5;241;43m42\u001b[39;49m\n\u001b[1;32m     10\u001b[0m \u001b[43m    \u001b[49m\u001b[43mInvalidAttribute\u001b[49m\u001b[43m \u001b[49m\u001b[38;5;241;43m=\u001b[39;49m\u001b[43m \u001b[49m\u001b[38;5;241;43m99\u001b[39;49m  \u001b[38;5;66;03m# This will raise a ValueError\u001b[39;00m\n",
      "Cell \u001b[0;32mIn[2], line 5\u001b[0m, in \u001b[0;36mAttributeNameEnforcer.__new__\u001b[0;34m(cls, name, bases, dct)\u001b[0m\n\u001b[1;32m      3\u001b[0m \u001b[38;5;28;01mfor\u001b[39;00m attr_name \u001b[38;5;129;01min\u001b[39;00m dct:\n\u001b[1;32m      4\u001b[0m     \u001b[38;5;28;01mif\u001b[39;00m \u001b[38;5;129;01mnot\u001b[39;00m attr_name\u001b[38;5;241m.\u001b[39mislower():\n\u001b[0;32m----> 5\u001b[0m         \u001b[38;5;28;01mraise\u001b[39;00m \u001b[38;5;167;01mValueError\u001b[39;00m(\u001b[38;5;124mf\u001b[39m\u001b[38;5;124m'\u001b[39m\u001b[38;5;124mAttribute name \u001b[39m\u001b[38;5;132;01m{\u001b[39;00mattr_name\u001b[38;5;132;01m}\u001b[39;00m\u001b[38;5;124m is not lowercase\u001b[39m\u001b[38;5;124m'\u001b[39m)\n\u001b[1;32m      6\u001b[0m \u001b[38;5;28;01mreturn\u001b[39;00m \u001b[38;5;28msuper\u001b[39m()\u001b[38;5;241m.\u001b[39m\u001b[38;5;21m__new__\u001b[39m(\u001b[38;5;28mcls\u001b[39m, name, bases, dct)\n",
      "\u001b[0;31mValueError\u001b[0m: Attribute name InvalidAttribute is not lowercase"
     ]
    }
   ],
   "source": [
    "class AttributeNameEnforcer(type):\n",
    "    def __new__(cls, name, bases, dct):\n",
    "        for attr_name in dct:\n",
    "            if not attr_name.islower():\n",
    "                raise ValueError(f'Attribute name {attr_name} is not lowercase')\n",
    "        return super().__new__(cls, name, bases, dct)\n",
    "\n",
    "class MyClass(metaclass=AttributeNameEnforcer):\n",
    "    valid_attribute = 42\n",
    "    InvalidAttribute = 99  # This will raise a ValueError\n"
   ]
  },
  {
   "cell_type": "markdown",
   "metadata": {},
   "source": [
    "In this example, the AttributeNameEnforcer metaclass checks that all attribute names in MyClass are lowercase. Defining an attribute with an uppercase name raises a ValueError, enforcing a naming convention.\n",
    "\n",
    "Considerations When Using Metaclasses:\n",
    "\n",
    "Complexity: Metaclasses can introduce complexity into your codebase. It's essential to use them judiciously and document their behavior clearly.\n",
    "\n",
    "Readability: Overusing metaclasses can make code harder to understand for those unfamiliar with the concept. Ensure that their use is justified and enhances the code's functionality."
   ]
  }
 ],
 "metadata": {
  "kernelspec": {
   "display_name": ".venv",
   "language": "python",
   "name": "python3"
  },
  "language_info": {
   "codemirror_mode": {
    "name": "ipython",
    "version": 3
   },
   "file_extension": ".py",
   "mimetype": "text/x-python",
   "name": "python",
   "nbconvert_exporter": "python",
   "pygments_lexer": "ipython3",
   "version": "3.13.0"
  }
 },
 "nbformat": 4,
 "nbformat_minor": 2
}
