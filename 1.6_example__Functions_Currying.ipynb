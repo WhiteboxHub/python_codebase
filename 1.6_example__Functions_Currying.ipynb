{
  "cells": [
    {
      "cell_type": "markdown",
      "metadata": {},
      "source": [
        "**Currying**\n",
        "\n",
        "Currying is a functional programming technique where a function that takes multiple arguments is transformed into a sequence of functions, each taking a single argument. Instead of calling a function with all arguments at once, you call it incrementally by passing one argument at a time.\n",
        "\n",
        "---\n",
        "\n",
        "Implementation of Currying:\n",
        "1. Manual Currying:\n",
        "    - Python doesn’t support currying natively, but you can implement it manually using nested functions (as shown below).\n",
        "\n",
        "---\n"
      ]
    },
    {
      "cell_type": "code",
      "execution_count": null,
      "metadata": {},
      "outputs": [],
      "source": [
        "def add(a):\n",
        "    def inner(b):\n",
        "        return a + b\n",
        "    return inner\n",
        "result = add(3)(5)  # First call `add(3)` returns a function; calling it with `5` gives the sum.\n",
        "print(result)"
      ]
    },
    {
      "cell_type": "markdown",
      "metadata": {},
      "source": [
        "2. Using functools.partial:\n",
        "    - Python's functools.partial provides a convenient way to partially apply arguments to a function. It's not true currying but achieves a similar result.\n",
        "\n",
        " ---"
      ]
    },
    {
      "cell_type": "code",
      "execution_count": null,
      "metadata": {},
      "outputs": [],
      "source": [
        "from functools import partial\n",
        "\n",
        "def multiply(a, b, c):\n",
        "    return a * b * c\n",
        "\n",
        "partial_multiply = partial(multiply, 2)  # Fix `a=2`\n",
        "print(partial_multiply(3, 4))  "
      ]
    },
    {
      "cell_type": "markdown",
      "metadata": {},
      "source": [
        "Easy Example: Simple Addition\n",
        "\n",
        "Let's create a curried function for addition.\n",
        "\n",
        "---"
      ]
    },
    {
      "cell_type": "code",
      "execution_count": null,
      "metadata": {},
      "outputs": [],
      "source": [
        "def curried_add(a):\n",
        "    def add_b(b):\n",
        "        return a + b\n",
        "    return add_b\n",
        "\n",
        "# Usage\n",
        "add_5 = curried_add(5)  # Fixes the first argument `a=5`\n",
        "print(add_5(10)) \n",
        "print(curried_add(3)(7)) \n"
      ]
    },
    {
      "cell_type": "markdown",
      "metadata": {},
      "source": [
        "Explanation:\n",
        " - The curried_add function takes the first argument a.\n",
        " - It returns a new function add_b, which takes the second argument b and computes the sum.\n",
        "\n",
        "---"
      ]
    },
    {
      "cell_type": "markdown",
      "metadata": {},
      "source": [
        " Currying a Multiplication Function\n",
        "\n",
        "Let’s create a curried function for multiplication with three arguments.\n",
        "\n",
        "---"
      ]
    },
    {
      "cell_type": "code",
      "execution_count": null,
      "metadata": {},
      "outputs": [],
      "source": [
        "def curried_multiply(a):\n",
        "    def multiply_b(b):\n",
        "        def multiply_c(c):\n",
        "            return a * b * c\n",
        "        return multiply_c\n",
        "    return multiply_b\n",
        "\n",
        "# Usage\n",
        "multiply_2 = curried_multiply(2)  # Fixes `a=2`\n",
        "multiply_2_and_3 = multiply_2(3)  # Fixes `b=3`\n",
        "result = multiply_2_and_3(4)  # Uses `c=4`\n",
        "print(result)  \n",
        "\n",
        "# Alternatively, chain calls directly\n",
        "print(curried_multiply(2)(3)(4))  \n"
      ]
    },
    {
      "cell_type": "markdown",
      "metadata": {},
      "source": [
        "Explanation:\n",
        "\n",
        " - The curried_multiply function returns a series of nested functions.\n",
        " - Each function takes one argument (a, b, or c) and returns another function until all arguments are provided.\n",
        " - Once all arguments are provided, the final result (a * b * c) is computed."
      ]
    }
  ],
  "metadata": {
    "colab": {
      "collapsed_sections": [],
      "name": "Python_Functions.ipynb",
      "provenance": [],
      "version": "0.3.2"
    },
    "kernelspec": {
      "display_name": "Python 3",
      "name": "python3"
    },
    "language_info": {
      "codemirror_mode": {
        "name": "ipython",
        "version": 3
      },
      "file_extension": ".py",
      "mimetype": "text/x-python",
      "name": "python",
      "nbconvert_exporter": "python",
      "pygments_lexer": "ipython3",
      "version": "3.13.1"
    }
  },
  "nbformat": 4,
  "nbformat_minor": 0
}
