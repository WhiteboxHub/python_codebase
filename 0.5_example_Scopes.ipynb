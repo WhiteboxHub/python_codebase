{
 "cells": [
  {
   "cell_type": "markdown",
   "metadata": {},
   "source": [
    "## scope \n",
    "scope refers to the region of a program where a particular variable or name is accessible. Understanding scope is crucial for writing clear and bug-free code, as it determines the visibility and lifetime of variables.\n",
    "\n",
    "Levels of Scope in Python\n",
    "\n",
    "Python primarily defines four levels of scope, often remembered by the acronym LEGB:\n",
    "\n",
    "#### Local (L): Names assigned within a function.\n",
    "#### Enclosing (E): Names in the local scope of any enclosing functions (applicable for nested functions).\n",
    "#### Global (G): Names assigned at the top level of a module or declared global within a function.\n",
    "#### Built-in (B): Names preassigned in Python's built-in namespace (e.g., len, open).\n"
   ]
  },
  {
   "cell_type": "markdown",
   "metadata": {},
   "source": [
    "Examples Illustrating Scope\n",
    "\n",
    "Global and Local Scope:\n",
    "\n",
    "\n"
   ]
  },
  {
   "cell_type": "code",
   "execution_count": null,
   "metadata": {},
   "outputs": [],
   "source": [
    "x = \"global\"\n",
    "\n",
    "def my_function():\n",
    "    x = \"local\"\n",
    "    print(x)  # Outputs: local\n",
    "\n",
    "my_function()\n",
    "print(x)  # Outputs: global\n"
   ]
  },
  {
   "cell_type": "markdown",
   "metadata": {},
   "source": [
    "Enclosing Scope (Nested Functions):"
   ]
  },
  {
   "cell_type": "code",
   "execution_count": null,
   "metadata": {},
   "outputs": [],
   "source": [
    "def outer_function():\n",
    "    x = \"enclosing\"\n",
    "\n",
    "    def inner_function():\n",
    "        print(x)  # Outputs: enclosing\n",
    "\n",
    "    inner_function()\n",
    "\n",
    "outer_function()\n"
   ]
  },
  {
   "cell_type": "markdown",
   "metadata": {},
   "source": [
    "Modifying Variables in Different Scopes\n",
    "\n",
    "Global Variables:\n",
    "\n",
    "To modify a global variable inside a function, use the global keyword:\n",
    "\n"
   ]
  },
  {
   "cell_type": "code",
   "execution_count": null,
   "metadata": {},
   "outputs": [],
   "source": [
    "x = \"global\"\n",
    "\n",
    "def my_function():\n",
    "    global x\n",
    "    x = \"modified\"\n",
    "    print(x)  # Outputs: modified\n",
    "\n",
    "my_function()\n",
    "print(x)  # Outputs: modified\n"
   ]
  },
  {
   "cell_type": "markdown",
   "metadata": {},
   "source": [
    "Enclosing Variables:\n",
    "\n",
    "In Python 3.x, to modify a variable in an enclosing (non-global) scope, use the nonlocal keyword:"
   ]
  },
  {
   "cell_type": "code",
   "execution_count": null,
   "metadata": {},
   "outputs": [],
   "source": [
    "def outer_function():\n",
    "    x = \"enclosing\"\n",
    "\n",
    "    def inner_function():\n",
    "        nonlocal x\n",
    "        x = \"modified\"\n",
    "        print(x)  # Outputs: modified\n",
    "\n",
    "    inner_function()\n",
    "    print(x)  # Outputs: modified\n",
    "\n",
    "outer_function()\n"
   ]
  },
  {
   "cell_type": "markdown",
   "metadata": {},
   "source": [
    "Why Understanding Scope Matters\n",
    "\n",
    "Proper understanding of scope helps in:\n",
    "\n",
    "Avoiding Name Conflicts: Preventing unintended interactions between different parts of the code.\n",
    "Memory Management: Ensuring variables are deleted when no longer in use, freeing up resources.\n",
    "Code Readability: Making it clear where variables are defined and can be modified.\n"
   ]
  }
 ],
 "metadata": {
  "kernelspec": {
   "display_name": ".venv",
   "language": "python",
   "name": "python3"
  },
  "language_info": {
   "name": "python",
   "version": "3.13.0"
  }
 },
 "nbformat": 4,
 "nbformat_minor": 2
}
