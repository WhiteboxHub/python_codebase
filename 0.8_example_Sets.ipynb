{
 "cells": [
  {
   "cell_type": "markdown",
   "metadata": {},
   "source": [
    "# Set\n",
    "a set is an unordered collection of unique elements. Sets are mutable, meaning you can add or remove elements after creation. They are commonly used to perform mathematical set operations like union, intersection, and difference.\n",
    "\n",
    "Creating a Set:\n",
    "\n",
    "You can create a set by placing a comma-separated sequence of elements within curly braces {} or by using the set() constructor."
   ]
  },
  {
   "cell_type": "code",
   "execution_count": 1,
   "metadata": {},
   "outputs": [
    {
     "name": "stdout",
     "output_type": "stream",
     "text": [
      "{'apple', 'cherry', 'banana'}\n",
      "set()\n"
     ]
    }
   ],
   "source": [
    "# Creating a set with multiple elements\n",
    "fruits = {'apple', 'banana', 'cherry'}\n",
    "print(fruits)  # Output: {'apple', 'banana', 'cherry'}\n",
    "\n",
    "# Creating an empty set\n",
    "empty_set = set()\n",
    "print(empty_set)  # Output: set()\n"
   ]
  },
  {
   "cell_type": "markdown",
   "metadata": {},
   "source": [
    "### Adding Elements to a Set:\n",
    "\n",
    "Use the add() method to add a single element to a set."
   ]
  },
  {
   "cell_type": "code",
   "execution_count": 2,
   "metadata": {},
   "outputs": [
    {
     "name": "stdout",
     "output_type": "stream",
     "text": [
      "{'apple', 'cherry', 'banana', 'date'}\n"
     ]
    }
   ],
   "source": [
    "fruits.add('date')\n",
    "print(fruits)  # Output: {'apple', 'banana', 'cherry', 'date'}\n"
   ]
  },
  {
   "cell_type": "markdown",
   "metadata": {},
   "source": [
    "### Removing Elements from a Set:\n",
    "\n",
    "You can remove elements using the remove() or discard() methods.\n",
    "\n",
    "remove(element): Removes the specified element from the set. If the element is not found, it raises a KeyError.\n",
    "\n",
    "discard(element): Removes the specified element from the set if it exists. If the element is not found, it does nothing.\n",
    "\n"
   ]
  },
  {
   "cell_type": "code",
   "execution_count": null,
   "metadata": {},
   "outputs": [],
   "source": [
    "fruits.remove('banana')\n",
    "print(fruits)  # Output: {'apple', 'cherry', 'date'}\n",
    "\n",
    "fruits.discard('banana')  # Does nothing since 'banana' is not in the set\n",
    "print(fruits)  # Output: {'apple', 'cherry', 'date'}\n"
   ]
  },
  {
   "cell_type": "markdown",
   "metadata": {},
   "source": [
    "### Removing an Arbitrary Element:\n",
    "\n",
    "Use the pop() method to remove and return an arbitrary element from the set.\n"
   ]
  },
  {
   "cell_type": "code",
   "execution_count": null,
   "metadata": {},
   "outputs": [],
   "source": [
    "element = fruits.pop()\n",
    "print(element)  # Output: (an arbitrary element from the set)\n",
    "print(fruits)    # Output: (set without the removed element)\n"
   ]
  },
  {
   "cell_type": "markdown",
   "metadata": {},
   "source": [
    "### Clearing a Set:\n",
    "\n",
    "Use the clear() method to remove all elements from the set."
   ]
  },
  {
   "cell_type": "code",
   "execution_count": 4,
   "metadata": {},
   "outputs": [
    {
     "name": "stdout",
     "output_type": "stream",
     "text": [
      "set()\n"
     ]
    }
   ],
   "source": [
    "fruits.clear()\n",
    "print(fruits)  # Output: set()\n"
   ]
  },
  {
   "cell_type": "markdown",
   "metadata": {},
   "source": [
    "### Copying a Set:\n",
    "\n",
    "Use the copy() method to create a shallow copy of the set."
   ]
  },
  {
   "cell_type": "code",
   "execution_count": 3,
   "metadata": {},
   "outputs": [
    {
     "name": "stdout",
     "output_type": "stream",
     "text": [
      "{'apple', 'cherry', 'banana', 'date'}\n"
     ]
    }
   ],
   "source": [
    "fruits_copy = fruits.copy()\n",
    "print(fruits_copy)  # Output: set()\n"
   ]
  },
  {
   "cell_type": "markdown",
   "metadata": {},
   "source": [
    "### Set Operations:\n",
    "\n",
    "Sets support various mathematical operations:\n",
    "\n",
    "Union: Combines elements from two sets.\n",
    "\n",
    "Intersection: Retrieves elements common to both sets.\n",
    "\n",
    "Difference: Retrieves elements present in the first set but not in the second.\n",
    "\n",
    "Symmetric Difference: Retrieves elements present in either set, but not in both."
   ]
  },
  {
   "cell_type": "code",
   "execution_count": 5,
   "metadata": {},
   "outputs": [
    {
     "name": "stdout",
     "output_type": "stream",
     "text": [
      "{1, 2, 3, 4, 5}\n",
      "{3}\n",
      "{1, 2}\n",
      "{1, 2, 4, 5}\n"
     ]
    }
   ],
   "source": [
    "set1 = {1, 2, 3}\n",
    "set2 = {3, 4, 5}\n",
    "\n",
    "# Union\n",
    "union_set = set1 | set2\n",
    "print(union_set)  # Output: {1, 2, 3, 4, 5}\n",
    "\n",
    "# Intersection\n",
    "intersection_set = set1 & set2\n",
    "print(intersection_set)  # Output: {3}\n",
    "\n",
    "# Difference\n",
    "difference_set = set1 - set2\n",
    "print(difference_set)  # Output: {1, 2}\n",
    "\n",
    "# Symmetric Difference\n",
    "symmetric_difference_set = set1 ^ set2\n",
    "print(symmetric_difference_set)  # Output: {1, 2, 4, 5}\n"
   ]
  },
  {
   "cell_type": "markdown",
   "metadata": {},
   "source": [
    "### Subset and Superset Checks:\n",
    "\n",
    "issubset(other_set): Returns True if all elements of the set are in other_set.\n",
    "\n",
    "issuperset(other_set): Returns True if all elements of other_set are in the set.\n"
   ]
  },
  {
   "cell_type": "code",
   "execution_count": null,
   "metadata": {},
   "outputs": [],
   "source": [
    "set1 = {1, 2, 3}\n",
    "set2 = {1, 2}\n",
    "\n",
    "print(set2.issubset(set1))  # Output: True\n",
    "print(set1.issuperset(set2))  # Output: True\n"
   ]
  },
  {
   "cell_type": "markdown",
   "metadata": {},
   "source": [
    "### Disjoint Sets:\n",
    "\n",
    "isdisjoint(other_set): Returns True if the set has no elements in common with other_set."
   ]
  },
  {
   "cell_type": "code",
   "execution_count": null,
   "metadata": {},
   "outputs": [],
   "source": [
    "set1 = {1, 2, 3}\n",
    "set2 = {4, 5, 6}\n",
    "\n",
    "print(set1.isdisjoint(set2))  # Output: True\n"
   ]
  },
  {
   "cell_type": "markdown",
   "metadata": {},
   "source": [
    "### Set Length:\n",
    "\n",
    "Use the len() function to find the number of elements in a set.\n",
    "\n",
    "\n"
   ]
  },
  {
   "cell_type": "code",
   "execution_count": null,
   "metadata": {},
   "outputs": [],
   "source": [
    "print(len(fruits))  # Output: 0\n"
   ]
  },
  {
   "cell_type": "markdown",
   "metadata": {},
   "source": [
    "### Set Comprehensions:\n",
    "\n",
    "Sets support comprehensions for creating new sets from existing iterables.\n",
    "\n"
   ]
  },
  {
   "cell_type": "code",
   "execution_count": null,
   "metadata": {},
   "outputs": [],
   "source": [
    "squares = {x**2 for x in range(5)}\n",
    "print(squares)  # Output: {0, 1, 4, 9, 16}\n"
   ]
  }
 ],
 "metadata": {
  "kernelspec": {
   "display_name": ".venv",
   "language": "python",
   "name": "python3"
  },
  "language_info": {
   "codemirror_mode": {
    "name": "ipython",
    "version": 3
   },
   "file_extension": ".py",
   "mimetype": "text/x-python",
   "name": "python",
   "nbconvert_exporter": "python",
   "pygments_lexer": "ipython3",
   "version": "3.13.0"
  }
 },
 "nbformat": 4,
 "nbformat_minor": 2
}
