{
 "cells": [
  {
   "cell_type": "markdown",
   "metadata": {},
   "source": [
    "# Encapsulation\n",
    "\n",
    "Encapsulation is a fundamental concept in object-oriented programming (OOP) that involves bundling data (attributes) and methods (functions) that operate on that data into a single unit, typically a class. This approach restricts direct access to some components, allowing for controlled interaction with the object's internal state. Encapsulation enhances data security, promotes code modularity, and simplifies maintenance"
   ]
  },
  {
   "cell_type": "markdown",
   "metadata": {},
   "source": [
    "In Python, encapsulation is achieved by defining classes with private and public attributes and methods. While Python does not enforce strict access control, it uses naming conventions to indicate the intended visibility of class members:\n",
    "\n",
    "Public Members: Attributes and methods accessible from outside the class.\n",
    "\n",
    "Protected Members: Attributes and methods intended for internal use, indicated by a single underscore prefix (e.g., _protected).\n",
    "\n",
    "Private Members: Attributes and methods intended to be private, indicated by a double underscore prefix (e.g., __private).\n"
   ]
  },
  {
   "cell_type": "code",
   "execution_count": null,
   "metadata": {},
   "outputs": [],
   "source": [
    "class Account:\n",
    "    def __init__(self, owner, balance):\n",
    "        self.owner = owner        # Public attribute\n",
    "        self.__balance = balance  # Private attribute\n",
    "\n",
    "    def deposit(self, amount):\n",
    "        if amount > 0:\n",
    "            self.__balance += amount\n",
    "        else:\n",
    "            print(\"Deposit amount must be positive.\")\n",
    "\n",
    "    def withdraw(self, amount):\n",
    "        if 0 < amount <= self.__balance:\n",
    "            self.__balance -= amount\n",
    "        else:\n",
    "            print(\"Invalid withdrawal amount.\")\n",
    "\n",
    "    def get_balance(self):\n",
    "        return self.__balance\n",
    "\n",
    "# Usage\n",
    "acc = Account(\"John Doe\", 1000)\n",
    "print(acc.owner)           # Output: John Doe\n",
    "print(acc.get_balance())   # Output: 1000\n",
    "\n",
    "acc.deposit(500)\n",
    "print(acc.get_balance())   # Output: 1500\n",
    "\n",
    "acc.withdraw(200)\n",
    "print(acc.get_balance())   # Output: 1300\n",
    "\n",
    "# Direct access to private attribute will raise an AttributeError\n",
    "# print(acc.__balance)     # Uncommenting this line will raise an AttributeError\n"
   ]
  }
 ],
 "metadata": {
  "kernelspec": {
   "display_name": ".venv",
   "language": "python",
   "name": "python3"
  },
  "language_info": {
   "name": "python",
   "version": "3.13.0"
  }
 },
 "nbformat": 4,
 "nbformat_minor": 2
}
