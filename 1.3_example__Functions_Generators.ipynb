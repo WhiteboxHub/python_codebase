{
  "cells": [
    {
      "cell_type": "markdown",
      "metadata": {},
      "source": [
        "\n",
        "**Generators in Python**\n",
        "\n",
        "A generator is a special type of iterator that allows you to iterate over a sequence of values lazily\n",
        "\n",
        "---"
      ]
    },
    {
      "cell_type": "code",
      "execution_count": null,
      "metadata": {},
      "outputs": [],
      "source": [
        "# A simple generator that yields numbers\n",
        "def count_up_to(n):\n",
        "    count = 1\n",
        "    while count <= n:\n",
        "        yield count\n",
        "        count += 1\n",
        "\n",
        "gen = count_up_to(3)\n",
        "for num in gen:\n",
        "    print(num)\n"
      ]
    },
    {
      "cell_type": "code",
      "execution_count": null,
      "metadata": {},
      "outputs": [],
      "source": [
        "# A generator for even numbers\n",
        "def even_numbers(limit):\n",
        "    num = 0\n",
        "    while num <= limit:\n",
        "        yield num\n",
        "        num += 2\n",
        "\n",
        "even_gen = even_numbers(6)\n",
        "for num in even_gen:\n",
        "    print(num)"
      ]
    },
    {
      "cell_type": "code",
      "execution_count": null,
      "metadata": {},
      "outputs": [],
      "source": [
        "# Fibonacci sequence generator\n",
        "def fibonacci(n):\n",
        "    a, b = 0, 1\n",
        "    while n > 0:\n",
        "        yield a\n",
        "        a, b = b, a + b\n",
        "        n -= 1\n",
        "\n",
        "fib_gen = fibonacci(5)\n",
        "for num in fib_gen:\n",
        "    print(num)"
      ]
    }
  ],
  "metadata": {
    "colab": {
      "collapsed_sections": [],
      "name": "Python_Functions.ipynb",
      "provenance": [],
      "version": "0.3.2"
    },
    "kernelspec": {
      "display_name": "Python 3",
      "name": "python3"
    },
    "language_info": {
      "codemirror_mode": {
        "name": "ipython",
        "version": 3
      },
      "file_extension": ".py",
      "mimetype": "text/x-python",
      "name": "python",
      "nbconvert_exporter": "python",
      "pygments_lexer": "ipython3",
      "version": "3.11.9"
    }
  },
  "nbformat": 4,
  "nbformat_minor": 0
}
