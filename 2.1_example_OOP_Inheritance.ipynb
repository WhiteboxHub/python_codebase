{
 "cells": [
  {
   "cell_type": "markdown",
   "metadata": {},
   "source": [
    "# Inheritance\n",
    "Inheritance in Python is a fundamental concept in object-oriented programming (OOP) that allows a class to inherit attributes and methods from another class. This promotes code reuse and establishes a hierarchical relationship between classes.\n",
    "\n",
    "### 1. Basic Inheritance:\n",
    "\n",
    "In Python, a class can inherit from another class by specifying the parent class in parentheses after the child class name."
   ]
  },
  {
   "cell_type": "code",
   "execution_count": 1,
   "metadata": {},
   "outputs": [
    {
     "name": "stdout",
     "output_type": "stream",
     "text": [
      "Value: 10\n"
     ]
    }
   ],
   "source": [
    "class Parent:\n",
    "    def __init__(self):\n",
    "        self.value = 10\n",
    "\n",
    "    def display(self):\n",
    "        print(f\"Value: {self.value}\")\n",
    "\n",
    "class Child(Parent):\n",
    "    pass\n",
    "\n",
    "child_instance = Child()\n",
    "child_instance.display()  # Output: Value: 10\n"
   ]
  },
  {
   "cell_type": "markdown",
   "metadata": {},
   "source": [
    "### 2. Overriding Methods:\n",
    "\n",
    "A child class can override methods of its parent class to provide specific implementations."
   ]
  },
  {
   "cell_type": "code",
   "execution_count": null,
   "metadata": {},
   "outputs": [],
   "source": [
    "class Parent:\n",
    "    def speak(self):\n",
    "        print(\"Speaking from Parent\")\n",
    "\n",
    "class Child(Parent):\n",
    "    def speak(self):\n",
    "        print(\"Speaking from Child\")\n",
    "\n",
    "child_instance = Child()\n",
    "child_instance.speak()  # Output: Speaking from Child\n"
   ]
  },
  {
   "cell_type": "markdown",
   "metadata": {},
   "source": [
    "### 3. Using super() to Access Parent Methods:\n",
    "\n",
    "The super() function allows a child class to call methods from its parent class."
   ]
  },
  {
   "cell_type": "code",
   "execution_count": null,
   "metadata": {},
   "outputs": [],
   "source": [
    "class Parent:\n",
    "    def __init__(self):\n",
    "        self.value = 10\n",
    "\n",
    "    def display(self):\n",
    "        print(f\"Value: {self.value}\")\n",
    "\n",
    "class Child(Parent):\n",
    "    def __init__(self):\n",
    "        super().__init__()\n",
    "        self.extra = 20\n",
    "\n",
    "    def display(self):\n",
    "        super().display()\n",
    "        print(f\"Extra: {self.extra}\")\n",
    "\n",
    "child_instance = Child()\n",
    "child_instance.display()\n",
    "# Output:\n",
    "# Value: 10\n",
    "# Extra: 20\n"
   ]
  },
  {
   "cell_type": "markdown",
   "metadata": {},
   "source": [
    "### 4. Multiple Inheritance:\n",
    "\n",
    "Python supports multiple inheritance, where a class can inherit from more than one parent class.\n",
    "\n",
    "\n"
   ]
  },
  {
   "cell_type": "code",
   "execution_count": null,
   "metadata": {},
   "outputs": [],
   "source": [
    "class A:\n",
    "    def method_a(self):\n",
    "        print(\"Method A\")\n",
    "\n",
    "class B:\n",
    "    def method_b(self):\n",
    "        print(\"Method B\")\n",
    "\n",
    "class C(A, B):\n",
    "    def method_c(self):\n",
    "        print(\"Method C\")\n",
    "\n",
    "c_instance = C()\n",
    "c_instance.method_a()  # Output: Method A\n",
    "c_instance.method_b()  # Output: Method B\n",
    "c_instance.method_c()  # Output: Method C\n"
   ]
  },
  {
   "cell_type": "markdown",
   "metadata": {},
   "source": [
    "### 5. Method Resolution Order (MRO):\n",
    "\n",
    "In multiple inheritance, Python uses the Method Resolution Order to determine the order in which base classes are searched when calling a method."
   ]
  },
  {
   "cell_type": "code",
   "execution_count": 3,
   "metadata": {},
   "outputs": [
    {
     "name": "stdout",
     "output_type": "stream",
     "text": [
      "Method in B\n",
      "[<class '__main__.D'>, <class '__main__.B'>, <class '__main__.C'>, <class '__main__.A'>, <class 'object'>]\n"
     ]
    }
   ],
   "source": [
    "class A:\n",
    "    def method(self):\n",
    "        print(\"Method in A\")\n",
    "\n",
    "class B(A):\n",
    "    def method(self):\n",
    "        print(\"Method in B\")\n",
    "\n",
    "class C(A):\n",
    "    def method(self):\n",
    "        print(\"Method in C\")\n",
    "\n",
    "class D(B, C):\n",
    "    pass\n",
    "\n",
    "d_instance = D()\n",
    "d_instance.method()  # Output: Method in B\n",
    "print(D.mro())"
   ]
  },
  {
   "cell_type": "markdown",
   "metadata": {},
   "source": [
    "In this example, D inherits from both B and C. The MRO determines that B's method is called when d_instance.method() is invoked. You can view the MRO using the mro() method:\n"
   ]
  },
  {
   "cell_type": "markdown",
   "metadata": {},
   "source": []
  }
 ],
 "metadata": {
  "kernelspec": {
   "display_name": ".venv",
   "language": "python",
   "name": "python3"
  },
  "language_info": {
   "codemirror_mode": {
    "name": "ipython",
    "version": 3
   },
   "file_extension": ".py",
   "mimetype": "text/x-python",
   "name": "python",
   "nbconvert_exporter": "python",
   "pygments_lexer": "ipython3",
   "version": "3.13.0"
  }
 },
 "nbformat": 4,
 "nbformat_minor": 2
}
