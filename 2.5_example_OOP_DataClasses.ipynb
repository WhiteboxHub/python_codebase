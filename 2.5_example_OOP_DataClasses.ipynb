{
 "cells": [
  {
   "cell_type": "markdown",
   "metadata": {},
   "source": [
    "## Data classes\n",
    "Data classes, introduced in Python 3.7, provide a decorator and functions for automatically adding special methods to user-defined classes. This feature simplifies class creation by generating methods like __init__(), __repr__(), and __eq__() based on class attributes, reducing boilerplate code and enhancing readability. \n",
    "PYTHON DOCUMENTATION\n",
    "\n",
    "Defining a Data Class:\n",
    "\n",
    "To define a data class, use the @dataclass decorator from the dataclasses module and annotate class attributes with type hints:\n"
   ]
  },
  {
   "cell_type": "code",
   "execution_count": 1,
   "metadata": {},
   "outputs": [],
   "source": [
    "from dataclasses import dataclass\n",
    "\n",
    "@dataclass\n",
    "class InventoryItem:\n",
    "    \"\"\"Class for keeping track of an item in inventory.\"\"\"\n",
    "    name: str\n",
    "    unit_price: float\n",
    "    quantity_on_hand: int = 0\n",
    "\n",
    "    def total_cost(self) -> float:\n",
    "        return self.unit_price * self.quantity_on_hand\n"
   ]
  },
  {
   "cell_type": "markdown",
   "metadata": {},
   "source": [
    "In this example, InventoryItem is a data class with attributes name, unit_price, and quantity_on_hand. The @dataclass decorator automatically generates the __init__() method, allowing for easy instantiation:\n"
   ]
  },
  {
   "cell_type": "code",
   "execution_count": 2,
   "metadata": {},
   "outputs": [
    {
     "name": "stdout",
     "output_type": "stream",
     "text": [
      "InventoryItem(name='Widget', unit_price=3.99, quantity_on_hand=10)\n"
     ]
    }
   ],
   "source": [
    "item = InventoryItem(\"Widget\", 3.99, 10)\n",
    "print(item)  # Output: InventoryItem(name='Widget', unit_price=3.99, quantity_on_hand=10)\n"
   ]
  },
  {
   "cell_type": "markdown",
   "metadata": {},
   "source": [
    "Features of Data Classes:\n",
    "\n",
    "Automatic Method Generation: Data classes automatically generate special methods, including __init__(), __repr__(), __eq__(), and optionally __lt__(), __le__(), __gt__(), and __ge__() for ordering if specified. \n",
    "\n",
    "\n",
    "Default Values: You can assign default values to fields, and fields with default values must follow those without defaults.\n",
    "\n",
    "Immutability: By setting frozen=True in the @dataclass decorator, you can make instances immutable, preventing modification after creation.\n",
    "\n",
    "Field Metadata: The field() function allows for specifying metadata and customization of individual fields.\n",
    "\n",
    "Example with Default Values and Immutability:\n",
    "\n"
   ]
  },
  {
   "cell_type": "code",
   "execution_count": null,
   "metadata": {},
   "outputs": [],
   "source": [
    "from dataclasses import dataclass, field\n",
    "\n",
    "@dataclass(frozen=True)\n",
    "class Point:\n",
    "    x: float = field(default=0.0)\n",
    "    y: float = field(default=0.0)\n"
   ]
  },
  {
   "cell_type": "markdown",
   "metadata": {},
   "source": [
    "Here, Point is an immutable data class with default values for x and y.\n",
    "\n",
    "Benefits of Using Data Classes:\n",
    "\n",
    "Reduced Boilerplate: Eliminates the need to write repetitive code for common methods.\n",
    "\n",
    "Enhanced Readability: Provides a clear and concise way to define data structures.\n",
    "\n",
    "Improved Consistency: Ensures consistent behavior across similar classes.\n",
    "\n",
    "Considerations:\n",
    "\n",
    "Python Version: Data classes require Python 3.7 or later.\n",
    "\n",
    "Mutable Default Values: Avoid using mutable default values like lists or dictionaries directly; instead, use field(default_factory=list)."
   ]
  }
 ],
 "metadata": {
  "kernelspec": {
   "display_name": ".venv",
   "language": "python",
   "name": "python3"
  },
  "language_info": {
   "codemirror_mode": {
    "name": "ipython",
    "version": 3
   },
   "file_extension": ".py",
   "mimetype": "text/x-python",
   "name": "python",
   "nbconvert_exporter": "python",
   "pygments_lexer": "ipython3",
   "version": "3.13.0"
  }
 },
 "nbformat": 4,
 "nbformat_minor": 2
}
